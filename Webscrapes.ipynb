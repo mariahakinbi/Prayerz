{
 "cells": [
  {
   "cell_type": "code",
   "execution_count": 2,
   "metadata": {
    "collapsed": true
   },
   "outputs": [],
   "source": [
    "import bs4\n",
    "import pandas as pd\n",
    "import numpy as np\n",
    "from nltk.corpus import stopwords\n",
    "import string\n",
    "from urllib.request import urlopen as uReq\n",
    "from urllib.request import Request\n",
    "from bs4 import BeautifulSoup as soup\n",
    "import requests\n",
    "import csv\n",
    "import nltk\n",
    "from nltk import sent_tokenize\n",
    "from nltk import tokenize\n",
    "from nltk import punkt"
   ]
  },
  {
   "cell_type": "markdown",
   "metadata": {},
   "source": [
    "get prayer requests from wall and put in tsv w/ each sentence as it's own line\n",
    "\n",
    "could (click) \"load more\""
   ]
  },
  {
   "cell_type": "code",
   "execution_count": 127,
   "metadata": {
    "collapsed": true
   },
   "outputs": [],
   "source": [
    "my_url = 'http://prayer-center.upperroom.org/prayer-wall'\n",
    "hdr = {'User-Agent': 'Mozilla/5.0'}\n",
    "req = Request(my_url,headers=hdr)\n",
    "page = uReq(req)\n",
    "prayer_wall_soup = soup(page,\"html.parser\")\n",
    "prayer_wall_div_html = prayer_wall_soup.findAll(\"div\",{\"class\":\"prayer-request-body\"})\n",
    "# len(prayer_wall_div_html)"
   ]
  },
  {
   "cell_type": "code",
   "execution_count": 122,
   "metadata": {
    "collapsed": true
   },
   "outputs": [],
   "source": [
    "with open(\"separatedprayerrequests.tsv\", \"w\") as f:\n",
    "    header = \"Sentence\\n\"\n",
    "    f.write(header)\n",
    "    for ptag in prayer_wall_div_html:\n",
    "        prayer_wall_paragraph_text = ptag.get_text()\n",
    "        tokens = tokenize.sent_tokenize(prayer_wall_paragraph_text)\n",
    "        for token in tokens:\n",
    "            f.write(token + '\\n')"
   ]
  },
  {
   "cell_type": "markdown",
   "metadata": {},
   "source": [
    "get sentences from desiring God article and put in tsv"
   ]
  },
  {
   "cell_type": "code",
   "execution_count": 128,
   "metadata": {
    "collapsed": true
   },
   "outputs": [],
   "source": [
    "site= \"http://www.desiringgod.org/articles/what-do-you-pray-for-isis\"\n",
    "hdr = {'User-Agent': 'Mozilla/5.0'}\n",
    "req = Request(site,headers=hdr)\n",
    "page = uReq(req)\n",
    "prayer_article_soup = soup(page,\"html.parser\")\n",
    "prayer_article_div_html = prayer_article_soup.findAll(\"p\")\n",
    "# len(prayer_article_div_html)"
   ]
  },
  {
   "cell_type": "code",
   "execution_count": 129,
   "metadata": {
    "collapsed": true
   },
   "outputs": [],
   "source": [
    "with open(\"separatedprayerarticle1.tsv\", \"w\") as f:\n",
    "    header = \"Sentence\\n\"\n",
    "    f.write(header)\n",
    "    for ptag in prayer_article_div_html:\n",
    "        prayer_article_paragraph_text = ptag.get_text()\n",
    "        tokens = tokenize.sent_tokenize(prayer_article_paragraph_text)\n",
    "        for token in tokens:\n",
    "            f.write(token + '\\n')"
   ]
  },
  {
   "cell_type": "markdown",
   "metadata": {
    "collapsed": true
   },
   "source": [
    "second desiring God article"
   ]
  },
  {
   "cell_type": "code",
   "execution_count": 130,
   "metadata": {
    "collapsed": true
   },
   "outputs": [],
   "source": [
    "prayer_article2_site= \"http://www.desiringgod.org/articles/the-prayers-you-need-most-are-not-your-own\"\n",
    "hdr = {'User-Agent': 'Mozilla/5.0'}\n",
    "req = Request(prayer_article2_site,headers=hdr)\n",
    "page = uReq(req)\n",
    "prayer_article2_soup = soup(page,\"html.parser\")\n",
    "prayer_article2_div_html = prayer_article2_soup.findAll(\"p\")\n",
    "\n",
    "with open(\"separatedprayerarticle2.tsv\", \"w\") as f:\n",
    "    header = \"Sentence\\n\"\n",
    "    f.write(header)\n",
    "    for ptag in prayer_article2_div_html:\n",
    "        prayer_article_paragraph_text = ptag.get_text()\n",
    "        tokens = tokenize.sent_tokenize(prayer_article_paragraph_text)\n",
    "        for token in tokens:\n",
    "            f.write(token + '\\n') "
   ]
  },
  {
   "cell_type": "markdown",
   "metadata": {
    "collapsed": true
   },
   "source": [
    "third desiring God article"
   ]
  },
  {
   "cell_type": "code",
   "execution_count": 131,
   "metadata": {
    "collapsed": true
   },
   "outputs": [],
   "source": [
    "prayer_article3_site= \"http://www.desiringgod.org/articles/the-key-to-spiritual-breakthrough\"\n",
    "hdr = {'User-Agent': 'Mozilla/5.0'}\n",
    "req = Request(prayer_article3_site,headers=hdr)\n",
    "page = uReq(req)\n",
    "prayer_article3_soup = soup(page,\"html.parser\")\n",
    "prayer_article3_div_html = prayer_article3_soup.findAll(\"p\")\n",
    "\n",
    "with open(\"separatedprayer_article3.tsv\", \"w\") as f:\n",
    "    header = \"Sentence\\n\"\n",
    "    f.write(header)\n",
    "    for ptag in prayer_article3_div_html:\n",
    "        prayer_article3_paragraph_text = ptag.get_text()\n",
    "        tokens = tokenize.sent_tokenize(prayer_article3_paragraph_text)\n",
    "        for token in tokens:\n",
    "            f.write(token + '\\n') "
   ]
  },
  {
   "cell_type": "markdown",
   "metadata": {
    "collapsed": true
   },
   "source": [
    "pulling from 24/7prayer website"
   ]
  },
  {
   "cell_type": "code",
   "execution_count": 132,
   "metadata": {
    "collapsed": true
   },
   "outputs": [],
   "source": [
    "# prayer_247_site= \"https://www.24-7prayer.com/post-a-prayer\"\n",
    "# hdr = {'User-Agent': 'Mozilla/5.0'}\n",
    "# req = Request(prayer_247_site,headers=hdr)\n",
    "# page = uReq(req)\n",
    "# prayer_247_soup = soup(page,\"html.parser\")\n",
    "# prayer_247_div_html = prayer_247_soup.findAll(\"div\",{\"class\":\"tile tile-prayer\"})\n",
    "# len(prayer_247_div_html)"
   ]
  },
  {
   "cell_type": "code",
   "execution_count": null,
   "metadata": {
    "collapsed": true
   },
   "outputs": [],
   "source": [
    "# prayer_247_div_html[0].find(\"p\").get_text()"
   ]
  },
  {
   "cell_type": "code",
   "execution_count": 133,
   "metadata": {
    "collapsed": true
   },
   "outputs": [],
   "source": [
    "# with open(\"prayer247.tsv\", \"w\") as f:\n",
    "#     header = \"Prayer_Request\\n\"\n",
    "#     f.write(header)\n",
    "#     for request in prayer_247_div_html:\n",
    "#         prayer247_request = request.find(\"p\").get_text()\n",
    "#         tokens = tokenize.sent_tokenize(prayer_article3_paragraph_text)\n",
    "#         for token in tokens:\n",
    "#             f.write(token + '\\n') "
   ]
  },
  {
   "cell_type": "markdown",
   "metadata": {
    "collapsed": true
   },
   "source": [
    "pulling from kenyan newsite"
   ]
  },
  {
   "cell_type": "code",
   "execution_count": 138,
   "metadata": {
    "collapsed": true
   },
   "outputs": [],
   "source": [
    "nonprayer_article1_site= \"http://www.bbc.com/news/world-africa-40764446\"\n",
    "hdr = {'User-Agent': 'Mozilla/5.0'}\n",
    "req = Request(nonprayer_article1_site,headers=hdr)\n",
    "page = uReq(req)\n",
    "nonprayer_article_soup = soup(page,\"html.parser\")\n",
    "nonprayer_article_p = nonprayer_article_soup.findAll(\"p\")\n",
    "\n",
    "with open(\"kenya_article.tsv\", \"w\") as f:\n",
    "    header = \"Sentence\\n\"\n",
    "    f.write(header)\n",
    "    for paragraph in nonprayer_article_p:\n",
    "        nonprayer_article_text = paragraph.get_text()\n",
    "        tokens = tokenize.sent_tokenize(nonprayer_article_text)\n",
    "        for token in tokens:\n",
    "            f.write(token + '\\n')"
   ]
  },
  {
   "cell_type": "markdown",
   "metadata": {},
   "source": [
    "pulling article from medium"
   ]
  },
  {
   "cell_type": "code",
   "execution_count": 137,
   "metadata": {
    "collapsed": true
   },
   "outputs": [],
   "source": [
    "medium_site= \"https://medium.com/unthinkable-creativity/confessions-of-a-content-creator-i-dont-care-about-data-3542c2d9a3a5\"\n",
    "hdr = {'User-Agent': 'Mozilla/5.0'}\n",
    "req = Request(medium_site,headers=hdr)\n",
    "page = uReq(req)\n",
    "medium_soup = soup(page,\"html.parser\")\n",
    "medium_div_html = medium_soup.findAll(\"p\",{\"class\":\"graf graf--p graf-after--p\"})\n",
    "\n",
    "with open(\"medium.tsv\", \"w\") as f:\n",
    "    header = \"Sentence\\n\"\n",
    "    f.write(header)\n",
    "    for ptag in medium_div_html:\n",
    "        medium_ptag_text = ptag.get_text()\n",
    "#         print(medium_ptag_text)\n",
    "\n",
    "        tokens = tokenize.sent_tokenize(medium_ptag_text)\n",
    "        for token in tokens:\n",
    "            f.write(token + '\\n')\n",
    "#         f.write(token + '\\n')"
   ]
  },
  {
   "cell_type": "code",
   "execution_count": 3,
   "metadata": {},
   "outputs": [],
   "source": [
    "podcast_article_site= \"https://artplusmarketing.com/why-you-really-should-give-podcasts-a-go-f021e6588a7e\"\n",
    "hdr = {'User-Agent': 'Mozilla/5.0'}\n",
    "req = Request(podcast_article_site,headers=hdr)\n",
    "page = uReq(req)\n",
    "podcast_article_soup = soup(page,\"html.parser\")\n",
    "podcast_article_ptags = podcast_article_soup.findAll(\"p\",{\"class\":\"graf graf--p graf-after--p\"})\n",
    "\n",
    "with open(\"podcast.tsv\", \"w\") as f:\n",
    "    header = \"Sentence\\n\"\n",
    "    f.write(header)\n",
    "    for ptag in podcast_article_ptags:\n",
    "        podcast_article_text = ptag.get_text()\n",
    "#         print(medium_ptag_text)\n",
    "\n",
    "        tokens = tokenize.sent_tokenize(podcast_article_text)\n",
    "        for token in tokens:\n",
    "            f.write(token + '\\n')\n",
    "#         f.write(token + '\\n')"
   ]
  },
  {
   "cell_type": "markdown",
   "metadata": {},
   "source": [
    "pull from blog post"
   ]
  },
  {
   "cell_type": "code",
   "execution_count": 8,
   "metadata": {
    "collapsed": true
   },
   "outputs": [],
   "source": [
    "blog_site= \"http://matpalm.com/blog/farewell/\"\n",
    "hdr = {'User-Agent': 'Mozilla/5.0'}\n",
    "req = Request(blog_site,headers=hdr)\n",
    "page = uReq(req)\n",
    "blog_soup = soup(page,\"html.parser\")\n",
    "blog_ptags = blog_soup.findAll(\"div\",{\"class\":\"post_prose\"})"
   ]
  },
  {
   "cell_type": "code",
   "execution_count": null,
   "metadata": {},
   "outputs": [],
   "source": []
  },
  {
   "cell_type": "code",
   "execution_count": 12,
   "metadata": {},
   "outputs": [
    {
     "name": "stdout",
     "output_type": "stream",
     "text": [
      "[<div class=\"post_prose\">\n",
      "<p>after 2,350 days in america we are moving home...</p>\n",
      "<p>as crazy as it might sound, careerwise at least, i'm leaving google brain and we're moving back to australia. #sad<strike>Panda</strike>Kangaroo. it's been a super fun 6 years in the US but our move was never going to be permanent and it feels like now is the right time for the family. believe me it's hard to leave a joint google brain / X robotics project involving deep reinforcement learning robots. hard i say!</p>\n",
      "<p>where will we be going?  back to melbourne where we lived for the 6 years prior to coming here. we're keen to try something different so we've bought a farm about an hour out of the city. my wife and i both grew up in semi rural settings so we have some idea of what to expect. our kids are excited their backyard is about to grow by a factor of x250.</p>\n",
      "<p>what will i be doing?  i actually have no idea. i'm a pretty applied person, as opposed to a hardcore researcher, and have experience in a range of areas so my resume looks ok ( even if <a href=\"https://www.linkedin.com/in/matkelcey/\">my linkedin avatar is the i-have-no-idea-what-im-doing-dog</a> ) some recent robotics experience + lots of machine learning + moving to a farm might result in some interesting ideas. remote work is also a strong possibility; i think there is value i could add to a number of US companies even from across the ocean. to be honest i haven't thought about it too much yet, want to focus on getting everyone home as smoothly as possible first.</p>\n",
      "<p>what's the tech scene like in melbourne?  seemed fun when i was there, lots of smart people and i think interest in machine learning has only been growing. the tech talk i did at our little data science group just before moving here was half a dozen people, the tech talk i did in melbourne about 1 year ago was hundreds of people. when i did neural networks at uni in the late 90s it was embarrassing for the next 10 years to talk about it but these days it seems everyone is wanting to use them in some form. </p>\n",
      "<p>we have about 7 weeks before we leave the bay area so i hope i get to catch up with everyone before we go! beers in the city sometime soon!</p>\n",
      "</div>]\n"
     ]
    }
   ],
   "source": [
    "print(blog_ptags)"
   ]
  },
  {
   "cell_type": "code",
   "execution_count": 13,
   "metadata": {},
   "outputs": [
    {
     "ename": "AttributeError",
     "evalue": "ResultSet object has no attribute 'find'. You're probably treating a list of items like a single item. Did you call find_all() when you meant to call find()?",
     "output_type": "error",
     "traceback": [
      "\u001b[0;31m---------------------------------------------------------------------------\u001b[0m",
      "\u001b[0;31mAttributeError\u001b[0m                            Traceback (most recent call last)",
      "\u001b[0;32m<ipython-input-13-978a5e185174>\u001b[0m in \u001b[0;36m<module>\u001b[0;34m()\u001b[0m\n\u001b[0;32m----> 1\u001b[0;31m \u001b[0mblog_ptags\u001b[0m\u001b[0;34m.\u001b[0m\u001b[0mfind\u001b[0m\u001b[0;34m(\u001b[0m\u001b[0;34m'p'\u001b[0m\u001b[0;34m)\u001b[0m\u001b[0;34m\u001b[0m\u001b[0m\n\u001b[0m",
      "\u001b[0;32m~/miniconda3/lib/python3.6/site-packages/bs4/element.py\u001b[0m in \u001b[0;36m__getattr__\u001b[0;34m(self, key)\u001b[0m\n\u001b[1;32m   1805\u001b[0m     \u001b[0;32mdef\u001b[0m \u001b[0m__getattr__\u001b[0m\u001b[0;34m(\u001b[0m\u001b[0mself\u001b[0m\u001b[0;34m,\u001b[0m \u001b[0mkey\u001b[0m\u001b[0;34m)\u001b[0m\u001b[0;34m:\u001b[0m\u001b[0;34m\u001b[0m\u001b[0m\n\u001b[1;32m   1806\u001b[0m         raise AttributeError(\n\u001b[0;32m-> 1807\u001b[0;31m             \u001b[0;34m\"ResultSet object has no attribute '%s'. You're probably treating a list of items like a single item. Did you call find_all() when you meant to call find()?\"\u001b[0m \u001b[0;34m%\u001b[0m \u001b[0mkey\u001b[0m\u001b[0;34m\u001b[0m\u001b[0m\n\u001b[0m\u001b[1;32m   1808\u001b[0m         )\n",
      "\u001b[0;31mAttributeError\u001b[0m: ResultSet object has no attribute 'find'. You're probably treating a list of items like a single item. Did you call find_all() when you meant to call find()?"
     ]
    }
   ],
   "source": []
  },
  {
   "cell_type": "code",
   "execution_count": null,
   "metadata": {
    "collapsed": true
   },
   "outputs": [],
   "source": [
    "with open(\"blog.tsv\", \"w\") as f:\n",
    "    header = \"Sentence\\n\"\n",
    "    f.write(header)\n",
    "    for ptag in blog_ptags:\n",
    "        blog_text = ptag.get_text()\n",
    "#         print(medium_ptag_text)\n",
    "\n",
    "        tokens = tokenize.sent_tokenize(blog_text)\n",
    "        for token in tokens:\n",
    "            f.write(token + '\\n')\n",
    "#         f.write(token + '\\n')"
   ]
  },
  {
   "cell_type": "markdown",
   "metadata": {},
   "source": [
    "really had to read documentation for csv.writer, tokeniz.sent_tokenize,csv.writerow, csv.writerows"
   ]
  },
  {
   "cell_type": "code",
   "execution_count": 136,
   "metadata": {
    "collapsed": true
   },
   "outputs": [],
   "source": [
    "# with open('prayer_article3.tsv','r') as tsvin, open('new.tsv', 'w') as csvout:\n",
    "#     tsvin = csv.reader(tsvin, delimiter='\\t')\n",
    "#     csvout = csv.writer(csvout)\n",
    "\n",
    "#     for row in tsvin:\n",
    "#         str1 = ''.join(row)\n",
    "#         sentence = tokenize.sent_tokenize(str1)\n",
    "#         csvout.writerows(sentence)"
   ]
  },
  {
   "cell_type": "code",
   "execution_count": null,
   "metadata": {
    "collapsed": true
   },
   "outputs": [],
   "source": []
  },
  {
   "cell_type": "code",
   "execution_count": null,
   "metadata": {
    "collapsed": true
   },
   "outputs": [],
   "source": []
  },
  {
   "cell_type": "code",
   "execution_count": null,
   "metadata": {
    "collapsed": true
   },
   "outputs": [],
   "source": []
  },
  {
   "cell_type": "code",
   "execution_count": null,
   "metadata": {
    "collapsed": true
   },
   "outputs": [],
   "source": []
  },
  {
   "cell_type": "code",
   "execution_count": null,
   "metadata": {
    "collapsed": true
   },
   "outputs": [],
   "source": []
  },
  {
   "cell_type": "code",
   "execution_count": null,
   "metadata": {
    "collapsed": true
   },
   "outputs": [],
   "source": []
  },
  {
   "cell_type": "code",
   "execution_count": null,
   "metadata": {
    "collapsed": true
   },
   "outputs": [],
   "source": []
  },
  {
   "cell_type": "code",
   "execution_count": null,
   "metadata": {
    "collapsed": true
   },
   "outputs": [],
   "source": []
  },
  {
   "cell_type": "code",
   "execution_count": 115,
   "metadata": {
    "collapsed": true
   },
   "outputs": [],
   "source": [
    "       "
   ]
  },
  {
   "cell_type": "code",
   "execution_count": null,
   "metadata": {
    "collapsed": true
   },
   "outputs": [],
   "source": []
  },
  {
   "cell_type": "code",
   "execution_count": null,
   "metadata": {
    "collapsed": true
   },
   "outputs": [],
   "source": []
  },
  {
   "cell_type": "code",
   "execution_count": null,
   "metadata": {
    "collapsed": true
   },
   "outputs": [],
   "source": []
  },
  {
   "cell_type": "code",
   "execution_count": 109,
   "metadata": {
    "collapsed": true
   },
   "outputs": [],
   "source": []
  },
  {
   "cell_type": "code",
   "execution_count": null,
   "metadata": {
    "collapsed": true
   },
   "outputs": [],
   "source": []
  },
  {
   "cell_type": "code",
   "execution_count": 89,
   "metadata": {
    "collapsed": true
   },
   "outputs": [],
   "source": []
  },
  {
   "cell_type": "code",
   "execution_count": null,
   "metadata": {
    "collapsed": true
   },
   "outputs": [],
   "source": []
  },
  {
   "cell_type": "code",
   "execution_count": null,
   "metadata": {
    "collapsed": true
   },
   "outputs": [],
   "source": []
  },
  {
   "cell_type": "code",
   "execution_count": null,
   "metadata": {
    "collapsed": true
   },
   "outputs": [],
   "source": []
  },
  {
   "cell_type": "code",
   "execution_count": null,
   "metadata": {
    "collapsed": true
   },
   "outputs": [],
   "source": []
  },
  {
   "cell_type": "code",
   "execution_count": 88,
   "metadata": {
    "collapsed": true
   },
   "outputs": [],
   "source": []
  },
  {
   "cell_type": "code",
   "execution_count": 84,
   "metadata": {
    "collapsed": true
   },
   "outputs": [],
   "source": []
  },
  {
   "cell_type": "code",
   "execution_count": null,
   "metadata": {
    "collapsed": true
   },
   "outputs": [],
   "source": []
  },
  {
   "cell_type": "code",
   "execution_count": 86,
   "metadata": {
    "collapsed": true
   },
   "outputs": [],
   "source": []
  },
  {
   "cell_type": "code",
   "execution_count": 87,
   "metadata": {},
   "outputs": [
    {
     "name": "stdout",
     "output_type": "stream",
     "text": [
      "\n"
     ]
    }
   ],
   "source": []
  },
  {
   "cell_type": "code",
   "execution_count": null,
   "metadata": {
    "collapsed": true
   },
   "outputs": [],
   "source": []
  },
  {
   "cell_type": "code",
   "execution_count": null,
   "metadata": {
    "collapsed": true
   },
   "outputs": [],
   "source": []
  },
  {
   "cell_type": "code",
   "execution_count": null,
   "metadata": {
    "collapsed": true
   },
   "outputs": [],
   "source": []
  },
  {
   "cell_type": "code",
   "execution_count": null,
   "metadata": {
    "collapsed": true
   },
   "outputs": [],
   "source": []
  },
  {
   "cell_type": "code",
   "execution_count": null,
   "metadata": {
    "collapsed": true
   },
   "outputs": [],
   "source": []
  },
  {
   "cell_type": "code",
   "execution_count": null,
   "metadata": {
    "collapsed": true
   },
   "outputs": [],
   "source": []
  },
  {
   "cell_type": "code",
   "execution_count": 2,
   "metadata": {
    "collapsed": true
   },
   "outputs": [],
   "source": []
  },
  {
   "cell_type": "code",
   "execution_count": 8,
   "metadata": {
    "collapsed": true
   },
   "outputs": [],
   "source": []
  },
  {
   "cell_type": "code",
   "execution_count": 4,
   "metadata": {
    "collapsed": true
   },
   "outputs": [],
   "source": []
  },
  {
   "cell_type": "code",
   "execution_count": null,
   "metadata": {
    "collapsed": true
   },
   "outputs": [],
   "source": []
  },
  {
   "cell_type": "code",
   "execution_count": 43,
   "metadata": {
    "collapsed": true
   },
   "outputs": [],
   "source": []
  },
  {
   "cell_type": "code",
   "execution_count": null,
   "metadata": {
    "collapsed": true
   },
   "outputs": [],
   "source": [
    "#     for row in tsvin:\n",
    "#         str1 = ''.join(row)\n",
    "#         sentence = tokenize.sent_tokenize(str1)\n",
    "#         csvout.writerows(sentence)"
   ]
  },
  {
   "cell_type": "code",
   "execution_count": 98,
   "metadata": {
    "collapsed": true
   },
   "outputs": [],
   "source": [
    "# with open(\"prayer_article1_stripped.tsv\", \"w\") as f:\n",
    "#     header = \"Paragraph\\n\"\n",
    "#     f.write(header)\n",
    "#     for x in prayer_article_div_html:\n",
    "#         just_article = x.find('p').text\n",
    "#         f.write(just_article + '\\n')"
   ]
  },
  {
   "cell_type": "code",
   "execution_count": null,
   "metadata": {
    "collapsed": true
   },
   "outputs": [],
   "source": [
    "#from urllib.requests import Request"
   ]
  }
 ],
 "metadata": {
  "kernelspec": {
   "display_name": "Python 3",
   "language": "python",
   "name": "python3"
  },
  "language_info": {
   "codemirror_mode": {
    "name": "ipython",
    "version": 3
   },
   "file_extension": ".py",
   "mimetype": "text/x-python",
   "name": "python",
   "nbconvert_exporter": "python",
   "pygments_lexer": "ipython3",
   "version": "3.6.1"
  }
 },
 "nbformat": 4,
 "nbformat_minor": 2
}
