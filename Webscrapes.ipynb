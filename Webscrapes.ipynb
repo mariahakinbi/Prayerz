{
 "cells": [
  {
   "cell_type": "code",
   "execution_count": 119,
   "metadata": {},
   "outputs": [],
   "source": [
    "import bs4\n",
    "import pandas as pd\n",
    "import numpy as np\n",
    "from nltk.corpus import stopwords\n",
    "import string\n",
    "from urllib.request import urlopen as uReq\n",
    "from urllib.request import Request\n",
    "from bs4 import BeautifulSoup as soup\n",
    "import requests\n",
    "import csv\n",
    "import nltk\n",
    "from nltk import sent_tokenize\n",
    "from nltk import tokenize\n",
    "from nltk import punkt"
   ]
  },
  {
   "cell_type": "markdown",
   "metadata": {},
   "source": [
    "get prayer requests from wall and put in tsv w/ each sentence as it's own line\n",
    "\n",
    "could (click) \"load more\""
   ]
  },
  {
   "cell_type": "code",
   "execution_count": 127,
   "metadata": {},
   "outputs": [],
   "source": [
    "my_url = 'http://prayer-center.upperroom.org/prayer-wall'\n",
    "hdr = {'User-Agent': 'Mozilla/5.0'}\n",
    "req = Request(my_url,headers=hdr)\n",
    "page = uReq(req)\n",
    "prayer_wall_soup = soup(page,\"html.parser\")\n",
    "prayer_wall_div_html = prayer_wall_soup.findAll(\"div\",{\"class\":\"prayer-request-body\"})\n",
    "# len(prayer_wall_div_html)"
   ]
  },
  {
   "cell_type": "code",
   "execution_count": 122,
   "metadata": {
    "collapsed": true
   },
   "outputs": [],
   "source": [
    "with open(\"separatedprayerrequests.tsv\", \"w\") as f:\n",
    "    header = \"Sentence\\n\"\n",
    "    f.write(header)\n",
    "    for ptag in prayer_wall_div_html:\n",
    "        prayer_wall_paragraph_text = ptag.get_text()\n",
    "        tokens = tokenize.sent_tokenize(prayer_wall_paragraph_text)\n",
    "        for token in tokens:\n",
    "            f.write(token + '\\n')"
   ]
  },
  {
   "cell_type": "markdown",
   "metadata": {},
   "source": [
    "get sentences from desiring God article and put in tsv"
   ]
  },
  {
   "cell_type": "code",
   "execution_count": 128,
   "metadata": {},
   "outputs": [],
   "source": [
    "site= \"http://www.desiringgod.org/articles/what-do-you-pray-for-isis\"\n",
    "hdr = {'User-Agent': 'Mozilla/5.0'}\n",
    "req = Request(site,headers=hdr)\n",
    "page = uReq(req)\n",
    "prayer_article_soup = soup(page,\"html.parser\")\n",
    "prayer_article_div_html = prayer_article_soup.findAll(\"p\")\n",
    "# len(prayer_article_div_html)"
   ]
  },
  {
   "cell_type": "code",
   "execution_count": 129,
   "metadata": {
    "collapsed": true
   },
   "outputs": [],
   "source": [
    "with open(\"separatedprayerarticle1.tsv\", \"w\") as f:\n",
    "    header = \"Sentence\\n\"\n",
    "    f.write(header)\n",
    "    for ptag in prayer_article_div_html:\n",
    "        prayer_article_paragraph_text = ptag.get_text()\n",
    "        tokens = tokenize.sent_tokenize(prayer_article_paragraph_text)\n",
    "        for token in tokens:\n",
    "            f.write(token + '\\n')"
   ]
  },
  {
   "cell_type": "markdown",
   "metadata": {
    "collapsed": true
   },
   "source": [
    "second desiring God article"
   ]
  },
  {
   "cell_type": "code",
   "execution_count": 130,
   "metadata": {
    "collapsed": true
   },
   "outputs": [],
   "source": [
    "prayer_article2_site= \"http://www.desiringgod.org/articles/the-prayers-you-need-most-are-not-your-own\"\n",
    "hdr = {'User-Agent': 'Mozilla/5.0'}\n",
    "req = Request(prayer_article2_site,headers=hdr)\n",
    "page = uReq(req)\n",
    "prayer_article2_soup = soup(page,\"html.parser\")\n",
    "prayer_article2_div_html = prayer_article2_soup.findAll(\"p\")\n",
    "\n",
    "with open(\"separatedprayerarticle2.tsv\", \"w\") as f:\n",
    "    header = \"Sentence\\n\"\n",
    "    f.write(header)\n",
    "    for ptag in prayer_article2_div_html:\n",
    "        prayer_article_paragraph_text = ptag.get_text()\n",
    "        tokens = tokenize.sent_tokenize(prayer_article_paragraph_text)\n",
    "        for token in tokens:\n",
    "            f.write(token + '\\n') "
   ]
  },
  {
   "cell_type": "markdown",
   "metadata": {
    "collapsed": true
   },
   "source": [
    "third desiring God article"
   ]
  },
  {
   "cell_type": "code",
   "execution_count": 131,
   "metadata": {
    "collapsed": true
   },
   "outputs": [],
   "source": [
    "prayer_article3_site= \"http://www.desiringgod.org/articles/the-key-to-spiritual-breakthrough\"\n",
    "hdr = {'User-Agent': 'Mozilla/5.0'}\n",
    "req = Request(prayer_article3_site,headers=hdr)\n",
    "page = uReq(req)\n",
    "prayer_article3_soup = soup(page,\"html.parser\")\n",
    "prayer_article3_div_html = prayer_article3_soup.findAll(\"p\")\n",
    "\n",
    "with open(\"separatedprayer_article3.tsv\", \"w\") as f:\n",
    "    header = \"Sentence\\n\"\n",
    "    f.write(header)\n",
    "    for ptag in prayer_article3_div_html:\n",
    "        prayer_article3_paragraph_text = ptag.get_text()\n",
    "        tokens = tokenize.sent_tokenize(prayer_article3_paragraph_text)\n",
    "        for token in tokens:\n",
    "            f.write(token + '\\n') "
   ]
  },
  {
   "cell_type": "markdown",
   "metadata": {
    "collapsed": true
   },
   "source": [
    "pulling from 24/7prayer website"
   ]
  },
  {
   "cell_type": "code",
   "execution_count": 132,
   "metadata": {},
   "outputs": [],
   "source": [
    "# prayer_247_site= \"https://www.24-7prayer.com/post-a-prayer\"\n",
    "# hdr = {'User-Agent': 'Mozilla/5.0'}\n",
    "# req = Request(prayer_247_site,headers=hdr)\n",
    "# page = uReq(req)\n",
    "# prayer_247_soup = soup(page,\"html.parser\")\n",
    "# prayer_247_div_html = prayer_247_soup.findAll(\"div\",{\"class\":\"tile tile-prayer\"})\n",
    "# len(prayer_247_div_html)"
   ]
  },
  {
   "cell_type": "code",
   "execution_count": null,
   "metadata": {
    "collapsed": true
   },
   "outputs": [],
   "source": [
    "# prayer_247_div_html[0].find(\"p\").get_text()"
   ]
  },
  {
   "cell_type": "code",
   "execution_count": 133,
   "metadata": {},
   "outputs": [],
   "source": [
    "# with open(\"prayer247.tsv\", \"w\") as f:\n",
    "#     header = \"Prayer_Request\\n\"\n",
    "#     f.write(header)\n",
    "#     for request in prayer_247_div_html:\n",
    "#         prayer247_request = request.find(\"p\").get_text()\n",
    "#         tokens = tokenize.sent_tokenize(prayer_article3_paragraph_text)\n",
    "#         for token in tokens:\n",
    "#             f.write(token + '\\n') "
   ]
  },
  {
   "cell_type": "markdown",
   "metadata": {
    "collapsed": true
   },
   "source": [
    "pulling from kenyan newsite"
   ]
  },
  {
   "cell_type": "code",
   "execution_count": 138,
   "metadata": {},
   "outputs": [],
   "source": [
    "nonprayer_article1_site= \"http://www.bbc.com/news/world-africa-40764446\"\n",
    "hdr = {'User-Agent': 'Mozilla/5.0'}\n",
    "req = Request(nonprayer_article1_site,headers=hdr)\n",
    "page = uReq(req)\n",
    "nonprayer_article_soup = soup(page,\"html.parser\")\n",
    "nonprayer_article_p = nonprayer_article_soup.findAll(\"p\")\n",
    "\n",
    "with open(\"kenya_article.tsv\", \"w\") as f:\n",
    "    header = \"Sentence\\n\"\n",
    "    f.write(header)\n",
    "    for paragraph in nonprayer_article_p:\n",
    "        nonprayer_article_text = paragraph.get_text()\n",
    "        tokens = tokenize.sent_tokenize(nonprayer_article_text)\n",
    "        for token in tokens:\n",
    "            f.write(token + '\\n')"
   ]
  },
  {
   "cell_type": "markdown",
   "metadata": {},
   "source": [
    "pulling article from medium"
   ]
  },
  {
   "cell_type": "code",
   "execution_count": 137,
   "metadata": {},
   "outputs": [],
   "source": [
    "medium_site= \"https://medium.com/unthinkable-creativity/confessions-of-a-content-creator-i-dont-care-about-data-3542c2d9a3a5\"\n",
    "hdr = {'User-Agent': 'Mozilla/5.0'}\n",
    "req = Request(medium_site,headers=hdr)\n",
    "page = uReq(req)\n",
    "medium_soup = soup(page,\"html.parser\")\n",
    "medium_div_html = medium_soup.findAll(\"p\",{\"class\":\"graf graf--p graf-after--p\"})\n",
    "\n",
    "with open(\"medium.tsv\", \"w\") as f:\n",
    "    header = \"Sentence\\n\"\n",
    "    f.write(header)\n",
    "    for ptag in medium_div_html:\n",
    "        medium_ptag_text = ptag.get_text()\n",
    "#         print(medium_ptag_text)\n",
    "\n",
    "        tokens = tokenize.sent_tokenize(medium_ptag_text)\n",
    "        for token in tokens:\n",
    "            f.write(token + '\\n')\n",
    "#         f.write(token + '\\n')"
   ]
  },
  {
   "cell_type": "markdown",
   "metadata": {},
   "source": [
    "really had to read documentation for csv.writer, tokeniz.sent_tokenize,csv.writerow, csv.writerows"
   ]
  },
  {
   "cell_type": "code",
   "execution_count": 136,
   "metadata": {
    "collapsed": true
   },
   "outputs": [],
   "source": [
    "# with open('prayer_article3.tsv','r') as tsvin, open('new.tsv', 'w') as csvout:\n",
    "#     tsvin = csv.reader(tsvin, delimiter='\\t')\n",
    "#     csvout = csv.writer(csvout)\n",
    "\n",
    "#     for row in tsvin:\n",
    "#         str1 = ''.join(row)\n",
    "#         sentence = tokenize.sent_tokenize(str1)\n",
    "#         csvout.writerows(sentence)"
   ]
  },
  {
   "cell_type": "code",
   "execution_count": null,
   "metadata": {},
   "outputs": [],
   "source": []
  },
  {
   "cell_type": "code",
   "execution_count": null,
   "metadata": {},
   "outputs": [],
   "source": []
  },
  {
   "cell_type": "code",
   "execution_count": null,
   "metadata": {
    "collapsed": true
   },
   "outputs": [],
   "source": []
  },
  {
   "cell_type": "code",
   "execution_count": null,
   "metadata": {
    "collapsed": true
   },
   "outputs": [],
   "source": []
  },
  {
   "cell_type": "code",
   "execution_count": null,
   "metadata": {
    "collapsed": true
   },
   "outputs": [],
   "source": []
  },
  {
   "cell_type": "code",
   "execution_count": null,
   "metadata": {
    "collapsed": true
   },
   "outputs": [],
   "source": []
  },
  {
   "cell_type": "code",
   "execution_count": null,
   "metadata": {
    "collapsed": true
   },
   "outputs": [],
   "source": []
  },
  {
   "cell_type": "code",
   "execution_count": null,
   "metadata": {
    "collapsed": true
   },
   "outputs": [],
   "source": []
  },
  {
   "cell_type": "code",
   "execution_count": 115,
   "metadata": {
    "collapsed": true
   },
   "outputs": [],
   "source": [
    "       "
   ]
  },
  {
   "cell_type": "code",
   "execution_count": null,
   "metadata": {
    "collapsed": true
   },
   "outputs": [],
   "source": []
  },
  {
   "cell_type": "code",
   "execution_count": null,
   "metadata": {},
   "outputs": [],
   "source": []
  },
  {
   "cell_type": "code",
   "execution_count": null,
   "metadata": {},
   "outputs": [],
   "source": []
  },
  {
   "cell_type": "code",
   "execution_count": 109,
   "metadata": {
    "collapsed": true
   },
   "outputs": [],
   "source": []
  },
  {
   "cell_type": "code",
   "execution_count": null,
   "metadata": {},
   "outputs": [],
   "source": []
  },
  {
   "cell_type": "code",
   "execution_count": 89,
   "metadata": {
    "collapsed": true
   },
   "outputs": [],
   "source": []
  },
  {
   "cell_type": "code",
   "execution_count": null,
   "metadata": {},
   "outputs": [],
   "source": []
  },
  {
   "cell_type": "code",
   "execution_count": null,
   "metadata": {},
   "outputs": [],
   "source": []
  },
  {
   "cell_type": "code",
   "execution_count": null,
   "metadata": {
    "collapsed": true
   },
   "outputs": [],
   "source": []
  },
  {
   "cell_type": "code",
   "execution_count": null,
   "metadata": {},
   "outputs": [],
   "source": []
  },
  {
   "cell_type": "code",
   "execution_count": 88,
   "metadata": {},
   "outputs": [],
   "source": []
  },
  {
   "cell_type": "code",
   "execution_count": 84,
   "metadata": {},
   "outputs": [],
   "source": []
  },
  {
   "cell_type": "code",
   "execution_count": null,
   "metadata": {},
   "outputs": [],
   "source": []
  },
  {
   "cell_type": "code",
   "execution_count": 86,
   "metadata": {},
   "outputs": [],
   "source": []
  },
  {
   "cell_type": "code",
   "execution_count": 87,
   "metadata": {},
   "outputs": [
    {
     "name": "stdout",
     "output_type": "stream",
     "text": [
      "\n"
     ]
    }
   ],
   "source": []
  },
  {
   "cell_type": "code",
   "execution_count": null,
   "metadata": {
    "collapsed": true
   },
   "outputs": [],
   "source": []
  },
  {
   "cell_type": "code",
   "execution_count": null,
   "metadata": {
    "collapsed": true
   },
   "outputs": [],
   "source": []
  },
  {
   "cell_type": "code",
   "execution_count": null,
   "metadata": {
    "collapsed": true
   },
   "outputs": [],
   "source": []
  },
  {
   "cell_type": "code",
   "execution_count": null,
   "metadata": {
    "collapsed": true
   },
   "outputs": [],
   "source": []
  },
  {
   "cell_type": "code",
   "execution_count": null,
   "metadata": {},
   "outputs": [],
   "source": []
  },
  {
   "cell_type": "code",
   "execution_count": null,
   "metadata": {},
   "outputs": [],
   "source": []
  },
  {
   "cell_type": "code",
   "execution_count": 2,
   "metadata": {
    "collapsed": true
   },
   "outputs": [],
   "source": []
  },
  {
   "cell_type": "code",
   "execution_count": 8,
   "metadata": {
    "collapsed": true
   },
   "outputs": [],
   "source": []
  },
  {
   "cell_type": "code",
   "execution_count": 4,
   "metadata": {},
   "outputs": [],
   "source": []
  },
  {
   "cell_type": "code",
   "execution_count": null,
   "metadata": {},
   "outputs": [],
   "source": []
  },
  {
   "cell_type": "code",
   "execution_count": 43,
   "metadata": {},
   "outputs": [],
   "source": []
  },
  {
   "cell_type": "code",
   "execution_count": null,
   "metadata": {
    "collapsed": true
   },
   "outputs": [],
   "source": [
    "#     for row in tsvin:\n",
    "#         str1 = ''.join(row)\n",
    "#         sentence = tokenize.sent_tokenize(str1)\n",
    "#         csvout.writerows(sentence)"
   ]
  },
  {
   "cell_type": "code",
   "execution_count": 98,
   "metadata": {
    "collapsed": true
   },
   "outputs": [],
   "source": [
    "# with open(\"prayer_article1_stripped.tsv\", \"w\") as f:\n",
    "#     header = \"Paragraph\\n\"\n",
    "#     f.write(header)\n",
    "#     for x in prayer_article_div_html:\n",
    "#         just_article = x.find('p').text\n",
    "#         f.write(just_article + '\\n')"
   ]
  },
  {
   "cell_type": "code",
   "execution_count": null,
   "metadata": {
    "collapsed": true
   },
   "outputs": [],
   "source": [
    "#from urllib.requests import Request"
   ]
  }
 ],
 "metadata": {
  "kernelspec": {
   "display_name": "Python 3",
   "language": "python",
   "name": "python3"
  },
  "language_info": {
   "codemirror_mode": {
    "name": "ipython",
    "version": 3
   },
   "file_extension": ".py",
   "mimetype": "text/x-python",
   "name": "python",
   "nbconvert_exporter": "python",
   "pygments_lexer": "ipython3",
   "version": "3.6.1"
  }
 },
 "nbformat": 4,
 "nbformat_minor": 2
}
