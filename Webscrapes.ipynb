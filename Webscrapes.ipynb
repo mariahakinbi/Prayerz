{
 "cells": [
  {
   "cell_type": "code",
   "execution_count": 1,
   "metadata": {
    "collapsed": true
   },
   "outputs": [],
   "source": [
    "import bs4\n",
    "import pandas as pd\n",
    "import numpy as np\n",
    "from nltk.corpus import stopwords\n",
    "import string\n",
    "from urllib.request import urlopen as uReq\n",
    "from urllib.request import Request\n",
    "from bs4 import BeautifulSoup as soup\n",
    "# import requests\n",
    "import csv\n",
    "import nltk\n",
    "from nltk import sent_tokenize\n",
    "from nltk import tokenize\n",
    "from nltk import punkt"
   ]
  },
  {
   "cell_type": "code",
   "execution_count": null,
   "metadata": {
    "collapsed": true
   },
   "outputs": [],
   "source": [
    "def get_soup(link):\n",
    "    hdr = {'User-Agent': 'Mozilla/5.0'}\n",
    "    req = Request(link,headers=hdr)\n",
    "    page = uReq(req)\n",
    "    the_soup = soup(page,\"html.parser\")\n",
    "    return the_soup"
   ]
  },
  {
   "cell_type": "code",
   "execution_count": null,
   "metadata": {
    "collapsed": true
   },
   "outputs": [],
   "source": [
    "def make_tsv(messy_html,new_filename):\n",
    "    with open(new_filename, \"w\") as f:\n",
    "        header = \"Sentence\\n\"\n",
    "        f.write(header)\n",
    "        for tag in messy_html:\n",
    "            paragraph_text = tag.get_text()\n",
    "            tokens = tokenize.sent_tokenize(paragraph_text)\n",
    "            for token in tokens:\n",
    "                f.write(token + '\\n')"
   ]
  },
  {
   "cell_type": "markdown",
   "metadata": {},
   "source": [
    "pull results page from Desiring God"
   ]
  },
  {
   "cell_type": "code",
   "execution_count": 46,
   "metadata": {
    "collapsed": true
   },
   "outputs": [],
   "source": [
    "results_link = 'http://www.desiringgod.org/search/results?utf8=✓&q=prayer#gsc.tab=0&gsc.q=prayer&gsc.page=1'"
   ]
  },
  {
   "cell_type": "code",
   "execution_count": 47,
   "metadata": {
    "collapsed": true
   },
   "outputs": [],
   "source": [
    "links = []"
   ]
  },
  {
   "cell_type": "code",
   "execution_count": 51,
   "metadata": {},
   "outputs": [],
   "source": [
    "import requests"
   ]
  },
  {
   "cell_type": "code",
   "execution_count": 54,
   "metadata": {},
   "outputs": [],
   "source": [
    "hey = requests.get(results_link)"
   ]
  },
  {
   "cell_type": "code",
   "execution_count": 55,
   "metadata": {
    "collapsed": true
   },
   "outputs": [],
   "source": [
    "contents_of_hey = hey.content"
   ]
  },
  {
   "cell_type": "code",
   "execution_count": null,
   "metadata": {},
   "outputs": [],
   "source": []
  },
  {
   "cell_type": "code",
   "execution_count": 57,
   "metadata": {},
   "outputs": [],
   "source": [
    "DG_results_soup = soup(contents_of_hey,\"html.parser\")"
   ]
  },
  {
   "cell_type": "code",
   "execution_count": 67,
   "metadata": {},
   "outputs": [
    {
     "name": "stdout",
     "output_type": "stream",
     "text": [
      "<!DOCTYPE html>\n",
      "\n",
      "<html class=\"no-js\" dir=\"ltr\" lang=\"en\">\n",
      "<head>\n",
      "<title>\n",
      "Search | Desiring God\n",
      "</title>\n",
      "<meta content=\"width=device-width, initial-scale=1, maximum-scale=1, user-scalable=0\" name=\"viewport\"/>\n",
      "<meta content=\"authenticity_token\" name=\"csrf-param\">\n",
      "<meta content=\"noX2nNr/1FMisG4jO9//yDPi9smcXiTPqne0qziazt0=\" name=\"csrf-token\"/>\n",
      "<link href=\"https://www.desiringgod.org/client/application-7d5a16e8b40d3b360e89.css\" media=\"all\" rel=\"stylesheet\"/>\n",
      "<script defer=\"defer\" src=\"https://www.desiringgod.org/client/application-135dce0f8505331f1287.js\"></script>\n",
      "<script data-turbolinks-track=\"true\" src=\"https://www.desiringgod.org/assets/2/application-9d7cff17b848210983219e9ebc3048147a1a7d4daf2f74a140e8591b41d139d0.js\"></script>\n",
      "<link href=\"http://www.desiringgod.org/search/results\" rel=\"canonical\"/>\n",
      "<meta content=\"ef4cefa7bbe488db0cca8f4d6a9be146\" name=\"p:domain_verify\"/>\n",
      "<meta content=\"tZIb2aDts_msh2NgAQHPPExGlPxxavHA30DscdTJ6Oc\" name=\"google-site-verification\"/>\n",
      "<!-- Hotjar Tracking Code for www.desiringgod.org -->\n",
      "<script>\r\n",
      "    (function(h,o,t,j,a,r){\r\n",
      "        h.hj=h.hj||function(){(h.hj.q=h.hj.q||[]).push(arguments)};\r\n",
      "        h._hjSettings={hjid:9380,hjsv:5};\r\n",
      "        a=o.getElementsByTagName('head')[0];\r\n",
      "        r=o.createElement('script');r.async=1;\r\n",
      "        r.src=t+h._hjSettings.hjid+j+h._hjSettings.hjsv;\r\n",
      "        a.appendChild(r);\r\n",
      "    })(window,document,'//static.hotjar.com/c/hotjar-','.js?sv=');\r\n",
      "</script>\n",
      "<!-- Facebook Pixel Code -->\n",
      "<script>!function(f,b,e,v,n,t,s){if(f.fbq)return;n=f.fbq=function(){n.callMethod?n.callMethod.apply(n,arguments):n.queue.push(arguments)};if(!f._fbq)f._fbq=n;n.push=n;n.loaded=!0;n.version='2.0';n.queue=[];t=b.createElement(e);t.async=!0;t.src=v;s=b.getElementsByTagName(e)[0];s.parentNode.insertBefore(t,s)}(window,document,'script','https://connect.facebook.net/en_US/fbevents.js'); fbq('init', '861907177255490'); fbq('track', 'PageView');</script>\n",
      "<noscript><img height=\"1\" src=\"https://www.facebook.com/tr?id=861907177255490&amp;ev=PageView&amp;noscript=1\" width=\"1\"/></noscript>\n",
      "<!-- End Facebook Pixel Code -->\n",
      "<style>\r\n",
      ".joy-and-glory__series-hero div {\r\n",
      "    animation: inherit !important;\r\n",
      "}\r\n",
      "</style>\n",
      "<link href=\"https://www.desiringgod.org/assets/2/badges/dg-icon-60x60-e01123da83aba718535ae330a87c24d9675c6a0ebf5ebcdb7f80e35f2f6e051d.png\" rel=\"apple-touch-icon\" sizes=\"60x60\"/>\n",
      "<link href=\"https://www.desiringgod.org/assets/2/badges/dg-icon-76x76-ca7f3985f2faf359cbf3facd0f4f7a34ea59c9414eac5a06fefa465439476961.png\" rel=\"apple-touch-icon\" sizes=\"76x76\"/>\n",
      "<link href=\"https://www.desiringgod.org/assets/2/badges/dg-icon-120x120-56a737bdb86b1cd8e9a54c187fbb4805f9b213f7324355ede0a04c05a8700181.png\" rel=\"apple-touch-icon\" sizes=\"120x120\"/>\n",
      "<link href=\"https://www.desiringgod.org/assets/2/badges/dg-icon-152x152-86eef022b0098acffb7bede4e3b6d4c41078103557c7ba2608c51fd4a6f84edc.png\" rel=\"apple-touch-icon\" sizes=\"152x152\"/>\n",
      "<link href=\"https://www.desiringgod.org/assets/2/badges/dg-icon-16x16-23680bf44f694c8697d0f95a535731664c7574a622baf56a2f58d8105efd2483.png\" rel=\"icon\" sizes=\"16x16\"/>\n",
      "<link href=\"https://www.desiringgod.org/assets/2/badges/dg-icon-32x32-cee74e20948eb0ca5e513ce106ac66d9f23905ede71e288ef65ec0636dfe2c68.png\" rel=\"icon\" sizes=\"32x32\"/>\n",
      "<link href=\"https://www.desiringgod.org/assets/2/badges/dg-icon-60x60-e01123da83aba718535ae330a87c24d9675c6a0ebf5ebcdb7f80e35f2f6e051d.png\" rel=\"icon\" sizes=\"60x60\"/>\n",
      "<link href=\"https://www.desiringgod.org/assets/2/badges/dg-icon-76x76-ca7f3985f2faf359cbf3facd0f4f7a34ea59c9414eac5a06fefa465439476961.png\" rel=\"icon\" sizes=\"76x76\"/>\n",
      "<link href=\"https://www.desiringgod.org/assets/2/badges/dg-icon-120x120-56a737bdb86b1cd8e9a54c187fbb4805f9b213f7324355ede0a04c05a8700181.png\" rel=\"icon\" sizes=\"120x120\"/>\n",
      "<link href=\"https://www.desiringgod.org/assets/2/badges/dg-icon-152x152-86eef022b0098acffb7bede4e3b6d4c41078103557c7ba2608c51fd4a6f84edc.png\" rel=\"icon\" sizes=\"152x152\"/>\n",
      "<script>\n",
      "  (function(o){var b=\"https://api.autopilothq.com/anywhere/\",t=\"d5817653ccaf4b51b1e65dac763ed0324f5ab337cfba497e920d0eac9046222d\",a=window.AutopilotAnywhere={_runQueue:[],run:function(){this._runQueue.push(arguments);}},c=encodeURIComponent,s=\"SCRIPT\",d=document,l=d.getElementsByTagName(s)[0],p=\"t=\"+c(d.title||\"\")+\"&u=\"+c(d.location.href||\"\")+\"&r=\"+c(d.referrer||\"\"),j=\"text/javascript\",z,y;if(!window.Autopilot) window.Autopilot=a;if(o.app) p=\"devmode=true&\"+p;z=function(src,asy){var e=d.createElement(s);e.src=src;e.type=j;e.async=asy;l.parentNode.insertBefore(e,l);};if(!o.noaa){z(b+\"aa/\"+t+'?'+p,false)};y=function(){z(b+t+'?'+p,true);};if(window.attachEvent){window.attachEvent(\"onload\",y);}else{window.addEventListener(\"load\",y,false);}})({});</script>\n",
      "</meta></head></html>\n",
      "<script>\n",
      "//<![CDATA[\n",
      "\n",
      "    !function(){var analytics=window.analytics=window.analytics||[];if(!analytics.initialize)if(analytics.invoked)window.console&&console.error&&console.error(\"Segment snippet included twice.\");else{analytics.invoked=!0;analytics.methods=[\"trackSubmit\",\"trackClick\",\"trackLink\",\"trackForm\",\"pageview\",\"identify\",\"reset\",\"group\",\"track\",\"ready\",\"alias\",\"debug\",\"page\",\"once\",\"off\",\"on\"];analytics.factory=function(t){return function(){var e=Array.prototype.slice.call(arguments);e.unshift(t);analytics.push(e);return analytics}};for(var t=0;t<analytics.methods.length;t++){var e=analytics.methods[t];analytics[e]=analytics.factory(e)}analytics.load=function(t){var e=document.createElement(\"script\");e.type=\"text/javascript\";e.async=!0;e.src=(\"https:\"===document.location.protocol?\"https://\":\"http://\")+\"cdn.segment.com/analytics.js/v1/\"+t+\"/analytics.min.js\";var n=document.getElementsByTagName(\"script\")[0];n.parentNode.insertBefore(e,n)};analytics.SNIPPET_VERSION=\"4.0.0\";\n",
      "    analytics.load(\"DBI8s7jPgkcVzD5fllUe4600xXPsuMF0\");\n",
      "    }}();\n",
      "\n",
      "//]]>\n",
      "</script>\n",
      "<meta content=\"NOODP\" name=\"robots\"/>\n",
      "\n",
      "<body class=\"search results\" data-mobilejs=\"https://www.desiringgod.org/assets/2/singles/mobile-44d46b560f68d41bf716b65cf298ccb1bca00d62314b53869c52d51e16bc422a.js\" data-no-turbolink=\"\" data-ui-mode=\"\">\n",
      "<header class=\"header\">\n",
      "<div class=\"header__inner\">\n",
      "<a class=\"logo\" href=\"/\"><div class=\"svg\"><svg height=\"22px\" version=\"1.1\" viewbox=\"0 0 140 22\" width=\"140px\" xmlns=\"http://www.w3.org/2000/svg\" xmlns:sketch=\"http://www.bohemiancoding.com/sketch/ns\" xmlns:xlink=\"http://www.w3.org/1999/xlink\">\n",
      "<title>Desiring God Logo</title>\n",
      "<g fill=\"none\" fill-rule=\"evenodd\" sketch:type=\"MSPage\" stroke=\"none\" stroke-width=\"1\">\n",
      "<g sketch:type=\"MSArtboardGroup\">\n",
      "<g sketch:type=\"MSLayerGroup\" transform=\"translate(1.000000, 1.000000)\">\n",
      "<path d=\"M115.326252,8.93098333 L115.326252,16.3798167 L113.923083,16.3798167 L113.923083,14.96265 L113.878305,14.96265 C113.092947,16.0569833 111.560896,16.5939833 109.858654,16.5939833 C106.367752,16.5939833 103.855367,14.0609833 103.855367,8.63131667 C103.855367,3.20098333 106.367752,0.667483333 109.858654,0.667483333 C112.454152,0.667483333 114.454146,1.91331667 115.390858,5.21765 L113.771894,5.53931667 C113.007521,3.07148333 111.7296,2.12731667 109.943088,2.12731667 C107.687642,2.12731667 105.558931,3.67281667 105.558931,8.63131667 C105.558931,13.58915 107.687642,15.13465 109.943088,15.13465 C112.454152,15.13465 113.624009,13.58915 113.624009,11.7004833 L113.624009,10.3908167 L110.156571,10.3908167 L110.156571,8.93098333 L115.326252,8.93098333 Z M122.519258,16.5939 C119.497125,16.5939 117.987215,14.0185667 117.987215,10.7980667 C117.987215,7.5794 119.497125,5.00356667 122.519258,5.00356667 C125.540233,5.00356667 127.051465,7.5794 127.051465,10.7980667 C127.051465,14.0185667 125.540233,16.5939 122.519258,16.5939 Z M122.519258,6.33356667 C120.689455,6.33356667 119.518275,7.92306667 119.518275,10.7980667 C119.518275,13.6749 120.689455,15.2629 122.519258,15.2629 C124.349226,15.2629 125.517927,13.6749 125.517927,10.7980667 C125.517927,7.92306667 124.349226,6.33356667 122.519258,6.33356667 Z M138,0.88215 L138,13.9334833 C138.010768,14.7479833 137.968634,15.56465 138.095368,16.37915 L136.691043,16.37915 L136.477561,15.2848167 C135.967648,15.99365 134.88206,16.5944833 133.564483,16.5944833 C131.606789,16.5944833 129.030127,15.2634833 129.030127,10.79865 C129.030127,6.46248333 131.606789,5.00298333 133.478726,5.00298333 C134.519867,5.00298333 135.54217,5.53981667 136.393291,6.24865 L136.477561,6.29065 L136.477561,3.35437012 L136.477561,0.88215 L138,0.88215 Z M136.477561,7.87998333 C135.648746,6.95748333 134.606615,6.33448333 133.691052,6.33448333 C131.903384,6.33448333 130.562344,7.51448333 130.562344,10.8849833 C130.562344,13.71815 131.775658,15.2634833 133.691052,15.2634833 C134.671221,15.2634833 135.393129,14.8338167 136.477561,13.7599833 L136.477561,7.87998333 L136.477561,7.87998333 Z\" fill=\"#010201\" sketch:type=\"MSShapeGroup\"></path>\n",
      "<path d=\"M1.85978784,0 C1.17431783,0.554185077 0.551376626,1.18124516 1.66666667e-05,1.8692857 L3.49794215,5.36494042 L0,5.36494042 L0,8 L8.00001667,8 L8.00001667,0 L5.36324537,0 L5.36324537,3.50068059 L1.85978784,0 Z M1.85978784,19 C1.17431783,18.4458149 0.551376626,17.8187548 1.66666667e-05,17.1307143 L3.49794215,13.6350596 L0,13.6350596 L0,11 L8.00001667,11 L8.00001667,19 L5.36324537,19 L5.36324537,15.4993194 L1.85978784,19 Z M17.1402288,0 C17.8256988,0.554185077 18.44864,1.18124516 19,1.8692857 L15.5020745,5.36494042 L19.0000167,5.36494042 L19.0000167,8 L11,8 L11,0 L13.6367713,0 L13.6367713,3.50068059 L17.1402288,0 Z M17.1402288,19 C17.8256988,18.4458149 18.44864,17.8187548 19,17.1307143 L15.5020745,13.6350596 L19.0000167,13.6350596 L19.0000167,11 L11,11 L11,19 L13.6367713,19 L13.6367713,15.4993194 L17.1402288,19 Z M36.93115,0.88215 L36.93115,13.9334833 C36.93115,14.7479833 36.8893167,15.56465 37.0168167,16.37915 L35.60115,16.37915 L35.3858167,15.2848167 C34.8708167,15.99365 33.7764833,16.5944833 32.4449833,16.5944833 C30.4703167,16.5944833 27.87315,15.2634833 27.87315,10.79865 C27.87315,6.46248333 30.4703167,5.00298333 32.3593167,5.00298333 C33.4109833,5.00298333 34.4414833,5.53981667 35.2999833,6.24865 L35.3858167,6.29065 L35.3858167,0.88215 L36.93115,0.88215 Z M35.3858167,7.87998333 C34.54915,6.95748333 33.4974833,6.33448333 32.57465,6.33448333 C30.7713167,6.33448333 29.41865,7.51448333 29.41865,10.8849833 C29.41865,13.71815 30.6424833,15.2634833 32.57465,15.2634833 C33.5613167,15.2634833 34.2914833,14.8338167 35.3858167,13.7599833 L35.3858167,7.87998333 Z M48.6079,13.9965667 C47.8777333,15.2629 46.8472333,16.5945667 44.3155667,16.5945667 C41.8254,16.5945667 39.4640667,14.8767333 39.4640667,10.7985667 C39.4640667,7.19273333 41.2667333,5.0029 44.0140667,5.0029 C46.3322333,5.0029 48.2649,6.5059 48.2649,10.0692333 L48.2649,11.0997333 L41.0094,11.0997333 C41.0094,13.5460667 42.4687333,15.2629 44.3155667,15.2629 C45.6889,15.2629 46.7625667,14.5335667 47.4059,13.3739 L48.6079,13.9965667 Z M46.7194,9.76806667 C46.7194,7.70773333 45.7315667,6.33356667 44.0579,6.33356667 C42.1907333,6.33356667 41.1810667,7.70773333 41.0527333,9.76806667 L46.7194,9.76806667 Z M51.7207,13.54605 C52.4495333,14.5978833 53.5232,15.2628833 54.9192,15.2628833 C56.5922,15.2628833 57.3230333,14.3618833 57.3230333,13.4177167 C57.3230333,10.5847167 50.7120333,12.0862167 50.8402,8.00738333 C50.9040333,6.07655 52.3857,4.98221667 54.5318667,5.00288333 C55.9917,5.02421667 57.6022,5.81871667 58.3530333,6.95688333 L57.2792,7.90105 C56.4208667,6.84938333 55.6055333,6.33455 54.4035333,6.33455 C53.0940333,6.33455 52.3857,6.99888333 52.3857,7.98738333 C52.3857,10.4127167 58.8683667,9.16755 58.8683667,13.33205 C58.8683667,15.5002167 56.9795333,16.59455 54.9610333,16.59455 C53.2235333,16.59455 51.5272,15.8422167 50.4967,14.4682167 L51.7207,13.54605 Z M63.4185,2.51316667 L61.8731667,2.51316667 L61.8731667,0.666833333 L63.4185,0.666833333 L63.4185,2.51316667 Z M61.873,5.21816667 L63.4183333,5.21816667 L63.4183333,16.3798333 L61.873,16.3798333 L61.873,5.21816667 Z M66.9174,5.21816667 L68.4627333,5.21816667 L68.4627333,7.428 L68.5060667,7.428 C69.3639,5.9045 70.2872333,5.04616667 72.1317333,5.04616667 L72.1317333,6.59133333 C70.2022333,6.63533333 69.1929,7.901 68.4627333,10.1975 L68.4627333,16.3791667 L66.9174,16.3791667 L66.9174,5.21816667 Z M76.5341667,2.51316667 L74.9875,2.51316667 L74.9875,0.666833333 L76.5341667,0.666833333 L76.5341667,2.51316667 Z M74.9873333,5.21816667 L76.534,5.21816667 L76.534,16.3798333 L74.9873333,16.3798333 L74.9873333,5.21816667 Z M82.3280333,5.21816667 L82.3280333,6.72116667 L82.3718667,6.72116667 C83.2515333,5.73316667 84.4103667,5.00283333 85.6767,5.00283333 C87.3285333,5.00283333 88.8952,5.86266667 88.8952,8.26666667 L88.8952,16.3791667 L87.3512,16.3791667 L87.3512,8.3085 C87.3512,6.8275 86.6428667,6.33366667 85.5263667,6.33366667 C84.3677,6.33366667 83.0363667,7.2785 82.3280333,8.02933333 L82.3280333,16.3791667 L80.7838667,16.3791667 L80.7838667,5.21816667 L82.3280333,5.21816667 Z M101.3238,6.33455 C100.6808,6.33455 99.9924667,6.44205 99.6056333,6.63421667 C99.9286333,7.02088333 100.3803,7.87988333 100.3803,8.90988333 C100.3803,11.1202167 98.5559667,12.81705 96.3008,12.81705 C95.3998,12.81705 94.9268,12.6877167 94.3263,12.51555 C93.7254667,12.6877167 93.4463,13.05255 93.4463,13.54605 C93.4463,14.06105 93.8106333,14.36205 94.3689667,14.36205 C99.6494667,14.36205 101.346467,15.30555 101.346467,17.49555 C101.346467,19.1263833 99.7346333,20.50005 96.2583,20.50005 C93.1249667,20.50005 91.4504667,19.6413833 91.4504667,17.7963833 C91.4504667,16.68005 92.1388,16.1433833 93.3389667,15.5207167 C92.4816333,15.2628833 91.9436333,14.59805 91.9436333,13.9327167 C91.9436333,12.9667167 92.5893,12.5592167 93.4463,12.02255 C92.3941333,11.22805 91.9224667,10.13355 91.9224667,8.90988333 C91.9224667,6.54988333 93.7693,5.00288333 96.1508,5.00288333 C97.3533,5.00288333 98.1904667,5.26071667 98.9213,5.77705 C99.5858,5.30371667 100.487967,4.87455 101.3238,4.78905 L101.3238,6.33455 Z M96.0218,15.9073833 C93.5979667,15.9073833 92.9096333,16.98005 92.9096333,17.7743833 C92.9096333,18.61155 93.4251333,19.1703833 96.5161333,19.1703833 C98.3619667,19.1703833 99.8648,18.6548833 99.8873,17.56055 C99.8648,16.46505 98.7484667,15.9073833 96.0218,15.9073833 L96.0218,15.9073833 Z M96.0868,6.33455 C94.3263,6.33455 93.3828,7.45055 93.3828,8.90988333 C93.3828,10.3913833 94.5414667,11.4857167 96.2583,11.4857167 C98.0176333,11.4857167 98.9213,10.32705 98.9213,8.99538333 C98.9213,7.36421667 97.9751333,6.33455 96.0868,6.33455 L96.0868,6.33455 Z\" fill=\"#C42026\" sketch:type=\"MSShapeGroup\"></path>\n",
      "</g>\n",
      "</g>\n",
      "</g>\n",
      "</svg>\n",
      "</div>\n",
      "</a><nav class=\"navigation\" data-segment=\"header-navigation\">\n",
      "<ul>\n",
      "<li class=\"navigation__item navigation__item--topics\">\n",
      "<a class=\"navigation__item\" data-toggle=\"navigation-topics\" href=\"javascript:;\"><span>\n",
      "Topics\n",
      "<div class=\"svg\"><svg height=\"20px\" version=\"1.1\" viewbox=\"0 0 20 20\" width=\"20px\" xmlns=\"http://www.w3.org/2000/svg\" xmlns:sketch=\"http://www.bohemiancoding.com/sketch/ns\" xmlns:xlink=\"http://www.w3.org/1999/xlink\">\n",
      "<title>Chevron Down</title>\n",
      "<g fill=\"none\" fill-rule=\"evenodd\" sketch:type=\"MSPage\" stroke=\"none\" stroke-width=\"1\">\n",
      "<g fill=\"#333333\" sketch:type=\"MSArtboardGroup\">\n",
      "<path d=\"M10.5498038,12.5412754 L15.6689948,7.17892015 C15.9120576,6.94002227 16.3057465,6.94040987 16.5483238,7.17978589 C16.790901,7.41916191 16.7905074,7.80687951 16.5474447,8.04577739 L10.9288946,13.5680544 L10.4896439,13.9997786 L10.0504189,13.5680289 L4.43252898,8.04575198 C4.1894805,7.80684003 4.18911006,7.41912241 4.43170157,7.17976043 C4.67429309,6.94039844 5.06798209,6.94003362 5.31103057,7.17894557 L10.5498038,12.5412754 L10.5498038,12.5412754 Z\" sketch:type=\"MSShapeGroup\"></path>\n",
      "</g>\n",
      "</g>\n",
      "</svg>\n",
      "</div>\n",
      "</span>\n",
      "</a><div class=\"navigation__features navigation__features--topics\" data-toggle-protect=\"navigation-topics\">\n",
      "<ul>\n",
      "<li class=\"navigation__topic\">\n",
      "<a href=\"/topics/christian-hedonism\">Christian Hedonism\n",
      "</a></li>\n",
      "<li class=\"navigation__topic\">\n",
      "<a href=\"/topics/the-sovereignty-of-god\">Sovereignty of God\n",
      "</a></li>\n",
      "<li class=\"navigation__topic\">\n",
      "<a href=\"/topics/prayer\">Prayer\n",
      "</a></li>\n",
      "<li class=\"navigation__topic\">\n",
      "<a href=\"/topics/the-bible\">The Bible\n",
      "</a></li>\n",
      "<li class=\"navigation__topic\">\n",
      "<a href=\"/topics/the-gospel\">The Gospel\n",
      "</a></li>\n",
      "<li class=\"navigation__topic\">\n",
      "<a href=\"/topics/suffering\">Suffering\n",
      "</a></li>\n",
      "<a class=\"navigation__button\" href=\"/topics\">View All Topics\n",
      "<div class=\"svg\"><svg height=\"20px\" version=\"1.1\" viewbox=\"0 0 20 20\" width=\"20px\" xmlns=\"http://www.w3.org/2000/svg\" xmlns:sketch=\"http://www.bohemiancoding.com/sketch/ns\" xmlns:xlink=\"http://www.w3.org/1999/xlink\">\n",
      "<title>Arrow Right</title>\n",
      "<g fill=\"none\" fill-rule=\"evenodd\" sketch:type=\"MSPage\" stroke=\"none\" stroke-width=\"1\">\n",
      "<g fill=\"#333333\" sketch:type=\"MSArtboardGroup\">\n",
      "<path d=\"M12.5150732,6.35018478 C12.3229538,6.15543439 12.3232472,5.83997845 12.5157285,5.64559421 C12.7082098,5.45120998 13.0199903,5.45150681 13.2121097,5.6462572 L17.6528114,10.1477717 L18,10.4997148 L17.6528319,10.8516786 L13.2121302,15.3537221 C13.0200221,15.5484839 12.7082416,15.5487993 12.515749,15.3544265 C12.3232564,15.1600537 12.3229447,14.8445977 12.5150528,14.6498359 L16,11 L2,11 L2,10 L16,10 L12.5150732,6.35018478 L12.5150732,6.35018478 L12.5150732,6.35018478 Z\" sketch:type=\"MSShapeGroup\"></path>\n",
      "</g>\n",
      "</g>\n",
      "</svg>\n",
      "</div>\n",
      "</a></ul>\n",
      "</div>\n",
      "</li>\n",
      "<li class=\"navigation__item\"><a href=\"/articles\"><span>Articles</span></a></li>\n",
      "<li class=\"navigation__item\"><a href=\"/messages\"><span>Sermons</span></a></li>\n",
      "<li class=\"navigation__item\"><a href=\"/books/all\"><span>Books</span></a></li>\n",
      "<li class=\"navigation__item navigation__item--features\">\n",
      "<a class=\"navigation__item--features__item\" data-toggle=\"navigation-features\" href=\"javascript:;\"><span>\n",
      "Features\n",
      "<div class=\"svg\"><svg height=\"20px\" version=\"1.1\" viewbox=\"0 0 20 20\" width=\"20px\" xmlns=\"http://www.w3.org/2000/svg\" xmlns:sketch=\"http://www.bohemiancoding.com/sketch/ns\" xmlns:xlink=\"http://www.w3.org/1999/xlink\">\n",
      "<title>Chevron Down</title>\n",
      "<g fill=\"none\" fill-rule=\"evenodd\" sketch:type=\"MSPage\" stroke=\"none\" stroke-width=\"1\">\n",
      "<g fill=\"#333333\" sketch:type=\"MSArtboardGroup\">\n",
      "<path d=\"M10.5498038,12.5412754 L15.6689948,7.17892015 C15.9120576,6.94002227 16.3057465,6.94040987 16.5483238,7.17978589 C16.790901,7.41916191 16.7905074,7.80687951 16.5474447,8.04577739 L10.9288946,13.5680544 L10.4896439,13.9997786 L10.0504189,13.5680289 L4.43252898,8.04575198 C4.1894805,7.80684003 4.18911006,7.41912241 4.43170157,7.17976043 C4.67429309,6.94039844 5.06798209,6.94003362 5.31103057,7.17894557 L10.5498038,12.5412754 L10.5498038,12.5412754 Z\" sketch:type=\"MSShapeGroup\"></path>\n",
      "</g>\n",
      "</g>\n",
      "</svg>\n",
      "</div>\n",
      "</span>\n",
      "</a><div class=\"navigation__features navigation__features--features\" data-toggle-protect=\"navigation-features\">\n",
      "<ul>\n",
      "<li class=\"navigation__feature\">\n",
      "<a href=\"/ask-pastor-john\"><img alt=\"Ask Pastor John\" src=\"https://www.desiringgod.org/assets/2/badges/apj-icon-50x50-4a50e5b9ee962792b3be68866a6fc95eff8650571add1baf5c89b6e7608c99be.png\" srcset=\"https://www.desiringgod.org/assets/2/badges/apj-icon-50x50-4a50e5b9ee962792b3be68866a6fc95eff8650571add1baf5c89b6e7608c99be.png 1x, https://www.desiringgod.org/assets/2/badges/apj-icon-100x100-8a6b15c7e3e220bd73daafa1f66fbea82a999c57995cd293e4f40a24f24dbe0d.png 2x\"/>\n",
      "<strong>Ask Pastor John</strong>\n",
      "<p>Listen to John Piper answer tough theological and pastoral questions.</p>\n",
      "</a></li>\n",
      "<li class=\"navigation__feature\">\n",
      "<a href=\"/labs\"><img alt=\"Look at the Book\" src=\"https://www.desiringgod.org/assets/2/badges/lab-icon-50x50-d412e65d432c7a9f2b30c127f4003848a5feb6cadb093ea00da81c69c88c0cee.png\" srcset=\"https://www.desiringgod.org/assets/2/badges/lab-icon-50x50-d412e65d432c7a9f2b30c127f4003848a5feb6cadb093ea00da81c69c88c0cee.png 1x, https://www.desiringgod.org/assets/2/badges/lab-icon-100x100-c944bf5872bc9b48c5dfaf828758a7ef4ff1f6a5b93b6620937a1a63bc2e15e0.png 2x\"/>\n",
      "<strong>Look at the Book</strong>\n",
      "<p>Watch John Piper mark the text on the screen, and learn to study the Bible for yourself.</p>\n",
      "</a></li>\n",
      "<li class=\"navigation__feature\">\n",
      "<a href=\"/solid-joys\"><img alt=\"Solid Joys\" src=\"https://www.desiringgod.org/assets/2/badges/sj-icon-50x50-dcee7aaee7fa3bf2cb26b6545b3cd1e66b1d95a143448c9e8d35ec74bf8961fc.png\" srcset=\"https://www.desiringgod.org/assets/2/badges/sj-icon-50x50-dcee7aaee7fa3bf2cb26b6545b3cd1e66b1d95a143448c9e8d35ec74bf8961fc.png 1x, https://www.desiringgod.org/assets/2/badges/sj-icon-100x100-f3898e6d420ec6bcbaae2e116c4c1d6171b7b9c88cbb85913e3575592200b03b.png 2x\"/>\n",
      "<strong>Solid Joys</strong>\n",
      "<p>Read a short devotional from John Piper for every day of the year.</p>\n",
      "</a></li>\n",
      "</ul>\n",
      "</div>\n",
      "</li>\n",
      "<li class=\"navigation__item\"><a data-no-turbolink=\"true\" data-segment=\"header-donate\" href=\"/donate\"><span>Donate</span></a></li>\n",
      "</ul>\n",
      "</nav>\n",
      "<div class=\"header__tools\">\n",
      "<a class=\"header__tools__search\" data-segment=\"header-search-icon\" data-toggle=\"global-search\" href=\"javascript:;\"><div class=\"svg\"><svg height=\"20px\" version=\"1.1\" viewbox=\"0 0 20 20\" width=\"20px\" xmlns=\"http://www.w3.org/2000/svg\" xmlns:sketch=\"http://www.bohemiancoding.com/sketch/ns\" xmlns:xlink=\"http://www.w3.org/1999/xlink\">\n",
      "<title>Search</title>\n",
      "<g fill=\"none\" fill-rule=\"evenodd\" sketch:type=\"MSPage\" stroke=\"none\" stroke-width=\"1\">\n",
      "<g fill=\"#333333\" sketch:type=\"MSArtboardGroup\">\n",
      "<path d=\"M11.1240096,12.1726117 C8.65945918,14.0612461 5.10554913,13.8851374 2.84362542,11.6443312 C0.385458193,9.2091137 0.385458193,5.25916956 2.84362542,2.82395203 C5.29848023,0.39201599 9.27512123,0.39201599 11.7293394,2.82395203 C13.608937,4.68600156 14.0513309,7.43365839 13.0565472,9.712566 C12.8391563,10.2105775 12.553132,10.6862036 12.1984745,11.12531 L18.9612431,17.8918026 L17.9052431,18.9575794 L11.1240096,12.1726117 L11.1240096,12.1726117 L11.1240096,12.1726117 Z M10.8308521,3.73090676 C12.7847966,5.66660905 12.7847966,8.80167421 10.8308521,10.7373765 C8.87410272,12.6763603 5.69936967,12.6763603 3.74211274,10.7373765 C1.78816823,8.80167421 1.78816823,5.66660905 3.74211274,3.73090676 C5.69936967,1.79192298 8.87410272,1.79192298 10.8307933,3.7308485 L10.8308521,3.73090676 L10.8308521,3.73090676 L10.8308521,3.73090676 Z\" sketch:type=\"MSShapeGroup\"></path>\n",
      "</g>\n",
      "</g>\n",
      "</svg>\n",
      "</div>\n",
      "</a><a class=\"header__tools__menu\" data-segment=\"main-menu-trigger\" data-toggle=\"menu-drawer\" href=\"javascript:;\"><div class=\"svg\"><svg class=\"menu-icon\" height=\"20px\" version=\"1.1\" viewbox=\"0 0 20 20\" width=\"20px\" xmlns=\"http://www.w3.org/2000/svg\" xmlns:sketch=\"http://www.bohemiancoding.com/sketch/ns\" xmlns:xlink=\"http://www.w3.org/1999/xlink\">\n",
      "<title>Menu</title>\n",
      "<g fill=\"#333333\">\n",
      "<path class=\"header__tools__menu__top\" d=\"M18.3510005,5 L1.64899946,5 L1,5 L1,6 L1.64899946,6 L18.3510005,6 L19,6 L19,5 L18.3510005,5 L18.3510005,5 Z\"></path>\n",
      "<path class=\"header__tools__menu__middle\" d=\"M18.3510005,10 L1.64899946,10 L1,10 L1,11 L1.64899946,11 L18.3510005,11 L19,11 L19,10 L18.3510005,10 L18.3510005,10 Z\"></path>\n",
      "<path class=\"header__tools__menu__bottom\" d=\"M18.3510005,15 L1.64899946,15 L1,15 L1,16 L1.64899946,16 L18.3510005,16 L19,16 L19,15 L18.3510005,15 L18.3510005,15 Z\"></path>\n",
      "</g>\n",
      "</svg>\n",
      "</div>\n",
      "</a></div>\n",
      "</div>\n",
      "<div class=\"header__search\" data-toggle-protect=\"global-search\">\n",
      "<form accept-charset=\"UTF-8\" action=\"/search/results\" class=\"header__search__inner\" data-segment=\"header-search-submit\" method=\"get\"><input name=\"utf8\" type=\"hidden\" value=\"✓\"/>\n",
      "<a class=\"gsc-search-button header__search__symbol\" href=\"javascript:;\" title=\"Submit Search\"><div class=\"svg\"><svg height=\"20px\" version=\"1.1\" viewbox=\"0 0 20 20\" width=\"20px\" xmlns=\"http://www.w3.org/2000/svg\" xmlns:sketch=\"http://www.bohemiancoding.com/sketch/ns\" xmlns:xlink=\"http://www.w3.org/1999/xlink\">\n",
      "<title>Search</title>\n",
      "<g fill=\"none\" fill-rule=\"evenodd\" sketch:type=\"MSPage\" stroke=\"none\" stroke-width=\"1\">\n",
      "<g fill=\"#333333\" sketch:type=\"MSArtboardGroup\">\n",
      "<path d=\"M11.1240096,12.1726117 C8.65945918,14.0612461 5.10554913,13.8851374 2.84362542,11.6443312 C0.385458193,9.2091137 0.385458193,5.25916956 2.84362542,2.82395203 C5.29848023,0.39201599 9.27512123,0.39201599 11.7293394,2.82395203 C13.608937,4.68600156 14.0513309,7.43365839 13.0565472,9.712566 C12.8391563,10.2105775 12.553132,10.6862036 12.1984745,11.12531 L18.9612431,17.8918026 L17.9052431,18.9575794 L11.1240096,12.1726117 L11.1240096,12.1726117 L11.1240096,12.1726117 Z M10.8308521,3.73090676 C12.7847966,5.66660905 12.7847966,8.80167421 10.8308521,10.7373765 C8.87410272,12.6763603 5.69936967,12.6763603 3.74211274,10.7373765 C1.78816823,8.80167421 1.78816823,5.66660905 3.74211274,3.73090676 C5.69936967,1.79192298 8.87410272,1.79192298 10.8307933,3.7308485 L10.8308521,3.73090676 L10.8308521,3.73090676 L10.8308521,3.73090676 Z\" sketch:type=\"MSShapeGroup\"></path>\n",
      "</g>\n",
      "</g>\n",
      "</svg>\n",
      "</div>\n",
      "<span>Search</span>\n",
      "</a><div class=\"gsc-input header__search__input\">\n",
      "<input autocomplete=\"off\" name=\"q\" placeholder=\"Search 11,663 resources\" type=\"search\"/>\n",
      "</div>\n",
      "</form>\n",
      "</div>\n",
      "</header>\n",
      "<div class=\"menu\" data-segment=\"main-menu-navigation\" data-toggle-protect=\"menu-drawer\">\n",
      "<a class=\"menu__close\" data-toggle-close=\"menu-drawer\" href=\"javascript:;\"><div class=\"svg\"><svg height=\"20\" version=\"1.1\" viewbox=\"0 0 20 20\" width=\"20\" xmlns=\"http://www.w3.org/2000/svg\" xmlns:sketch=\"http://www.bohemiancoding.com/sketch/ns\" xmlns:xlink=\"http://www.w3.org/1999/xlink\">\n",
      "<title>Close</title>\n",
      "<g fill=\"none\" fill-rule=\"evenodd\" sketch:type=\"MSPage\" stroke=\"none\" stroke-width=\"1\">\n",
      "<g fill=\"#2E2E2C\" sketch:type=\"MSArtboardGroup\">\n",
      "<path d=\"M16.1214739,4 L10.5004969,9.62097699 L4.87852611,4 L4,4.87852611 L9.6219708,10.4995031 L4,16.1214739 L4.87852611,17 L10.5004969,11.3780292 L16.1214739,17 L17,16.1214739 L11.379023,10.4995031 L17,4.87852611 L16.1214739,4 Z\" sketch:type=\"MSShapeGroup\"></path>\n",
      "</g>\n",
      "</g>\n",
      "</svg>\n",
      "</div>\n",
      "</a><div class=\"menu__scrolling-area\">\n",
      "<div class=\"menu__secondary\">\n",
      "<label class=\"label\">Topics</label>\n",
      "<ul>\n",
      "<li class=\"menu__secondary__item\"><a href=\"/topics/dating-singleness\">Dating &amp; Singleness</a></li>\n",
      "<li class=\"menu__secondary__item\"><a href=\"/topics/marriage\">Marriage</a></li>\n",
      "<li class=\"menu__secondary__item\"><a href=\"/topics/prayer\">Prayer</a></li>\n",
      "</ul>\n",
      "<ul>\n",
      "<li class=\"menu__secondary__item\"><a href=\"/topics/sexual-purity\">Sexual Purity</a></li>\n",
      "<li class=\"menu__secondary__item\"><a href=\"/topics/christian-hedonism\">Christian Hedonism</a></li>\n",
      "<li class=\"menu__secondary__item\"><a href=\"/topics/the-grace-of-god\">The Grace of God</a></li>\n",
      "</ul>\n",
      "</div>\n",
      "<ul class=\"menu__primary\">\n",
      "<li class=\"menu__primary__item\"><a href=\"/articles\"><span>Articles</span></a></li>\n",
      "<li class=\"menu__primary__item\"><a href=\"/messages\"><span>Sermons</span></a></li>\n",
      "<li class=\"menu__primary__item\"><a href=\"/books/all\"><span>Books</span></a></li>\n",
      "</ul>\n",
      "<ul class=\"menu__features\">\n",
      "<li class=\"menu__feature\">\n",
      "<a href=\"/ask-pastor-john\"><strong>Ask Pastor John</strong>\n",
      "<img alt=\"Ask Pastor John\" src=\"https://www.desiringgod.org/assets/2/badges/apj-icon-50x50-4a50e5b9ee962792b3be68866a6fc95eff8650571add1baf5c89b6e7608c99be.png\" srcset=\"https://www.desiringgod.org/assets/2/badges/apj-icon-50x50-4a50e5b9ee962792b3be68866a6fc95eff8650571add1baf5c89b6e7608c99be.png 1x, https://www.desiringgod.org/assets/2/badges/apj-icon-100x100-8a6b15c7e3e220bd73daafa1f66fbea82a999c57995cd293e4f40a24f24dbe0d.png 2x\"/>\n",
      "<p>Listen to John Piper answer tough theological and pastoral questions.</p>\n",
      "</a></li>\n",
      "<li class=\"menu__feature\">\n",
      "<a href=\"/labs\"><strong>Look at the Book</strong>\n",
      "<img alt=\"Look at the Book\" src=\"https://www.desiringgod.org/assets/2/badges/lab-icon-50x50-d412e65d432c7a9f2b30c127f4003848a5feb6cadb093ea00da81c69c88c0cee.png\" srcset=\"https://www.desiringgod.org/assets/2/badges/lab-icon-50x50-d412e65d432c7a9f2b30c127f4003848a5feb6cadb093ea00da81c69c88c0cee.png 1x, https://www.desiringgod.org/assets/2/badges/lab-icon-100x100-c944bf5872bc9b48c5dfaf828758a7ef4ff1f6a5b93b6620937a1a63bc2e15e0.png 2x\"/>\n",
      "<p>Watch John Piper mark the text on the screen, and learn to study the Bible for yourself.</p>\n",
      "</a></li>\n",
      "<li class=\"menu__feature\">\n",
      "<a href=\"/solid-joys\"><strong>Solid Joys</strong>\n",
      "<img alt=\"Solid Joys\" src=\"https://www.desiringgod.org/assets/2/badges/sj-icon-50x50-dcee7aaee7fa3bf2cb26b6545b3cd1e66b1d95a143448c9e8d35ec74bf8961fc.png\" srcset=\"https://www.desiringgod.org/assets/2/badges/sj-icon-50x50-dcee7aaee7fa3bf2cb26b6545b3cd1e66b1d95a143448c9e8d35ec74bf8961fc.png 1x, https://www.desiringgod.org/assets/2/badges/sj-icon-100x100-f3898e6d420ec6bcbaae2e116c4c1d6171b7b9c88cbb85913e3575592200b03b.png 2x\"/>\n",
      "<p>Read a short devotional from John Piper for every day of the year.</p>\n",
      "</a></li>\n",
      "</ul>\n",
      "<a class=\"menu__donate\" data-no-turbolink=\"true\" href=\"/donate\">Donate</a>\n",
      "<div class=\"menu__secondary\">\n",
      "<label class=\"label\">Browse</label>\n",
      "<ul>\n",
      "<li class=\"menu__secondary__item\"><a href=\"/resources\">All Resources</a></li>\n",
      "<li class=\"menu__secondary__item\"><a href=\"/topics\">Topics</a></li>\n",
      "<li class=\"menu__secondary__item\"><a href=\"/scripture\">Scripture</a></li>\n",
      "<li class=\"menu__secondary__item\"><a href=\"/series\">Series</a></li>\n",
      "</ul>\n",
      "<ul>\n",
      "<li class=\"menu__secondary__item\"><a href=\"/authors\">Authors</a></li>\n",
      "<li class=\"menu__secondary__item\"><a href=\"/dates\">Dates</a></li>\n",
      "<li class=\"menu__secondary__item\"><a href=\"/languages\">Languages</a></li>\n",
      "</ul>\n",
      "</div>\n",
      "</div>\n",
      "</div>\n",
      "<div class=\"header__search__examples\" data-segment=\"header-try-searching\">\n",
      "<div class=\"header__search__examples__list\" data-toggle-protect=\"global-search\">\n",
      "<dl>\n",
      "<dt>Try Searching</dt>\n",
      "<dd><a href=\"/search/results?q=dating\">dating</a></dd>\n",
      "<dd><a href=\"/search/results?q=marriage\">marriage</a></dd>\n",
      "<dd><a href=\"/search/results?q=porn\">porn</a></dd>\n",
      "<dd><a href=\"/search/results?q=prayer\">prayer</a></dd>\n",
      "<dd><a href=\"/search/results?q=sex\">sex</a></dd>\n",
      "<dd><a href=\"/search/results?q=depression\">depression</a></dd>\n",
      "<dd><a href=\"/search/results?q=fasting\">fasting</a></dd>\n",
      "<dd><a href=\"/search/results?q=suffering\">suffering</a></dd>\n",
      "<dd><a href=\"/search/results?q=homosexuality\">homosexuality</a></dd>\n",
      "<dd><a href=\"/search/results?q=anxiety\">anxiety</a></dd>\n",
      "<dd><a href=\"/search/results?q=Advent\">Advent</a></dd>\n",
      "<dd><a href=\"/search/results?q=Thanksgiving\">Thanksgiving</a></dd>\n",
      "</dl>\n",
      "</div>\n",
      "<div class=\"header__search__examples__bottom\"></div>\n",
      "</div>\n",
      "<div class=\"page-background\">\n",
      "<main class=\"constrain\" role=\"main\">\n",
      "<div></div>\n",
      "<div class=\"meta-nav-module-with-sidebar\">\n",
      "<div class=\"meta-nav\"></div>\n",
      "<div class=\"content\">\n",
      "<gcse:search autocompletemaxcompletions=\"5\" enablehistory=\"true\" refinementstyle=\"link\">\n",
      "</gcse:search></div>\n",
      "</div>\n",
      "</main>\n",
      "<footer id=\"footer\">\n",
      "<div class=\"grid-container\">\n",
      "<section class=\"grid-s-6 grid-m-3 grid-l-6 grid-xl-5 about\">\n",
      "<div class=\"svg footer-mark\">\n",
      "<div class=\"svg\">\n",
      "<svg height=\"28px\" version=\"1.1\" viewbox=\"0 0 28 28\" width=\"28px\" xmlns=\"http://www.w3.org/2000/svg\" xmlns:sketch=\"http://www.bohemiancoding.com/sketch/ns\" xmlns:xlink=\"http://www.w3.org/1999/xlink\">\n",
      "<title>Mark - Large</title>\n",
      "<g fill=\"none\" fill-rule=\"evenodd\" sketch:type=\"MSPage\" stroke=\"none\" stroke-width=\"1\">\n",
      "<g fill=\"#333333\" sketch:type=\"MSArtboardGroup\">\n",
      "<path d=\"M26.8662033,8.37880104 L22.18245,8.37880104 L26.9973936,3.56559513 C26.2397915,2.62119896 25.3831451,1.76020851 24.4396177,1 L19.6238054,5.81841877 L19.6238054,1.13466551 L16,1.13466551 L16,12 L26.8662033,12 L26.8662033,8.37880104 Z M26.8662033,19.621199 L22.18245,19.621199 L26.9973936,24.4344049 C26.2397915,25.378801 25.3831451,26.2397915 24.4396177,27 L19.6238054,22.1815812 L19.6238054,26.8653345 L16,26.8653345 L16,16 L26.8662033,16 L26.8662033,19.621199 Z M1.13119027,8.37880104 L5.81494353,8.37880104 L1,3.56559513 C1.75760209,2.62119896 2.61424848,1.76020851 3.55777585,1 L8.37358818,5.81841877 L8.37358818,1.13466551 L11.9973936,1.13466551 L11.9973936,12 L1.13119027,12 L1.13119027,8.37880104 Z M1.13119027,19.621199 L5.81494353,19.621199 L1,24.4344049 C1.75760209,25.378801 2.61424848,26.2397915 3.55777585,27 L8.37358818,22.1815812 L8.37358818,26.8653345 L11.9973936,26.8653345 L11.9973936,16 L1.13119027,16 L1.13119027,19.621199 Z\" sketch:type=\"MSShapeGroup\"></path>\n",
      "</g>\n",
      "</g>\n",
      "</svg>\n",
      "</div>\n",
      "</div>\n",
      "<div class=\"about__body\">\n",
      "<h2>God is most glorified in us <br/>when we are most <span></span>satisfied in him</h2>\n",
      "<a class=\"button--learn-more\" href=\"/about-us\">\n",
      "Learn more about Desiring God\n",
      "<div class=\"svg\"><svg height=\"20px\" version=\"1.1\" viewbox=\"0 0 20 20\" width=\"20px\" xmlns=\"http://www.w3.org/2000/svg\" xmlns:sketch=\"http://www.bohemiancoding.com/sketch/ns\" xmlns:xlink=\"http://www.w3.org/1999/xlink\">\n",
      "<title>Arrow</title>\n",
      "<g fill=\"none\" fill-rule=\"evenodd\" sketch:type=\"MSPage\" stroke=\"none\" stroke-width=\"1\">\n",
      "<g fill=\"#333333\" sketch:type=\"MSArtboardGroup\">\n",
      "<path d=\"M12.5150732,6.35018478 C12.3229538,6.15543439 12.3232472,5.83997845 12.5157285,5.64559421 C12.7082098,5.45120998 13.0199903,5.45150681 13.2121097,5.6462572 L17.6528114,10.1477717 L18,10.4997148 L17.6528319,10.8516786 L13.2121302,15.3537221 C13.0200221,15.5484839 12.7082416,15.5487993 12.515749,15.3544265 C12.3232564,15.1600537 12.3229447,14.8445977 12.5150528,14.6498359 L16,11 L2,11 L2,10 L16,10 L12.5150732,6.35018478 L12.5150732,6.35018478 L12.5150732,6.35018478 Z\" sketch:type=\"MSShapeGroup\"></path>\n",
      "</g>\n",
      "</g>\n",
      "</svg>\n",
      "</div>\n",
      "</a>\n",
      "</div>\n",
      "</section>\n",
      "<section class=\"social-follow grid-s-4 grid-m-2 grid-l-3 grid-xl-2\" data-segment=\"dg-social-outbound\">\n",
      "<h3 class=\"label\">Desiring God</h3>\n",
      "<a class=\"social-follow__network\" href=\"http://facebook.com/desiringgod\" target=\"_blank\">\n",
      "<div class=\"svg\"><svg height=\"20px\" version=\"1.1\" viewbox=\"0 0 20 20\" width=\"20px\" xmlns=\"http://www.w3.org/2000/svg\" xmlns:sketch=\"http://www.bohemiancoding.com/sketch/ns\" xmlns:xlink=\"http://www.w3.org/1999/xlink\">\n",
      "<title>Facebook</title>\n",
      "<g fill=\"none\" fill-rule=\"evenodd\" sketch:type=\"MSPage\" stroke=\"none\" stroke-width=\"1\">\n",
      "<g fill=\"#333333\" sketch:type=\"MSArtboardGroup\">\n",
      "<path d=\"M11.5113801,4.85631128 C11.4250798,4.9027115 11.3513532,4.96637692 11.2902,5.04784708 C11.2284754,5.1287777 11.1793243,5.22751305 11.1427467,5.3435136 C11.1055976,5.45951415 11.0873088,5.58738453 11,5.72658519 L11,7.57234282 L14.4444444,7.57234282 L14.4444444,10.1847832 L11,10.1847832 L11,18 L8,18 L8,10.1847832 L5,10.1847832 L5,7.57234282 L8,7.57234282 L8,6.00552606 C8,5.34351349 7.97592873,4.96044201 8.1725332,4.47270015 C8.36913767,3.98549783 8.64004034,3.55602602 8.98409817,3.18428471 C9.32872752,2.81308294 9.73451,2.52281179 10.2014456,2.31347126 C10.6689528,2.10467027 11.185611,2 11.7514204,2 L14.4444444,2 L14.4444444,4.78617141 L11.7514204,4.78617141 C11.6771222,4.78617141 11.5976803,4.80991106 11.5113801,4.85631128 Z\" sketch:type=\"MSShapeGroup\"></path>\n",
      "</g>\n",
      "</g>\n",
      "</svg>\n",
      "</div>\n",
      "<span>Follow Desiring God on Facebook</span>\n",
      "</a>\n",
      "<a class=\"social-follow__network\" href=\"http://twitter.com/desiringGod\" target=\"_blank\">\n",
      "<div class=\"svg\"><svg height=\"20px\" version=\"1.1\" viewbox=\"0 0 20 20\" width=\"20px\" xmlns=\"http://www.w3.org/2000/svg\" xmlns:sketch=\"http://www.bohemiancoding.com/sketch/ns\" xmlns:xlink=\"http://www.w3.org/1999/xlink\">\n",
      "<title>Twitter</title>\n",
      "<g fill=\"none\" fill-rule=\"evenodd\" sketch:type=\"MSPage\" stroke=\"none\" stroke-width=\"1\">\n",
      "<g fill=\"#333333\" sketch:type=\"MSArtboardGroup\">\n",
      "<path d=\"M19,4.83999195 C18.8731929,4.99666575 18.739174,5.1662929 18.5997463,5.3488734 C18.4597175,5.53145389 18.313679,5.70108104 18.1610297,5.85775484 C18.0083804,6.01381182 17.8431104,6.17048562 17.6652199,6.32715943 C17.4873293,6.48383323 17.3094387,6.62755369 17.1315482,6.75770397 L17.1315482,6.87551774 C17.1315482,6.90142443 17.137558,6.94028447 17.1501786,6.99271468 C17.1634002,7.04514489 17.16941,7.08400492 17.16941,7.10991162 L17.16941,7.26658542 C17.16941,8.4928355 16.940436,9.75239419 16.483089,11.0440278 C16.0251411,12.3356615 15.3514407,13.4903597 14.4619879,14.5075058 C13.5719342,15.5252687 12.4727388,16.3672362 11.1631999,17.0321746 C9.85366098,17.6977299 8.3602217,18.0172457 6.68228106,17.991339 C6.14800841,18.0172457 5.63356816,17.9851708 5.13775834,17.8932637 C4.64194852,17.8019734 4.15214851,17.6915616 3.66956028,17.5607945 C3.18637107,17.4306442 2.72842309,17.254232 2.29631732,17.0321746 C1.86421155,16.8107341 1.43210577,16.5825084 1,16.3474977 C1.07632466,16.3215911 1.15264933,16.314806 1.22897399,16.3277593 C1.30469767,16.3407127 1.38102234,16.3474977 1.457347,16.3474977 C1.53367166,16.3474977 1.60999633,16.353666 1.68632099,16.3672362 C1.76264565,16.3801895 1.83897032,16.3734044 1.91529498,16.3474977 C2.34740075,16.3734044 2.76688591,16.3407127 3.17375046,16.2494224 C3.580615,16.1581322 3.97425795,16.0538886 4.35588127,15.9366916 C4.73690361,15.8188779 5.10590631,15.6492507 5.46168742,15.4278102 C5.81746853,15.2057528 6.16062903,14.9904806 6.49116891,14.7819934 C6.08490535,14.7295632 5.69667123,14.645058 5.32826951,14.5272442 C4.95986778,14.4100473 4.6227171,14.2274668 4.31741845,13.9795027 C4.01272078,13.7315387 3.75189476,13.4576679 3.53614237,13.1572737 C3.31978899,12.8574963 3.14790825,12.4985035 3.02110113,12.0809123 C3.07218457,12.1333425 3.12927782,12.1592492 3.19238089,12.1592492 C3.25608494,12.1592492 3.31978899,12.1660343 3.38349304,12.1789877 C3.44659611,12.191941 3.50429034,12.191941 3.5547728,12.1789877 C3.60585623,12.1660343 3.65693967,12.1722026 3.70742212,12.1987261 C3.80898801,12.1722026 3.89793329,12.1660343 3.97425795,12.1789877 C4.05058262,12.191941 4.13351808,12.1851559 4.22246336,12.1592492 C4.31140863,12.1333425 4.39374311,12.1203892 4.47006778,12.1203892 C4.54639244,12.1203892 4.6227171,12.0938657 4.69904177,12.0420523 C4.266936,11.9637154 3.87269206,11.8070416 3.51691095,11.5720309 C3.16112985,11.3370202 2.84922039,11.0631494 2.58238456,10.7504186 C2.31554873,10.437071 2.10580615,10.0719101 1.95315682,9.65431885 C1.8005075,9.23672765 1.72418283,8.80618311 1.72418283,8.36268522 L1.72418283,8.34294678 C1.72418283,8.35590013 1.72418283,8.34973187 1.72418283,8.32320835 L1.72418283,8.30408675 C1.72418283,8.31704009 1.72418283,8.31025501 1.72418283,8.28434831 C1.85159093,8.38859191 1.98500885,8.46076055 2.12503756,8.49962059 C2.26446529,8.53848062 2.40449401,8.58412575 2.54452272,8.63655596 C2.68395045,8.68898617 2.82397917,8.72167795 2.96400788,8.73463129 C3.10343561,8.74758464 3.25007512,8.76732307 3.40212347,8.79322976 C3.14790825,8.58412575 2.92554506,8.37563856 2.73503389,8.16715137 C2.54452272,7.95804736 2.37264198,7.71008331 2.21999265,7.42325922 C2.06794431,7.13643513 1.95315682,6.84899422 1.87683216,6.56217013 C1.8005075,6.27534604 1.76264565,5.94904509 1.76264565,5.5838841 C1.76264565,5.45311699 1.77526627,5.29644319 1.8005075,5.11386269 C1.8263497,4.9312822 1.85760075,4.76844013 1.89606357,4.62471968 C1.93452639,4.48099922 1.98500885,4.32432542 2.0487129,4.15469827 C2.11241695,3.98507112 2.18213081,3.84813575 2.25845548,3.74389215 C2.71580248,4.29225046 3.22423291,4.80730017 3.78374679,5.29027493 C4.34326066,5.77263286 4.94724717,6.17727071 5.59510534,6.50357166 C6.24356449,6.82987261 6.92387566,7.09695827 7.63543788,7.30606228 C8.34760108,7.51454947 9.08500551,7.63174641 9.84765116,7.65826993 C9.84765116,7.60583972 9.84104037,7.54045616 9.82841975,7.46211926 C9.81579914,7.38439919 9.80257754,7.31223054 9.78995693,7.24684699 C9.77733632,7.18208026 9.7713265,7.10991162 9.7713265,7.03157471 L9.7713265,6.83604087 C9.7713265,6.28829939 9.86628159,5.79237129 10.0573937,5.3488734 C10.2479049,4.9053755 10.5087309,4.50073765 10.8386698,4.13557666 C11.1692097,3.76979884 11.5634536,3.4959281 12.0214016,3.31334761 C12.4787486,3.13076711 12.9619378,3.02652352 13.4703683,3 C13.7245835,3.02652352 13.9787987,3.0592153 14.2330139,3.09807533 C14.4872291,3.13693537 14.7288237,3.21527227 14.9577977,3.33308604 C15.1861707,3.45028298 15.4025241,3.58105009 15.6056559,3.72415372 C15.8093887,3.86787418 15.9872792,4.04428641 16.1399285,4.2527736 C16.3430603,4.1744367 16.5467931,4.10905314 16.7499249,4.05723976 C16.9536576,4.00480955 17.1567894,3.93942599 17.3599212,3.86108909 C17.563654,3.78336902 17.7541651,3.69824703 17.9320557,3.60695678 C18.1099462,3.51566653 18.2878368,3.40463785 18.4663283,3.27448757 C18.4152449,3.53540497 18.3323094,3.7568455 18.2181229,3.93942599 C18.1039364,4.12200649 17.9831391,4.31137207 17.855731,4.50752274 C17.7289239,4.70305658 17.5762746,4.86589864 17.398384,4.99666575 C17.2204935,5.12681604 17.0426029,5.27053649 16.8641114,5.4272103 C17.0426029,5.37478009 17.2265033,5.33592005 17.4176154,5.30939653 C17.6081266,5.28348984 17.792628,5.23784472 17.9705185,5.17246116 C18.1484091,5.1070776 18.3196888,5.04847914 18.4849588,4.99666575 C18.6502287,4.94423554 18.8221094,4.87885199 19,4.80051508 L19,4.83999195\" sketch:type=\"MSShapeGroup\"></path>\n",
      "</g>\n",
      "</g>\n",
      "</svg>\n",
      "</div>\n",
      "<span>Follow Desiring God on Twitter</span>\n",
      "</a>\n",
      "<a class=\"social-follow__network\" href=\"https://instagram.com/desiringgod\" target=\"_blank\">\n",
      "<div class=\"svg\"><svg height=\"20px\" version=\"1.1\" viewbox=\"0 0 20 20\" width=\"20px\" xmlns=\"http://www.w3.org/2000/svg\" xmlns:sketch=\"http://www.bohemiancoding.com/sketch/ns\" xmlns:xlink=\"http://www.w3.org/1999/xlink\">\n",
      "<title>Instagram</title>\n",
      "<g fill=\"none\" fill-rule=\"evenodd\" sketch:type=\"MSPage\" stroke=\"none\" stroke-width=\"1\">\n",
      "<g fill=\"#333333\" sketch:type=\"MSArtboardGroup\">\n",
      "<path d=\"M16.398,2 L3.602,2 C2.719,2 2,2.719 2,3.602 L2,16.398 C2,17.281 2.719,18 3.602,18 L16.398,18 C17.281,18 18,17.281 18,16.398 L18,3.602 C18,2.719 17.281,2 16.398,2 L16.398,2 L16.398,2 Z M10,6.801 C11.762,6.801 13.199,8.238 13.199,10 C13.199,11.762 11.762,13.199 10,13.199 C8.238,13.199 6.801,11.762 6.801,10 C6.801,8.238 8.238,6.801 10,6.801 L10,6.801 L10,6.801 Z M4,16.398 C3.762,16.398 3.602,16.238 3.602,16 L3.602,9.199 L5.281,9.199 C5.199,9.441 5.199,9.762 5.199,10 C5.199,12.641 7.359,14.801 10,14.801 C12.641,14.801 14.801,12.641 14.801,10 C14.801,9.762 14.801,9.441 14.719,9.199 L16.398,9.199 L16.398,16 C16.398,16.238 16.238,16.398 16,16.398 L4,16.398 L4,16.398 L4,16.398 Z M16.398,5.602 C16.398,5.84 16.238,6 16,6 L14.398,6 C14.16,6 14,5.84 14,5.602 L14,4 C14,3.762 14.16,3.602 14.398,3.602 L16,3.602 C16.238,3.602 16.398,3.762 16.398,4 L16.398,5.602 L16.398,5.602 L16.398,5.602 Z\" sketch:type=\"MSShapeGroup\"></path>\n",
      "</g>\n",
      "</g>\n",
      "</svg>\n",
      "</div>\n",
      "<span>Follow Desiring God on Instagram</span>\n",
      "</a>\n",
      "<a class=\"social-follow__network\" href=\"https://www.youtube.com/user/desiringGod\" target=\"_blank\">\n",
      "<div class=\"svg\"><svg height=\"20px\" version=\"1.1\" viewbox=\"0 0 20 20\" width=\"20px\" xmlns=\"http://www.w3.org/2000/svg\" xmlns:sketch=\"http://www.bohemiancoding.com/sketch/ns\" xmlns:xlink=\"http://www.w3.org/1999/xlink\">\n",
      "<title>Youtube</title>\n",
      "<g fill=\"none\" fill-rule=\"evenodd\" sketch:type=\"MSPage\" stroke=\"none\" stroke-width=\"1\">\n",
      "<g fill=\"#333333\" sketch:type=\"MSArtboardGroup\">\n",
      "<path d=\"M17.2045235,5.82059825 C16.5956905,5.19758094 15.9135042,5.19439415 15.6013448,5.15774607 C13.362437,5 10.0036677,5 10.0036677,5 C9.99633233,5 6.63756304,5 4.39865519,5.15774607 C4.08568081,5.19439415 3.40430951,5.19758094 2.79547654,5.82059825 C2.31623453,6.29463316 2.15974734,7.37256464 2.15974734,7.37256464 C2.15974734,7.37256464 2,8.63851669 2,9.90446875 L2,11.0907511 C2,12.3567031 2.15974734,13.6218585 2.15974734,13.6218585 C2.15974734,13.6218585 2.31623453,14.69979 2.79547654,15.1746216 C3.40430951,15.7976389 4.20386124,15.7777214 4.5600326,15.8430506 C5.83964138,15.9625552 9.99959248,16 9.99959248,16 C9.99959248,16 13.362437,15.9952198 15.6013448,15.836677 C15.9135042,15.800029 16.5956905,15.7976389 17.2045235,15.1746216 C17.6837655,14.69979 17.8402527,13.6218585 17.8402527,13.6218585 C17.8402527,13.6218585 18,12.3567031 18,11.0907511 L18,9.90446875 C18,8.63851669 17.8402527,7.37256464 17.8402527,7.37256464 C17.8402527,7.37256464 17.6837655,6.29463316 17.2045235,5.82059825 Z M8.00094268,13 L8,8 L13,10.5081581 L8.00094268,13 L8.00094268,13 Z\" sketch:type=\"MSShapeGroup\"></path>\n",
      "</g>\n",
      "</g>\n",
      "</svg>\n",
      "</div>\n",
      "<span>Follow Desiring God on YouTube</span>\n",
      "</a>\n",
      "</section>\n",
      "<section class=\"social-follow grid-s-2 grid-m-1 grid-l-3 grid-xl-2\" data-segment=\"jp-social-outbound\">\n",
      "<h3 class=\"label\">John Piper</h3>\n",
      "<a class=\"social-follow__network\" href=\"http://facebook.com/johnpiper\" target=\"_blank\">\n",
      "<div class=\"svg\"><svg height=\"20px\" version=\"1.1\" viewbox=\"0 0 20 20\" width=\"20px\" xmlns=\"http://www.w3.org/2000/svg\" xmlns:sketch=\"http://www.bohemiancoding.com/sketch/ns\" xmlns:xlink=\"http://www.w3.org/1999/xlink\">\n",
      "<title>Facebook</title>\n",
      "<g fill=\"none\" fill-rule=\"evenodd\" sketch:type=\"MSPage\" stroke=\"none\" stroke-width=\"1\">\n",
      "<g fill=\"#333333\" sketch:type=\"MSArtboardGroup\">\n",
      "<path d=\"M11.5113801,4.85631128 C11.4250798,4.9027115 11.3513532,4.96637692 11.2902,5.04784708 C11.2284754,5.1287777 11.1793243,5.22751305 11.1427467,5.3435136 C11.1055976,5.45951415 11.0873088,5.58738453 11,5.72658519 L11,7.57234282 L14.4444444,7.57234282 L14.4444444,10.1847832 L11,10.1847832 L11,18 L8,18 L8,10.1847832 L5,10.1847832 L5,7.57234282 L8,7.57234282 L8,6.00552606 C8,5.34351349 7.97592873,4.96044201 8.1725332,4.47270015 C8.36913767,3.98549783 8.64004034,3.55602602 8.98409817,3.18428471 C9.32872752,2.81308294 9.73451,2.52281179 10.2014456,2.31347126 C10.6689528,2.10467027 11.185611,2 11.7514204,2 L14.4444444,2 L14.4444444,4.78617141 L11.7514204,4.78617141 C11.6771222,4.78617141 11.5976803,4.80991106 11.5113801,4.85631128 Z\" sketch:type=\"MSShapeGroup\"></path>\n",
      "</g>\n",
      "</g>\n",
      "</svg>\n",
      "</div>\n",
      "<span>Follow John Piper on Facebook</span>\n",
      "</a>\n",
      "<a class=\"social-follow__network\" href=\"http://twitter.com/JohnPiper\" target=\"_blank\">\n",
      "<div class=\"svg\"><svg height=\"20px\" version=\"1.1\" viewbox=\"0 0 20 20\" width=\"20px\" xmlns=\"http://www.w3.org/2000/svg\" xmlns:sketch=\"http://www.bohemiancoding.com/sketch/ns\" xmlns:xlink=\"http://www.w3.org/1999/xlink\">\n",
      "<title>Twitter</title>\n",
      "<g fill=\"none\" fill-rule=\"evenodd\" sketch:type=\"MSPage\" stroke=\"none\" stroke-width=\"1\">\n",
      "<g fill=\"#333333\" sketch:type=\"MSArtboardGroup\">\n",
      "<path d=\"M19,4.83999195 C18.8731929,4.99666575 18.739174,5.1662929 18.5997463,5.3488734 C18.4597175,5.53145389 18.313679,5.70108104 18.1610297,5.85775484 C18.0083804,6.01381182 17.8431104,6.17048562 17.6652199,6.32715943 C17.4873293,6.48383323 17.3094387,6.62755369 17.1315482,6.75770397 L17.1315482,6.87551774 C17.1315482,6.90142443 17.137558,6.94028447 17.1501786,6.99271468 C17.1634002,7.04514489 17.16941,7.08400492 17.16941,7.10991162 L17.16941,7.26658542 C17.16941,8.4928355 16.940436,9.75239419 16.483089,11.0440278 C16.0251411,12.3356615 15.3514407,13.4903597 14.4619879,14.5075058 C13.5719342,15.5252687 12.4727388,16.3672362 11.1631999,17.0321746 C9.85366098,17.6977299 8.3602217,18.0172457 6.68228106,17.991339 C6.14800841,18.0172457 5.63356816,17.9851708 5.13775834,17.8932637 C4.64194852,17.8019734 4.15214851,17.6915616 3.66956028,17.5607945 C3.18637107,17.4306442 2.72842309,17.254232 2.29631732,17.0321746 C1.86421155,16.8107341 1.43210577,16.5825084 1,16.3474977 C1.07632466,16.3215911 1.15264933,16.314806 1.22897399,16.3277593 C1.30469767,16.3407127 1.38102234,16.3474977 1.457347,16.3474977 C1.53367166,16.3474977 1.60999633,16.353666 1.68632099,16.3672362 C1.76264565,16.3801895 1.83897032,16.3734044 1.91529498,16.3474977 C2.34740075,16.3734044 2.76688591,16.3407127 3.17375046,16.2494224 C3.580615,16.1581322 3.97425795,16.0538886 4.35588127,15.9366916 C4.73690361,15.8188779 5.10590631,15.6492507 5.46168742,15.4278102 C5.81746853,15.2057528 6.16062903,14.9904806 6.49116891,14.7819934 C6.08490535,14.7295632 5.69667123,14.645058 5.32826951,14.5272442 C4.95986778,14.4100473 4.6227171,14.2274668 4.31741845,13.9795027 C4.01272078,13.7315387 3.75189476,13.4576679 3.53614237,13.1572737 C3.31978899,12.8574963 3.14790825,12.4985035 3.02110113,12.0809123 C3.07218457,12.1333425 3.12927782,12.1592492 3.19238089,12.1592492 C3.25608494,12.1592492 3.31978899,12.1660343 3.38349304,12.1789877 C3.44659611,12.191941 3.50429034,12.191941 3.5547728,12.1789877 C3.60585623,12.1660343 3.65693967,12.1722026 3.70742212,12.1987261 C3.80898801,12.1722026 3.89793329,12.1660343 3.97425795,12.1789877 C4.05058262,12.191941 4.13351808,12.1851559 4.22246336,12.1592492 C4.31140863,12.1333425 4.39374311,12.1203892 4.47006778,12.1203892 C4.54639244,12.1203892 4.6227171,12.0938657 4.69904177,12.0420523 C4.266936,11.9637154 3.87269206,11.8070416 3.51691095,11.5720309 C3.16112985,11.3370202 2.84922039,11.0631494 2.58238456,10.7504186 C2.31554873,10.437071 2.10580615,10.0719101 1.95315682,9.65431885 C1.8005075,9.23672765 1.72418283,8.80618311 1.72418283,8.36268522 L1.72418283,8.34294678 C1.72418283,8.35590013 1.72418283,8.34973187 1.72418283,8.32320835 L1.72418283,8.30408675 C1.72418283,8.31704009 1.72418283,8.31025501 1.72418283,8.28434831 C1.85159093,8.38859191 1.98500885,8.46076055 2.12503756,8.49962059 C2.26446529,8.53848062 2.40449401,8.58412575 2.54452272,8.63655596 C2.68395045,8.68898617 2.82397917,8.72167795 2.96400788,8.73463129 C3.10343561,8.74758464 3.25007512,8.76732307 3.40212347,8.79322976 C3.14790825,8.58412575 2.92554506,8.37563856 2.73503389,8.16715137 C2.54452272,7.95804736 2.37264198,7.71008331 2.21999265,7.42325922 C2.06794431,7.13643513 1.95315682,6.84899422 1.87683216,6.56217013 C1.8005075,6.27534604 1.76264565,5.94904509 1.76264565,5.5838841 C1.76264565,5.45311699 1.77526627,5.29644319 1.8005075,5.11386269 C1.8263497,4.9312822 1.85760075,4.76844013 1.89606357,4.62471968 C1.93452639,4.48099922 1.98500885,4.32432542 2.0487129,4.15469827 C2.11241695,3.98507112 2.18213081,3.84813575 2.25845548,3.74389215 C2.71580248,4.29225046 3.22423291,4.80730017 3.78374679,5.29027493 C4.34326066,5.77263286 4.94724717,6.17727071 5.59510534,6.50357166 C6.24356449,6.82987261 6.92387566,7.09695827 7.63543788,7.30606228 C8.34760108,7.51454947 9.08500551,7.63174641 9.84765116,7.65826993 C9.84765116,7.60583972 9.84104037,7.54045616 9.82841975,7.46211926 C9.81579914,7.38439919 9.80257754,7.31223054 9.78995693,7.24684699 C9.77733632,7.18208026 9.7713265,7.10991162 9.7713265,7.03157471 L9.7713265,6.83604087 C9.7713265,6.28829939 9.86628159,5.79237129 10.0573937,5.3488734 C10.2479049,4.9053755 10.5087309,4.50073765 10.8386698,4.13557666 C11.1692097,3.76979884 11.5634536,3.4959281 12.0214016,3.31334761 C12.4787486,3.13076711 12.9619378,3.02652352 13.4703683,3 C13.7245835,3.02652352 13.9787987,3.0592153 14.2330139,3.09807533 C14.4872291,3.13693537 14.7288237,3.21527227 14.9577977,3.33308604 C15.1861707,3.45028298 15.4025241,3.58105009 15.6056559,3.72415372 C15.8093887,3.86787418 15.9872792,4.04428641 16.1399285,4.2527736 C16.3430603,4.1744367 16.5467931,4.10905314 16.7499249,4.05723976 C16.9536576,4.00480955 17.1567894,3.93942599 17.3599212,3.86108909 C17.563654,3.78336902 17.7541651,3.69824703 17.9320557,3.60695678 C18.1099462,3.51566653 18.2878368,3.40463785 18.4663283,3.27448757 C18.4152449,3.53540497 18.3323094,3.7568455 18.2181229,3.93942599 C18.1039364,4.12200649 17.9831391,4.31137207 17.855731,4.50752274 C17.7289239,4.70305658 17.5762746,4.86589864 17.398384,4.99666575 C17.2204935,5.12681604 17.0426029,5.27053649 16.8641114,5.4272103 C17.0426029,5.37478009 17.2265033,5.33592005 17.4176154,5.30939653 C17.6081266,5.28348984 17.792628,5.23784472 17.9705185,5.17246116 C18.1484091,5.1070776 18.3196888,5.04847914 18.4849588,4.99666575 C18.6502287,4.94423554 18.8221094,4.87885199 19,4.80051508 L19,4.83999195\" sketch:type=\"MSShapeGroup\"></path>\n",
      "</g>\n",
      "</g>\n",
      "</svg>\n",
      "</div>\n",
      "<span>Follow John Piper on Twitter</span>\n",
      "</a>\n",
      "</section>\n",
      "<section class=\"subscribe grid-s-6 grid-m-3 grid-l-6 grid-xl-3 grid-right\">\n",
      "<div class=\"email-subscribe js-subscribe\">\n",
      "<form accept-charset=\"UTF-8\" action=\"/subscribe\" data-remote=\"true\" data-segment=\"footer-email-updates-form\" method=\"post\"><input name=\"utf8\" type=\"hidden\" value=\"✓\"/>\n",
      "<h3 class=\"label\">Email Updates</h3>\n",
      "<div class=\"checkboxes-outer\">\n",
      "<div class=\"checkboxes js-subscribe-checkboxes\">\n",
      "<a class=\"subscribe__close js-subscribe-close\">\n",
      "<div class=\"svg\"><svg height=\"20\" version=\"1.1\" viewbox=\"0 0 20 20\" width=\"20\" xmlns=\"http://www.w3.org/2000/svg\" xmlns:sketch=\"http://www.bohemiancoding.com/sketch/ns\" xmlns:xlink=\"http://www.w3.org/1999/xlink\">\n",
      "<title>Close</title>\n",
      "<g fill=\"none\" fill-rule=\"evenodd\" sketch:type=\"MSPage\" stroke=\"none\" stroke-width=\"1\">\n",
      "<g fill=\"#2E2E2C\" sketch:type=\"MSArtboardGroup\">\n",
      "<path d=\"M16.1214739,4 L10.5004969,9.62097699 L4.87852611,4 L4,4.87852611 L9.6219708,10.4995031 L4,16.1214739 L4.87852611,17 L10.5004969,11.3780292 L16.1214739,17 L17,16.1214739 L11.379023,10.4995031 L17,4.87852611 L16.1214739,4 Z\" sketch:type=\"MSShapeGroup\"></path>\n",
      "</g>\n",
      "</g>\n",
      "</svg>\n",
      "</div>\n",
      "</a>\n",
      "<p>Sign up for notifications about new content:</p>\n",
      "<div class=\"checkbox\">\n",
      "<input id=\"blog\" name=\"blog\" type=\"checkbox\" value=\"1\"/>\n",
      "<label for=\"blog\">New Daily Content</label>\n",
      "</div>\n",
      "<div class=\"checkbox\">\n",
      "<input id=\"apj\" name=\"apj\" type=\"checkbox\" value=\"1\"/>\n",
      "<label for=\"apj\">Ask Pastor John</label>\n",
      "</div>\n",
      "<div class=\"checkbox\">\n",
      "<input id=\"labs\" name=\"labs\" type=\"checkbox\" value=\"1\"/>\n",
      "<label for=\"labs\">Look at the Book</label>\n",
      "</div>\n",
      "<div class=\"checkbox\">\n",
      "<input id=\"sj\" name=\"sj\" type=\"checkbox\" value=\"1\"/>\n",
      "<label for=\"blog\">Solid Joys</label>\n",
      "</div>\n",
      "<div class=\"checkbox\">\n",
      "<input id=\"newsletter\" name=\"newsletter\" type=\"checkbox\" value=\"1\"/>\n",
      "<label for=\"newsletter\">News &amp; Updates</label>\n",
      "</div>\n",
      "</div>\n",
      "</div>\n",
      "<div class=\"email-and-submit\">\n",
      "<input id=\"email_language\" name=\"email_language\" type=\"hidden\" value=\"en\"/>\n",
      "<input class=\"textfield js-subscribe-email\" id=\"email_address\" name=\"email_address\" placeholder=\"Email Address\" type=\"email\"/>\n",
      "<button class=\"button submit\" name=\"button\" type=\"submit\">Subscribe</button>\n",
      "</div>\n",
      "</form>\n",
      "</div>\n",
      "</section>\n",
      "</div>\n",
      "<section class=\"footer__links\">\n",
      "<div class=\"grid-container\">\n",
      "<div class=\"grid-full\">\n",
      "<a href=\"/permissions\">\n",
      "Permissions\n",
      "</a>\n",
      "<a href=\"/privacy-policy\">\n",
      "Privacy\n",
      "</a>\n",
      "<a href=\"/careers\">\n",
      "Careers\n",
      "</a>\n",
      "<a class=\"footer__donate\" data-no-turbolink=\"true\" data-segment=\"footer-donate\" href=\"/donate\">\n",
      "Donate\n",
      "</a>\n",
      "</div>\n",
      "</div>\n",
      "</section>\n",
      "</footer>\n",
      "<span class=\"share-popup js-share-popup\">\n",
      "<div class=\"share js-share-values\" data-link=\"/\" data-title=\"Desiring God\"><ul class=\"share__options\">\n",
      "<li class=\"share__option js-popup-twitter-badge\">\n",
      "<div class=\"share-option__symbol\">\n",
      "<div class=\"svg\"><svg class=\"svg-twitter\" height=\"20px\" version=\"1.1\" viewbox=\"0 0 20 20\" width=\"20px\" xmlns=\"http://www.w3.org/2000/svg\" xmlns:sketch=\"http://www.bohemiancoding.com/sketch/ns\" xmlns:xlink=\"http://www.w3.org/1999/xlink\">\n",
      "<title>Twitter</title>\n",
      "<g fill=\"none\" fill-rule=\"evenodd\" sketch:type=\"MSPage\" stroke=\"none\" stroke-width=\"1\">\n",
      "<g fill=\"#333333\" sketch:type=\"MSArtboardGroup\">\n",
      "<path d=\"M19,4.83999195 C18.8731929,4.99666575 18.739174,5.1662929 18.5997463,5.3488734 C18.4597175,5.53145389 18.313679,5.70108104 18.1610297,5.85775484 C18.0083804,6.01381182 17.8431104,6.17048562 17.6652199,6.32715943 C17.4873293,6.48383323 17.3094387,6.62755369 17.1315482,6.75770397 L17.1315482,6.87551774 C17.1315482,6.90142443 17.137558,6.94028447 17.1501786,6.99271468 C17.1634002,7.04514489 17.16941,7.08400492 17.16941,7.10991162 L17.16941,7.26658542 C17.16941,8.4928355 16.940436,9.75239419 16.483089,11.0440278 C16.0251411,12.3356615 15.3514407,13.4903597 14.4619879,14.5075058 C13.5719342,15.5252687 12.4727388,16.3672362 11.1631999,17.0321746 C9.85366098,17.6977299 8.3602217,18.0172457 6.68228106,17.991339 C6.14800841,18.0172457 5.63356816,17.9851708 5.13775834,17.8932637 C4.64194852,17.8019734 4.15214851,17.6915616 3.66956028,17.5607945 C3.18637107,17.4306442 2.72842309,17.254232 2.29631732,17.0321746 C1.86421155,16.8107341 1.43210577,16.5825084 1,16.3474977 C1.07632466,16.3215911 1.15264933,16.314806 1.22897399,16.3277593 C1.30469767,16.3407127 1.38102234,16.3474977 1.457347,16.3474977 C1.53367166,16.3474977 1.60999633,16.353666 1.68632099,16.3672362 C1.76264565,16.3801895 1.83897032,16.3734044 1.91529498,16.3474977 C2.34740075,16.3734044 2.76688591,16.3407127 3.17375046,16.2494224 C3.580615,16.1581322 3.97425795,16.0538886 4.35588127,15.9366916 C4.73690361,15.8188779 5.10590631,15.6492507 5.46168742,15.4278102 C5.81746853,15.2057528 6.16062903,14.9904806 6.49116891,14.7819934 C6.08490535,14.7295632 5.69667123,14.645058 5.32826951,14.5272442 C4.95986778,14.4100473 4.6227171,14.2274668 4.31741845,13.9795027 C4.01272078,13.7315387 3.75189476,13.4576679 3.53614237,13.1572737 C3.31978899,12.8574963 3.14790825,12.4985035 3.02110113,12.0809123 C3.07218457,12.1333425 3.12927782,12.1592492 3.19238089,12.1592492 C3.25608494,12.1592492 3.31978899,12.1660343 3.38349304,12.1789877 C3.44659611,12.191941 3.50429034,12.191941 3.5547728,12.1789877 C3.60585623,12.1660343 3.65693967,12.1722026 3.70742212,12.1987261 C3.80898801,12.1722026 3.89793329,12.1660343 3.97425795,12.1789877 C4.05058262,12.191941 4.13351808,12.1851559 4.22246336,12.1592492 C4.31140863,12.1333425 4.39374311,12.1203892 4.47006778,12.1203892 C4.54639244,12.1203892 4.6227171,12.0938657 4.69904177,12.0420523 C4.266936,11.9637154 3.87269206,11.8070416 3.51691095,11.5720309 C3.16112985,11.3370202 2.84922039,11.0631494 2.58238456,10.7504186 C2.31554873,10.437071 2.10580615,10.0719101 1.95315682,9.65431885 C1.8005075,9.23672765 1.72418283,8.80618311 1.72418283,8.36268522 L1.72418283,8.34294678 C1.72418283,8.35590013 1.72418283,8.34973187 1.72418283,8.32320835 L1.72418283,8.30408675 C1.72418283,8.31704009 1.72418283,8.31025501 1.72418283,8.28434831 C1.85159093,8.38859191 1.98500885,8.46076055 2.12503756,8.49962059 C2.26446529,8.53848062 2.40449401,8.58412575 2.54452272,8.63655596 C2.68395045,8.68898617 2.82397917,8.72167795 2.96400788,8.73463129 C3.10343561,8.74758464 3.25007512,8.76732307 3.40212347,8.79322976 C3.14790825,8.58412575 2.92554506,8.37563856 2.73503389,8.16715137 C2.54452272,7.95804736 2.37264198,7.71008331 2.21999265,7.42325922 C2.06794431,7.13643513 1.95315682,6.84899422 1.87683216,6.56217013 C1.8005075,6.27534604 1.76264565,5.94904509 1.76264565,5.5838841 C1.76264565,5.45311699 1.77526627,5.29644319 1.8005075,5.11386269 C1.8263497,4.9312822 1.85760075,4.76844013 1.89606357,4.62471968 C1.93452639,4.48099922 1.98500885,4.32432542 2.0487129,4.15469827 C2.11241695,3.98507112 2.18213081,3.84813575 2.25845548,3.74389215 C2.71580248,4.29225046 3.22423291,4.80730017 3.78374679,5.29027493 C4.34326066,5.77263286 4.94724717,6.17727071 5.59510534,6.50357166 C6.24356449,6.82987261 6.92387566,7.09695827 7.63543788,7.30606228 C8.34760108,7.51454947 9.08500551,7.63174641 9.84765116,7.65826993 C9.84765116,7.60583972 9.84104037,7.54045616 9.82841975,7.46211926 C9.81579914,7.38439919 9.80257754,7.31223054 9.78995693,7.24684699 C9.77733632,7.18208026 9.7713265,7.10991162 9.7713265,7.03157471 L9.7713265,6.83604087 C9.7713265,6.28829939 9.86628159,5.79237129 10.0573937,5.3488734 C10.2479049,4.9053755 10.5087309,4.50073765 10.8386698,4.13557666 C11.1692097,3.76979884 11.5634536,3.4959281 12.0214016,3.31334761 C12.4787486,3.13076711 12.9619378,3.02652352 13.4703683,3 C13.7245835,3.02652352 13.9787987,3.0592153 14.2330139,3.09807533 C14.4872291,3.13693537 14.7288237,3.21527227 14.9577977,3.33308604 C15.1861707,3.45028298 15.4025241,3.58105009 15.6056559,3.72415372 C15.8093887,3.86787418 15.9872792,4.04428641 16.1399285,4.2527736 C16.3430603,4.1744367 16.5467931,4.10905314 16.7499249,4.05723976 C16.9536576,4.00480955 17.1567894,3.93942599 17.3599212,3.86108909 C17.563654,3.78336902 17.7541651,3.69824703 17.9320557,3.60695678 C18.1099462,3.51566653 18.2878368,3.40463785 18.4663283,3.27448757 C18.4152449,3.53540497 18.3323094,3.7568455 18.2181229,3.93942599 C18.1039364,4.12200649 17.9831391,4.31137207 17.855731,4.50752274 C17.7289239,4.70305658 17.5762746,4.86589864 17.398384,4.99666575 C17.2204935,5.12681604 17.0426029,5.27053649 16.8641114,5.4272103 C17.0426029,5.37478009 17.2265033,5.33592005 17.4176154,5.30939653 C17.6081266,5.28348984 17.792628,5.23784472 17.9705185,5.17246116 C18.1484091,5.1070776 18.3196888,5.04847914 18.4849588,4.99666575 C18.6502287,4.94423554 18.8221094,4.87885199 19,4.80051508 L19,4.83999195\" sketch:type=\"MSShapeGroup\"></path>\n",
      "</g>\n",
      "</g>\n",
      "</svg>\n",
      "</div>\n",
      "</div>\n",
      "<span>Share on Twitter</span>\n",
      "</li>\n",
      "<li class=\"share__option js-popup-facebook-badge\">\n",
      "<div class=\"share-option__symbol\">\n",
      "<div class=\"svg\"><svg class=\"svg-facebook\" height=\"20px\" version=\"1.1\" viewbox=\"0 0 20 20\" width=\"20px\" xmlns=\"http://www.w3.org/2000/svg\" xmlns:sketch=\"http://www.bohemiancoding.com/sketch/ns\" xmlns:xlink=\"http://www.w3.org/1999/xlink\">\n",
      "<title>Facebook</title>\n",
      "<g fill=\"none\" fill-rule=\"evenodd\" sketch:type=\"MSPage\" stroke=\"none\" stroke-width=\"1\">\n",
      "<g fill=\"#333333\" sketch:type=\"MSArtboardGroup\">\n",
      "<path d=\"M11.5113801,4.85631128 C11.4250798,4.9027115 11.3513532,4.96637692 11.2902,5.04784708 C11.2284754,5.1287777 11.1793243,5.22751305 11.1427467,5.3435136 C11.1055976,5.45951415 11.0873088,5.58738453 11,5.72658519 L11,7.57234282 L14.4444444,7.57234282 L14.4444444,10.1847832 L11,10.1847832 L11,18 L8,18 L8,10.1847832 L5,10.1847832 L5,7.57234282 L8,7.57234282 L8,6.00552606 C8,5.34351349 7.97592873,4.96044201 8.1725332,4.47270015 C8.36913767,3.98549783 8.64004034,3.55602602 8.98409817,3.18428471 C9.32872752,2.81308294 9.73451,2.52281179 10.2014456,2.31347126 C10.6689528,2.10467027 11.185611,2 11.7514204,2 L14.4444444,2 L14.4444444,4.78617141 L11.7514204,4.78617141 C11.6771222,4.78617141 11.5976803,4.80991106 11.5113801,4.85631128 Z\" sketch:type=\"MSShapeGroup\"></path>\n",
      "</g>\n",
      "</g>\n",
      "</svg>\n",
      "</div>\n",
      "</div>\n",
      "<span>Share on Facebook</span>\n",
      "</li>\n",
      "<li class=\"share__option js-popup-email-badge\">\n",
      "<div class=\"share-option__symbol\">\n",
      "<div class=\"svg\"><svg class=\"svg-email\" height=\"20px\" version=\"1.1\" viewbox=\"0 0 20 20\" width=\"20px\" xmlns=\"http://www.w3.org/2000/svg\" xmlns:sketch=\"http://www.bohemiancoding.com/sketch/ns\" xmlns:xlink=\"http://www.w3.org/1999/xlink\">\n",
      "<title>Email (Filled)</title>\n",
      "<g fill=\"none\" fill-rule=\"evenodd\" sketch:type=\"MSPage\" stroke=\"none\" stroke-width=\"1\">\n",
      "<g fill=\"#333333\" sketch:type=\"MSArtboardGroup\">\n",
      "<path d=\"M2,6.14937457 L2.00000002,16 L18,16 L18,6.14937457 L10.3156668,12.4050897 L10,12.6620699 L9.68433318,12.4050897 L2,6.14937457 L2,6.14937457 Z M17.8279088,5 L2.17209124,5 L2.31566682,5.116883 L10,11 L17.6843332,5.116883 L17.8279088,5 L17.8279088,5 Z\" sketch:type=\"MSShapeGroup\"></path>\n",
      "</g>\n",
      "</g>\n",
      "</svg>\n",
      "</div>\n",
      "</div>\n",
      "<span>Share with Email</span>\n",
      "</li>\n",
      "</ul>\n",
      "</div></span>\n",
      "<div data-value=\"1415647432040331\" id=\"facebook-app-id\"></div>\n",
      "</div>\n",
      "<script defer=\"defer\" src=\"https://www.desiringgod.org/client/javascript/singles/search-0cd394c93283adc81920.js\"></script>\n",
      "</body>\n",
      "\n",
      "\n"
     ]
    }
   ],
   "source": [
    "print(DG_results_soup)"
   ]
  },
  {
   "cell_type": "code",
   "execution_count": 72,
   "metadata": {},
   "outputs": [
    {
     "data": {
      "text/plain": [
       "<div class=\"page-background\">\n",
       "<main class=\"constrain\" role=\"main\">\n",
       "<div></div>\n",
       "<div class=\"meta-nav-module-with-sidebar\">\n",
       "<div class=\"meta-nav\"></div>\n",
       "<div class=\"content\">\n",
       "<gcse:search autocompletemaxcompletions=\"5\" enablehistory=\"true\" refinementstyle=\"link\">\n",
       "</gcse:search></div>\n",
       "</div>\n",
       "</main>\n",
       "<footer id=\"footer\">\n",
       "<div class=\"grid-container\">\n",
       "<section class=\"grid-s-6 grid-m-3 grid-l-6 grid-xl-5 about\">\n",
       "<div class=\"svg footer-mark\">\n",
       "<div class=\"svg\">\n",
       "<svg height=\"28px\" version=\"1.1\" viewbox=\"0 0 28 28\" width=\"28px\" xmlns=\"http://www.w3.org/2000/svg\" xmlns:sketch=\"http://www.bohemiancoding.com/sketch/ns\" xmlns:xlink=\"http://www.w3.org/1999/xlink\">\n",
       "<title>Mark - Large</title>\n",
       "<g fill=\"none\" fill-rule=\"evenodd\" sketch:type=\"MSPage\" stroke=\"none\" stroke-width=\"1\">\n",
       "<g fill=\"#333333\" sketch:type=\"MSArtboardGroup\">\n",
       "<path d=\"M26.8662033,8.37880104 L22.18245,8.37880104 L26.9973936,3.56559513 C26.2397915,2.62119896 25.3831451,1.76020851 24.4396177,1 L19.6238054,5.81841877 L19.6238054,1.13466551 L16,1.13466551 L16,12 L26.8662033,12 L26.8662033,8.37880104 Z M26.8662033,19.621199 L22.18245,19.621199 L26.9973936,24.4344049 C26.2397915,25.378801 25.3831451,26.2397915 24.4396177,27 L19.6238054,22.1815812 L19.6238054,26.8653345 L16,26.8653345 L16,16 L26.8662033,16 L26.8662033,19.621199 Z M1.13119027,8.37880104 L5.81494353,8.37880104 L1,3.56559513 C1.75760209,2.62119896 2.61424848,1.76020851 3.55777585,1 L8.37358818,5.81841877 L8.37358818,1.13466551 L11.9973936,1.13466551 L11.9973936,12 L1.13119027,12 L1.13119027,8.37880104 Z M1.13119027,19.621199 L5.81494353,19.621199 L1,24.4344049 C1.75760209,25.378801 2.61424848,26.2397915 3.55777585,27 L8.37358818,22.1815812 L8.37358818,26.8653345 L11.9973936,26.8653345 L11.9973936,16 L1.13119027,16 L1.13119027,19.621199 Z\" sketch:type=\"MSShapeGroup\"></path>\n",
       "</g>\n",
       "</g>\n",
       "</svg>\n",
       "</div>\n",
       "</div>\n",
       "<div class=\"about__body\">\n",
       "<h2>God is most glorified in us <br/>when we are most <span></span>satisfied in him</h2>\n",
       "<a class=\"button--learn-more\" href=\"/about-us\">\n",
       "Learn more about Desiring God\n",
       "<div class=\"svg\"><svg height=\"20px\" version=\"1.1\" viewbox=\"0 0 20 20\" width=\"20px\" xmlns=\"http://www.w3.org/2000/svg\" xmlns:sketch=\"http://www.bohemiancoding.com/sketch/ns\" xmlns:xlink=\"http://www.w3.org/1999/xlink\">\n",
       "<title>Arrow</title>\n",
       "<g fill=\"none\" fill-rule=\"evenodd\" sketch:type=\"MSPage\" stroke=\"none\" stroke-width=\"1\">\n",
       "<g fill=\"#333333\" sketch:type=\"MSArtboardGroup\">\n",
       "<path d=\"M12.5150732,6.35018478 C12.3229538,6.15543439 12.3232472,5.83997845 12.5157285,5.64559421 C12.7082098,5.45120998 13.0199903,5.45150681 13.2121097,5.6462572 L17.6528114,10.1477717 L18,10.4997148 L17.6528319,10.8516786 L13.2121302,15.3537221 C13.0200221,15.5484839 12.7082416,15.5487993 12.515749,15.3544265 C12.3232564,15.1600537 12.3229447,14.8445977 12.5150528,14.6498359 L16,11 L2,11 L2,10 L16,10 L12.5150732,6.35018478 L12.5150732,6.35018478 L12.5150732,6.35018478 Z\" sketch:type=\"MSShapeGroup\"></path>\n",
       "</g>\n",
       "</g>\n",
       "</svg>\n",
       "</div>\n",
       "</a>\n",
       "</div>\n",
       "</section>\n",
       "<section class=\"social-follow grid-s-4 grid-m-2 grid-l-3 grid-xl-2\" data-segment=\"dg-social-outbound\">\n",
       "<h3 class=\"label\">Desiring God</h3>\n",
       "<a class=\"social-follow__network\" href=\"http://facebook.com/desiringgod\" target=\"_blank\">\n",
       "<div class=\"svg\"><svg height=\"20px\" version=\"1.1\" viewbox=\"0 0 20 20\" width=\"20px\" xmlns=\"http://www.w3.org/2000/svg\" xmlns:sketch=\"http://www.bohemiancoding.com/sketch/ns\" xmlns:xlink=\"http://www.w3.org/1999/xlink\">\n",
       "<title>Facebook</title>\n",
       "<g fill=\"none\" fill-rule=\"evenodd\" sketch:type=\"MSPage\" stroke=\"none\" stroke-width=\"1\">\n",
       "<g fill=\"#333333\" sketch:type=\"MSArtboardGroup\">\n",
       "<path d=\"M11.5113801,4.85631128 C11.4250798,4.9027115 11.3513532,4.96637692 11.2902,5.04784708 C11.2284754,5.1287777 11.1793243,5.22751305 11.1427467,5.3435136 C11.1055976,5.45951415 11.0873088,5.58738453 11,5.72658519 L11,7.57234282 L14.4444444,7.57234282 L14.4444444,10.1847832 L11,10.1847832 L11,18 L8,18 L8,10.1847832 L5,10.1847832 L5,7.57234282 L8,7.57234282 L8,6.00552606 C8,5.34351349 7.97592873,4.96044201 8.1725332,4.47270015 C8.36913767,3.98549783 8.64004034,3.55602602 8.98409817,3.18428471 C9.32872752,2.81308294 9.73451,2.52281179 10.2014456,2.31347126 C10.6689528,2.10467027 11.185611,2 11.7514204,2 L14.4444444,2 L14.4444444,4.78617141 L11.7514204,4.78617141 C11.6771222,4.78617141 11.5976803,4.80991106 11.5113801,4.85631128 Z\" sketch:type=\"MSShapeGroup\"></path>\n",
       "</g>\n",
       "</g>\n",
       "</svg>\n",
       "</div>\n",
       "<span>Follow Desiring God on Facebook</span>\n",
       "</a>\n",
       "<a class=\"social-follow__network\" href=\"http://twitter.com/desiringGod\" target=\"_blank\">\n",
       "<div class=\"svg\"><svg height=\"20px\" version=\"1.1\" viewbox=\"0 0 20 20\" width=\"20px\" xmlns=\"http://www.w3.org/2000/svg\" xmlns:sketch=\"http://www.bohemiancoding.com/sketch/ns\" xmlns:xlink=\"http://www.w3.org/1999/xlink\">\n",
       "<title>Twitter</title>\n",
       "<g fill=\"none\" fill-rule=\"evenodd\" sketch:type=\"MSPage\" stroke=\"none\" stroke-width=\"1\">\n",
       "<g fill=\"#333333\" sketch:type=\"MSArtboardGroup\">\n",
       "<path d=\"M19,4.83999195 C18.8731929,4.99666575 18.739174,5.1662929 18.5997463,5.3488734 C18.4597175,5.53145389 18.313679,5.70108104 18.1610297,5.85775484 C18.0083804,6.01381182 17.8431104,6.17048562 17.6652199,6.32715943 C17.4873293,6.48383323 17.3094387,6.62755369 17.1315482,6.75770397 L17.1315482,6.87551774 C17.1315482,6.90142443 17.137558,6.94028447 17.1501786,6.99271468 C17.1634002,7.04514489 17.16941,7.08400492 17.16941,7.10991162 L17.16941,7.26658542 C17.16941,8.4928355 16.940436,9.75239419 16.483089,11.0440278 C16.0251411,12.3356615 15.3514407,13.4903597 14.4619879,14.5075058 C13.5719342,15.5252687 12.4727388,16.3672362 11.1631999,17.0321746 C9.85366098,17.6977299 8.3602217,18.0172457 6.68228106,17.991339 C6.14800841,18.0172457 5.63356816,17.9851708 5.13775834,17.8932637 C4.64194852,17.8019734 4.15214851,17.6915616 3.66956028,17.5607945 C3.18637107,17.4306442 2.72842309,17.254232 2.29631732,17.0321746 C1.86421155,16.8107341 1.43210577,16.5825084 1,16.3474977 C1.07632466,16.3215911 1.15264933,16.314806 1.22897399,16.3277593 C1.30469767,16.3407127 1.38102234,16.3474977 1.457347,16.3474977 C1.53367166,16.3474977 1.60999633,16.353666 1.68632099,16.3672362 C1.76264565,16.3801895 1.83897032,16.3734044 1.91529498,16.3474977 C2.34740075,16.3734044 2.76688591,16.3407127 3.17375046,16.2494224 C3.580615,16.1581322 3.97425795,16.0538886 4.35588127,15.9366916 C4.73690361,15.8188779 5.10590631,15.6492507 5.46168742,15.4278102 C5.81746853,15.2057528 6.16062903,14.9904806 6.49116891,14.7819934 C6.08490535,14.7295632 5.69667123,14.645058 5.32826951,14.5272442 C4.95986778,14.4100473 4.6227171,14.2274668 4.31741845,13.9795027 C4.01272078,13.7315387 3.75189476,13.4576679 3.53614237,13.1572737 C3.31978899,12.8574963 3.14790825,12.4985035 3.02110113,12.0809123 C3.07218457,12.1333425 3.12927782,12.1592492 3.19238089,12.1592492 C3.25608494,12.1592492 3.31978899,12.1660343 3.38349304,12.1789877 C3.44659611,12.191941 3.50429034,12.191941 3.5547728,12.1789877 C3.60585623,12.1660343 3.65693967,12.1722026 3.70742212,12.1987261 C3.80898801,12.1722026 3.89793329,12.1660343 3.97425795,12.1789877 C4.05058262,12.191941 4.13351808,12.1851559 4.22246336,12.1592492 C4.31140863,12.1333425 4.39374311,12.1203892 4.47006778,12.1203892 C4.54639244,12.1203892 4.6227171,12.0938657 4.69904177,12.0420523 C4.266936,11.9637154 3.87269206,11.8070416 3.51691095,11.5720309 C3.16112985,11.3370202 2.84922039,11.0631494 2.58238456,10.7504186 C2.31554873,10.437071 2.10580615,10.0719101 1.95315682,9.65431885 C1.8005075,9.23672765 1.72418283,8.80618311 1.72418283,8.36268522 L1.72418283,8.34294678 C1.72418283,8.35590013 1.72418283,8.34973187 1.72418283,8.32320835 L1.72418283,8.30408675 C1.72418283,8.31704009 1.72418283,8.31025501 1.72418283,8.28434831 C1.85159093,8.38859191 1.98500885,8.46076055 2.12503756,8.49962059 C2.26446529,8.53848062 2.40449401,8.58412575 2.54452272,8.63655596 C2.68395045,8.68898617 2.82397917,8.72167795 2.96400788,8.73463129 C3.10343561,8.74758464 3.25007512,8.76732307 3.40212347,8.79322976 C3.14790825,8.58412575 2.92554506,8.37563856 2.73503389,8.16715137 C2.54452272,7.95804736 2.37264198,7.71008331 2.21999265,7.42325922 C2.06794431,7.13643513 1.95315682,6.84899422 1.87683216,6.56217013 C1.8005075,6.27534604 1.76264565,5.94904509 1.76264565,5.5838841 C1.76264565,5.45311699 1.77526627,5.29644319 1.8005075,5.11386269 C1.8263497,4.9312822 1.85760075,4.76844013 1.89606357,4.62471968 C1.93452639,4.48099922 1.98500885,4.32432542 2.0487129,4.15469827 C2.11241695,3.98507112 2.18213081,3.84813575 2.25845548,3.74389215 C2.71580248,4.29225046 3.22423291,4.80730017 3.78374679,5.29027493 C4.34326066,5.77263286 4.94724717,6.17727071 5.59510534,6.50357166 C6.24356449,6.82987261 6.92387566,7.09695827 7.63543788,7.30606228 C8.34760108,7.51454947 9.08500551,7.63174641 9.84765116,7.65826993 C9.84765116,7.60583972 9.84104037,7.54045616 9.82841975,7.46211926 C9.81579914,7.38439919 9.80257754,7.31223054 9.78995693,7.24684699 C9.77733632,7.18208026 9.7713265,7.10991162 9.7713265,7.03157471 L9.7713265,6.83604087 C9.7713265,6.28829939 9.86628159,5.79237129 10.0573937,5.3488734 C10.2479049,4.9053755 10.5087309,4.50073765 10.8386698,4.13557666 C11.1692097,3.76979884 11.5634536,3.4959281 12.0214016,3.31334761 C12.4787486,3.13076711 12.9619378,3.02652352 13.4703683,3 C13.7245835,3.02652352 13.9787987,3.0592153 14.2330139,3.09807533 C14.4872291,3.13693537 14.7288237,3.21527227 14.9577977,3.33308604 C15.1861707,3.45028298 15.4025241,3.58105009 15.6056559,3.72415372 C15.8093887,3.86787418 15.9872792,4.04428641 16.1399285,4.2527736 C16.3430603,4.1744367 16.5467931,4.10905314 16.7499249,4.05723976 C16.9536576,4.00480955 17.1567894,3.93942599 17.3599212,3.86108909 C17.563654,3.78336902 17.7541651,3.69824703 17.9320557,3.60695678 C18.1099462,3.51566653 18.2878368,3.40463785 18.4663283,3.27448757 C18.4152449,3.53540497 18.3323094,3.7568455 18.2181229,3.93942599 C18.1039364,4.12200649 17.9831391,4.31137207 17.855731,4.50752274 C17.7289239,4.70305658 17.5762746,4.86589864 17.398384,4.99666575 C17.2204935,5.12681604 17.0426029,5.27053649 16.8641114,5.4272103 C17.0426029,5.37478009 17.2265033,5.33592005 17.4176154,5.30939653 C17.6081266,5.28348984 17.792628,5.23784472 17.9705185,5.17246116 C18.1484091,5.1070776 18.3196888,5.04847914 18.4849588,4.99666575 C18.6502287,4.94423554 18.8221094,4.87885199 19,4.80051508 L19,4.83999195\" sketch:type=\"MSShapeGroup\"></path>\n",
       "</g>\n",
       "</g>\n",
       "</svg>\n",
       "</div>\n",
       "<span>Follow Desiring God on Twitter</span>\n",
       "</a>\n",
       "<a class=\"social-follow__network\" href=\"https://instagram.com/desiringgod\" target=\"_blank\">\n",
       "<div class=\"svg\"><svg height=\"20px\" version=\"1.1\" viewbox=\"0 0 20 20\" width=\"20px\" xmlns=\"http://www.w3.org/2000/svg\" xmlns:sketch=\"http://www.bohemiancoding.com/sketch/ns\" xmlns:xlink=\"http://www.w3.org/1999/xlink\">\n",
       "<title>Instagram</title>\n",
       "<g fill=\"none\" fill-rule=\"evenodd\" sketch:type=\"MSPage\" stroke=\"none\" stroke-width=\"1\">\n",
       "<g fill=\"#333333\" sketch:type=\"MSArtboardGroup\">\n",
       "<path d=\"M16.398,2 L3.602,2 C2.719,2 2,2.719 2,3.602 L2,16.398 C2,17.281 2.719,18 3.602,18 L16.398,18 C17.281,18 18,17.281 18,16.398 L18,3.602 C18,2.719 17.281,2 16.398,2 L16.398,2 L16.398,2 Z M10,6.801 C11.762,6.801 13.199,8.238 13.199,10 C13.199,11.762 11.762,13.199 10,13.199 C8.238,13.199 6.801,11.762 6.801,10 C6.801,8.238 8.238,6.801 10,6.801 L10,6.801 L10,6.801 Z M4,16.398 C3.762,16.398 3.602,16.238 3.602,16 L3.602,9.199 L5.281,9.199 C5.199,9.441 5.199,9.762 5.199,10 C5.199,12.641 7.359,14.801 10,14.801 C12.641,14.801 14.801,12.641 14.801,10 C14.801,9.762 14.801,9.441 14.719,9.199 L16.398,9.199 L16.398,16 C16.398,16.238 16.238,16.398 16,16.398 L4,16.398 L4,16.398 L4,16.398 Z M16.398,5.602 C16.398,5.84 16.238,6 16,6 L14.398,6 C14.16,6 14,5.84 14,5.602 L14,4 C14,3.762 14.16,3.602 14.398,3.602 L16,3.602 C16.238,3.602 16.398,3.762 16.398,4 L16.398,5.602 L16.398,5.602 L16.398,5.602 Z\" sketch:type=\"MSShapeGroup\"></path>\n",
       "</g>\n",
       "</g>\n",
       "</svg>\n",
       "</div>\n",
       "<span>Follow Desiring God on Instagram</span>\n",
       "</a>\n",
       "<a class=\"social-follow__network\" href=\"https://www.youtube.com/user/desiringGod\" target=\"_blank\">\n",
       "<div class=\"svg\"><svg height=\"20px\" version=\"1.1\" viewbox=\"0 0 20 20\" width=\"20px\" xmlns=\"http://www.w3.org/2000/svg\" xmlns:sketch=\"http://www.bohemiancoding.com/sketch/ns\" xmlns:xlink=\"http://www.w3.org/1999/xlink\">\n",
       "<title>Youtube</title>\n",
       "<g fill=\"none\" fill-rule=\"evenodd\" sketch:type=\"MSPage\" stroke=\"none\" stroke-width=\"1\">\n",
       "<g fill=\"#333333\" sketch:type=\"MSArtboardGroup\">\n",
       "<path d=\"M17.2045235,5.82059825 C16.5956905,5.19758094 15.9135042,5.19439415 15.6013448,5.15774607 C13.362437,5 10.0036677,5 10.0036677,5 C9.99633233,5 6.63756304,5 4.39865519,5.15774607 C4.08568081,5.19439415 3.40430951,5.19758094 2.79547654,5.82059825 C2.31623453,6.29463316 2.15974734,7.37256464 2.15974734,7.37256464 C2.15974734,7.37256464 2,8.63851669 2,9.90446875 L2,11.0907511 C2,12.3567031 2.15974734,13.6218585 2.15974734,13.6218585 C2.15974734,13.6218585 2.31623453,14.69979 2.79547654,15.1746216 C3.40430951,15.7976389 4.20386124,15.7777214 4.5600326,15.8430506 C5.83964138,15.9625552 9.99959248,16 9.99959248,16 C9.99959248,16 13.362437,15.9952198 15.6013448,15.836677 C15.9135042,15.800029 16.5956905,15.7976389 17.2045235,15.1746216 C17.6837655,14.69979 17.8402527,13.6218585 17.8402527,13.6218585 C17.8402527,13.6218585 18,12.3567031 18,11.0907511 L18,9.90446875 C18,8.63851669 17.8402527,7.37256464 17.8402527,7.37256464 C17.8402527,7.37256464 17.6837655,6.29463316 17.2045235,5.82059825 Z M8.00094268,13 L8,8 L13,10.5081581 L8.00094268,13 L8.00094268,13 Z\" sketch:type=\"MSShapeGroup\"></path>\n",
       "</g>\n",
       "</g>\n",
       "</svg>\n",
       "</div>\n",
       "<span>Follow Desiring God on YouTube</span>\n",
       "</a>\n",
       "</section>\n",
       "<section class=\"social-follow grid-s-2 grid-m-1 grid-l-3 grid-xl-2\" data-segment=\"jp-social-outbound\">\n",
       "<h3 class=\"label\">John Piper</h3>\n",
       "<a class=\"social-follow__network\" href=\"http://facebook.com/johnpiper\" target=\"_blank\">\n",
       "<div class=\"svg\"><svg height=\"20px\" version=\"1.1\" viewbox=\"0 0 20 20\" width=\"20px\" xmlns=\"http://www.w3.org/2000/svg\" xmlns:sketch=\"http://www.bohemiancoding.com/sketch/ns\" xmlns:xlink=\"http://www.w3.org/1999/xlink\">\n",
       "<title>Facebook</title>\n",
       "<g fill=\"none\" fill-rule=\"evenodd\" sketch:type=\"MSPage\" stroke=\"none\" stroke-width=\"1\">\n",
       "<g fill=\"#333333\" sketch:type=\"MSArtboardGroup\">\n",
       "<path d=\"M11.5113801,4.85631128 C11.4250798,4.9027115 11.3513532,4.96637692 11.2902,5.04784708 C11.2284754,5.1287777 11.1793243,5.22751305 11.1427467,5.3435136 C11.1055976,5.45951415 11.0873088,5.58738453 11,5.72658519 L11,7.57234282 L14.4444444,7.57234282 L14.4444444,10.1847832 L11,10.1847832 L11,18 L8,18 L8,10.1847832 L5,10.1847832 L5,7.57234282 L8,7.57234282 L8,6.00552606 C8,5.34351349 7.97592873,4.96044201 8.1725332,4.47270015 C8.36913767,3.98549783 8.64004034,3.55602602 8.98409817,3.18428471 C9.32872752,2.81308294 9.73451,2.52281179 10.2014456,2.31347126 C10.6689528,2.10467027 11.185611,2 11.7514204,2 L14.4444444,2 L14.4444444,4.78617141 L11.7514204,4.78617141 C11.6771222,4.78617141 11.5976803,4.80991106 11.5113801,4.85631128 Z\" sketch:type=\"MSShapeGroup\"></path>\n",
       "</g>\n",
       "</g>\n",
       "</svg>\n",
       "</div>\n",
       "<span>Follow John Piper on Facebook</span>\n",
       "</a>\n",
       "<a class=\"social-follow__network\" href=\"http://twitter.com/JohnPiper\" target=\"_blank\">\n",
       "<div class=\"svg\"><svg height=\"20px\" version=\"1.1\" viewbox=\"0 0 20 20\" width=\"20px\" xmlns=\"http://www.w3.org/2000/svg\" xmlns:sketch=\"http://www.bohemiancoding.com/sketch/ns\" xmlns:xlink=\"http://www.w3.org/1999/xlink\">\n",
       "<title>Twitter</title>\n",
       "<g fill=\"none\" fill-rule=\"evenodd\" sketch:type=\"MSPage\" stroke=\"none\" stroke-width=\"1\">\n",
       "<g fill=\"#333333\" sketch:type=\"MSArtboardGroup\">\n",
       "<path d=\"M19,4.83999195 C18.8731929,4.99666575 18.739174,5.1662929 18.5997463,5.3488734 C18.4597175,5.53145389 18.313679,5.70108104 18.1610297,5.85775484 C18.0083804,6.01381182 17.8431104,6.17048562 17.6652199,6.32715943 C17.4873293,6.48383323 17.3094387,6.62755369 17.1315482,6.75770397 L17.1315482,6.87551774 C17.1315482,6.90142443 17.137558,6.94028447 17.1501786,6.99271468 C17.1634002,7.04514489 17.16941,7.08400492 17.16941,7.10991162 L17.16941,7.26658542 C17.16941,8.4928355 16.940436,9.75239419 16.483089,11.0440278 C16.0251411,12.3356615 15.3514407,13.4903597 14.4619879,14.5075058 C13.5719342,15.5252687 12.4727388,16.3672362 11.1631999,17.0321746 C9.85366098,17.6977299 8.3602217,18.0172457 6.68228106,17.991339 C6.14800841,18.0172457 5.63356816,17.9851708 5.13775834,17.8932637 C4.64194852,17.8019734 4.15214851,17.6915616 3.66956028,17.5607945 C3.18637107,17.4306442 2.72842309,17.254232 2.29631732,17.0321746 C1.86421155,16.8107341 1.43210577,16.5825084 1,16.3474977 C1.07632466,16.3215911 1.15264933,16.314806 1.22897399,16.3277593 C1.30469767,16.3407127 1.38102234,16.3474977 1.457347,16.3474977 C1.53367166,16.3474977 1.60999633,16.353666 1.68632099,16.3672362 C1.76264565,16.3801895 1.83897032,16.3734044 1.91529498,16.3474977 C2.34740075,16.3734044 2.76688591,16.3407127 3.17375046,16.2494224 C3.580615,16.1581322 3.97425795,16.0538886 4.35588127,15.9366916 C4.73690361,15.8188779 5.10590631,15.6492507 5.46168742,15.4278102 C5.81746853,15.2057528 6.16062903,14.9904806 6.49116891,14.7819934 C6.08490535,14.7295632 5.69667123,14.645058 5.32826951,14.5272442 C4.95986778,14.4100473 4.6227171,14.2274668 4.31741845,13.9795027 C4.01272078,13.7315387 3.75189476,13.4576679 3.53614237,13.1572737 C3.31978899,12.8574963 3.14790825,12.4985035 3.02110113,12.0809123 C3.07218457,12.1333425 3.12927782,12.1592492 3.19238089,12.1592492 C3.25608494,12.1592492 3.31978899,12.1660343 3.38349304,12.1789877 C3.44659611,12.191941 3.50429034,12.191941 3.5547728,12.1789877 C3.60585623,12.1660343 3.65693967,12.1722026 3.70742212,12.1987261 C3.80898801,12.1722026 3.89793329,12.1660343 3.97425795,12.1789877 C4.05058262,12.191941 4.13351808,12.1851559 4.22246336,12.1592492 C4.31140863,12.1333425 4.39374311,12.1203892 4.47006778,12.1203892 C4.54639244,12.1203892 4.6227171,12.0938657 4.69904177,12.0420523 C4.266936,11.9637154 3.87269206,11.8070416 3.51691095,11.5720309 C3.16112985,11.3370202 2.84922039,11.0631494 2.58238456,10.7504186 C2.31554873,10.437071 2.10580615,10.0719101 1.95315682,9.65431885 C1.8005075,9.23672765 1.72418283,8.80618311 1.72418283,8.36268522 L1.72418283,8.34294678 C1.72418283,8.35590013 1.72418283,8.34973187 1.72418283,8.32320835 L1.72418283,8.30408675 C1.72418283,8.31704009 1.72418283,8.31025501 1.72418283,8.28434831 C1.85159093,8.38859191 1.98500885,8.46076055 2.12503756,8.49962059 C2.26446529,8.53848062 2.40449401,8.58412575 2.54452272,8.63655596 C2.68395045,8.68898617 2.82397917,8.72167795 2.96400788,8.73463129 C3.10343561,8.74758464 3.25007512,8.76732307 3.40212347,8.79322976 C3.14790825,8.58412575 2.92554506,8.37563856 2.73503389,8.16715137 C2.54452272,7.95804736 2.37264198,7.71008331 2.21999265,7.42325922 C2.06794431,7.13643513 1.95315682,6.84899422 1.87683216,6.56217013 C1.8005075,6.27534604 1.76264565,5.94904509 1.76264565,5.5838841 C1.76264565,5.45311699 1.77526627,5.29644319 1.8005075,5.11386269 C1.8263497,4.9312822 1.85760075,4.76844013 1.89606357,4.62471968 C1.93452639,4.48099922 1.98500885,4.32432542 2.0487129,4.15469827 C2.11241695,3.98507112 2.18213081,3.84813575 2.25845548,3.74389215 C2.71580248,4.29225046 3.22423291,4.80730017 3.78374679,5.29027493 C4.34326066,5.77263286 4.94724717,6.17727071 5.59510534,6.50357166 C6.24356449,6.82987261 6.92387566,7.09695827 7.63543788,7.30606228 C8.34760108,7.51454947 9.08500551,7.63174641 9.84765116,7.65826993 C9.84765116,7.60583972 9.84104037,7.54045616 9.82841975,7.46211926 C9.81579914,7.38439919 9.80257754,7.31223054 9.78995693,7.24684699 C9.77733632,7.18208026 9.7713265,7.10991162 9.7713265,7.03157471 L9.7713265,6.83604087 C9.7713265,6.28829939 9.86628159,5.79237129 10.0573937,5.3488734 C10.2479049,4.9053755 10.5087309,4.50073765 10.8386698,4.13557666 C11.1692097,3.76979884 11.5634536,3.4959281 12.0214016,3.31334761 C12.4787486,3.13076711 12.9619378,3.02652352 13.4703683,3 C13.7245835,3.02652352 13.9787987,3.0592153 14.2330139,3.09807533 C14.4872291,3.13693537 14.7288237,3.21527227 14.9577977,3.33308604 C15.1861707,3.45028298 15.4025241,3.58105009 15.6056559,3.72415372 C15.8093887,3.86787418 15.9872792,4.04428641 16.1399285,4.2527736 C16.3430603,4.1744367 16.5467931,4.10905314 16.7499249,4.05723976 C16.9536576,4.00480955 17.1567894,3.93942599 17.3599212,3.86108909 C17.563654,3.78336902 17.7541651,3.69824703 17.9320557,3.60695678 C18.1099462,3.51566653 18.2878368,3.40463785 18.4663283,3.27448757 C18.4152449,3.53540497 18.3323094,3.7568455 18.2181229,3.93942599 C18.1039364,4.12200649 17.9831391,4.31137207 17.855731,4.50752274 C17.7289239,4.70305658 17.5762746,4.86589864 17.398384,4.99666575 C17.2204935,5.12681604 17.0426029,5.27053649 16.8641114,5.4272103 C17.0426029,5.37478009 17.2265033,5.33592005 17.4176154,5.30939653 C17.6081266,5.28348984 17.792628,5.23784472 17.9705185,5.17246116 C18.1484091,5.1070776 18.3196888,5.04847914 18.4849588,4.99666575 C18.6502287,4.94423554 18.8221094,4.87885199 19,4.80051508 L19,4.83999195\" sketch:type=\"MSShapeGroup\"></path>\n",
       "</g>\n",
       "</g>\n",
       "</svg>\n",
       "</div>\n",
       "<span>Follow John Piper on Twitter</span>\n",
       "</a>\n",
       "</section>\n",
       "<section class=\"subscribe grid-s-6 grid-m-3 grid-l-6 grid-xl-3 grid-right\">\n",
       "<div class=\"email-subscribe js-subscribe\">\n",
       "<form accept-charset=\"UTF-8\" action=\"/subscribe\" data-remote=\"true\" data-segment=\"footer-email-updates-form\" method=\"post\"><input name=\"utf8\" type=\"hidden\" value=\"✓\"/>\n",
       "<h3 class=\"label\">Email Updates</h3>\n",
       "<div class=\"checkboxes-outer\">\n",
       "<div class=\"checkboxes js-subscribe-checkboxes\">\n",
       "<a class=\"subscribe__close js-subscribe-close\">\n",
       "<div class=\"svg\"><svg height=\"20\" version=\"1.1\" viewbox=\"0 0 20 20\" width=\"20\" xmlns=\"http://www.w3.org/2000/svg\" xmlns:sketch=\"http://www.bohemiancoding.com/sketch/ns\" xmlns:xlink=\"http://www.w3.org/1999/xlink\">\n",
       "<title>Close</title>\n",
       "<g fill=\"none\" fill-rule=\"evenodd\" sketch:type=\"MSPage\" stroke=\"none\" stroke-width=\"1\">\n",
       "<g fill=\"#2E2E2C\" sketch:type=\"MSArtboardGroup\">\n",
       "<path d=\"M16.1214739,4 L10.5004969,9.62097699 L4.87852611,4 L4,4.87852611 L9.6219708,10.4995031 L4,16.1214739 L4.87852611,17 L10.5004969,11.3780292 L16.1214739,17 L17,16.1214739 L11.379023,10.4995031 L17,4.87852611 L16.1214739,4 Z\" sketch:type=\"MSShapeGroup\"></path>\n",
       "</g>\n",
       "</g>\n",
       "</svg>\n",
       "</div>\n",
       "</a>\n",
       "<p>Sign up for notifications about new content:</p>\n",
       "<div class=\"checkbox\">\n",
       "<input id=\"blog\" name=\"blog\" type=\"checkbox\" value=\"1\"/>\n",
       "<label for=\"blog\">New Daily Content</label>\n",
       "</div>\n",
       "<div class=\"checkbox\">\n",
       "<input id=\"apj\" name=\"apj\" type=\"checkbox\" value=\"1\"/>\n",
       "<label for=\"apj\">Ask Pastor John</label>\n",
       "</div>\n",
       "<div class=\"checkbox\">\n",
       "<input id=\"labs\" name=\"labs\" type=\"checkbox\" value=\"1\"/>\n",
       "<label for=\"labs\">Look at the Book</label>\n",
       "</div>\n",
       "<div class=\"checkbox\">\n",
       "<input id=\"sj\" name=\"sj\" type=\"checkbox\" value=\"1\"/>\n",
       "<label for=\"blog\">Solid Joys</label>\n",
       "</div>\n",
       "<div class=\"checkbox\">\n",
       "<input id=\"newsletter\" name=\"newsletter\" type=\"checkbox\" value=\"1\"/>\n",
       "<label for=\"newsletter\">News &amp; Updates</label>\n",
       "</div>\n",
       "</div>\n",
       "</div>\n",
       "<div class=\"email-and-submit\">\n",
       "<input id=\"email_language\" name=\"email_language\" type=\"hidden\" value=\"en\"/>\n",
       "<input class=\"textfield js-subscribe-email\" id=\"email_address\" name=\"email_address\" placeholder=\"Email Address\" type=\"email\"/>\n",
       "<button class=\"button submit\" name=\"button\" type=\"submit\">Subscribe</button>\n",
       "</div>\n",
       "</form>\n",
       "</div>\n",
       "</section>\n",
       "</div>\n",
       "<section class=\"footer__links\">\n",
       "<div class=\"grid-container\">\n",
       "<div class=\"grid-full\">\n",
       "<a href=\"/permissions\">\n",
       "Permissions\n",
       "</a>\n",
       "<a href=\"/privacy-policy\">\n",
       "Privacy\n",
       "</a>\n",
       "<a href=\"/careers\">\n",
       "Careers\n",
       "</a>\n",
       "<a class=\"footer__donate\" data-no-turbolink=\"true\" data-segment=\"footer-donate\" href=\"/donate\">\n",
       "Donate\n",
       "</a>\n",
       "</div>\n",
       "</div>\n",
       "</section>\n",
       "</footer>\n",
       "<span class=\"share-popup js-share-popup\">\n",
       "<div class=\"share js-share-values\" data-link=\"/\" data-title=\"Desiring God\"><ul class=\"share__options\">\n",
       "<li class=\"share__option js-popup-twitter-badge\">\n",
       "<div class=\"share-option__symbol\">\n",
       "<div class=\"svg\"><svg class=\"svg-twitter\" height=\"20px\" version=\"1.1\" viewbox=\"0 0 20 20\" width=\"20px\" xmlns=\"http://www.w3.org/2000/svg\" xmlns:sketch=\"http://www.bohemiancoding.com/sketch/ns\" xmlns:xlink=\"http://www.w3.org/1999/xlink\">\n",
       "<title>Twitter</title>\n",
       "<g fill=\"none\" fill-rule=\"evenodd\" sketch:type=\"MSPage\" stroke=\"none\" stroke-width=\"1\">\n",
       "<g fill=\"#333333\" sketch:type=\"MSArtboardGroup\">\n",
       "<path d=\"M19,4.83999195 C18.8731929,4.99666575 18.739174,5.1662929 18.5997463,5.3488734 C18.4597175,5.53145389 18.313679,5.70108104 18.1610297,5.85775484 C18.0083804,6.01381182 17.8431104,6.17048562 17.6652199,6.32715943 C17.4873293,6.48383323 17.3094387,6.62755369 17.1315482,6.75770397 L17.1315482,6.87551774 C17.1315482,6.90142443 17.137558,6.94028447 17.1501786,6.99271468 C17.1634002,7.04514489 17.16941,7.08400492 17.16941,7.10991162 L17.16941,7.26658542 C17.16941,8.4928355 16.940436,9.75239419 16.483089,11.0440278 C16.0251411,12.3356615 15.3514407,13.4903597 14.4619879,14.5075058 C13.5719342,15.5252687 12.4727388,16.3672362 11.1631999,17.0321746 C9.85366098,17.6977299 8.3602217,18.0172457 6.68228106,17.991339 C6.14800841,18.0172457 5.63356816,17.9851708 5.13775834,17.8932637 C4.64194852,17.8019734 4.15214851,17.6915616 3.66956028,17.5607945 C3.18637107,17.4306442 2.72842309,17.254232 2.29631732,17.0321746 C1.86421155,16.8107341 1.43210577,16.5825084 1,16.3474977 C1.07632466,16.3215911 1.15264933,16.314806 1.22897399,16.3277593 C1.30469767,16.3407127 1.38102234,16.3474977 1.457347,16.3474977 C1.53367166,16.3474977 1.60999633,16.353666 1.68632099,16.3672362 C1.76264565,16.3801895 1.83897032,16.3734044 1.91529498,16.3474977 C2.34740075,16.3734044 2.76688591,16.3407127 3.17375046,16.2494224 C3.580615,16.1581322 3.97425795,16.0538886 4.35588127,15.9366916 C4.73690361,15.8188779 5.10590631,15.6492507 5.46168742,15.4278102 C5.81746853,15.2057528 6.16062903,14.9904806 6.49116891,14.7819934 C6.08490535,14.7295632 5.69667123,14.645058 5.32826951,14.5272442 C4.95986778,14.4100473 4.6227171,14.2274668 4.31741845,13.9795027 C4.01272078,13.7315387 3.75189476,13.4576679 3.53614237,13.1572737 C3.31978899,12.8574963 3.14790825,12.4985035 3.02110113,12.0809123 C3.07218457,12.1333425 3.12927782,12.1592492 3.19238089,12.1592492 C3.25608494,12.1592492 3.31978899,12.1660343 3.38349304,12.1789877 C3.44659611,12.191941 3.50429034,12.191941 3.5547728,12.1789877 C3.60585623,12.1660343 3.65693967,12.1722026 3.70742212,12.1987261 C3.80898801,12.1722026 3.89793329,12.1660343 3.97425795,12.1789877 C4.05058262,12.191941 4.13351808,12.1851559 4.22246336,12.1592492 C4.31140863,12.1333425 4.39374311,12.1203892 4.47006778,12.1203892 C4.54639244,12.1203892 4.6227171,12.0938657 4.69904177,12.0420523 C4.266936,11.9637154 3.87269206,11.8070416 3.51691095,11.5720309 C3.16112985,11.3370202 2.84922039,11.0631494 2.58238456,10.7504186 C2.31554873,10.437071 2.10580615,10.0719101 1.95315682,9.65431885 C1.8005075,9.23672765 1.72418283,8.80618311 1.72418283,8.36268522 L1.72418283,8.34294678 C1.72418283,8.35590013 1.72418283,8.34973187 1.72418283,8.32320835 L1.72418283,8.30408675 C1.72418283,8.31704009 1.72418283,8.31025501 1.72418283,8.28434831 C1.85159093,8.38859191 1.98500885,8.46076055 2.12503756,8.49962059 C2.26446529,8.53848062 2.40449401,8.58412575 2.54452272,8.63655596 C2.68395045,8.68898617 2.82397917,8.72167795 2.96400788,8.73463129 C3.10343561,8.74758464 3.25007512,8.76732307 3.40212347,8.79322976 C3.14790825,8.58412575 2.92554506,8.37563856 2.73503389,8.16715137 C2.54452272,7.95804736 2.37264198,7.71008331 2.21999265,7.42325922 C2.06794431,7.13643513 1.95315682,6.84899422 1.87683216,6.56217013 C1.8005075,6.27534604 1.76264565,5.94904509 1.76264565,5.5838841 C1.76264565,5.45311699 1.77526627,5.29644319 1.8005075,5.11386269 C1.8263497,4.9312822 1.85760075,4.76844013 1.89606357,4.62471968 C1.93452639,4.48099922 1.98500885,4.32432542 2.0487129,4.15469827 C2.11241695,3.98507112 2.18213081,3.84813575 2.25845548,3.74389215 C2.71580248,4.29225046 3.22423291,4.80730017 3.78374679,5.29027493 C4.34326066,5.77263286 4.94724717,6.17727071 5.59510534,6.50357166 C6.24356449,6.82987261 6.92387566,7.09695827 7.63543788,7.30606228 C8.34760108,7.51454947 9.08500551,7.63174641 9.84765116,7.65826993 C9.84765116,7.60583972 9.84104037,7.54045616 9.82841975,7.46211926 C9.81579914,7.38439919 9.80257754,7.31223054 9.78995693,7.24684699 C9.77733632,7.18208026 9.7713265,7.10991162 9.7713265,7.03157471 L9.7713265,6.83604087 C9.7713265,6.28829939 9.86628159,5.79237129 10.0573937,5.3488734 C10.2479049,4.9053755 10.5087309,4.50073765 10.8386698,4.13557666 C11.1692097,3.76979884 11.5634536,3.4959281 12.0214016,3.31334761 C12.4787486,3.13076711 12.9619378,3.02652352 13.4703683,3 C13.7245835,3.02652352 13.9787987,3.0592153 14.2330139,3.09807533 C14.4872291,3.13693537 14.7288237,3.21527227 14.9577977,3.33308604 C15.1861707,3.45028298 15.4025241,3.58105009 15.6056559,3.72415372 C15.8093887,3.86787418 15.9872792,4.04428641 16.1399285,4.2527736 C16.3430603,4.1744367 16.5467931,4.10905314 16.7499249,4.05723976 C16.9536576,4.00480955 17.1567894,3.93942599 17.3599212,3.86108909 C17.563654,3.78336902 17.7541651,3.69824703 17.9320557,3.60695678 C18.1099462,3.51566653 18.2878368,3.40463785 18.4663283,3.27448757 C18.4152449,3.53540497 18.3323094,3.7568455 18.2181229,3.93942599 C18.1039364,4.12200649 17.9831391,4.31137207 17.855731,4.50752274 C17.7289239,4.70305658 17.5762746,4.86589864 17.398384,4.99666575 C17.2204935,5.12681604 17.0426029,5.27053649 16.8641114,5.4272103 C17.0426029,5.37478009 17.2265033,5.33592005 17.4176154,5.30939653 C17.6081266,5.28348984 17.792628,5.23784472 17.9705185,5.17246116 C18.1484091,5.1070776 18.3196888,5.04847914 18.4849588,4.99666575 C18.6502287,4.94423554 18.8221094,4.87885199 19,4.80051508 L19,4.83999195\" sketch:type=\"MSShapeGroup\"></path>\n",
       "</g>\n",
       "</g>\n",
       "</svg>\n",
       "</div>\n",
       "</div>\n",
       "<span>Share on Twitter</span>\n",
       "</li>\n",
       "<li class=\"share__option js-popup-facebook-badge\">\n",
       "<div class=\"share-option__symbol\">\n",
       "<div class=\"svg\"><svg class=\"svg-facebook\" height=\"20px\" version=\"1.1\" viewbox=\"0 0 20 20\" width=\"20px\" xmlns=\"http://www.w3.org/2000/svg\" xmlns:sketch=\"http://www.bohemiancoding.com/sketch/ns\" xmlns:xlink=\"http://www.w3.org/1999/xlink\">\n",
       "<title>Facebook</title>\n",
       "<g fill=\"none\" fill-rule=\"evenodd\" sketch:type=\"MSPage\" stroke=\"none\" stroke-width=\"1\">\n",
       "<g fill=\"#333333\" sketch:type=\"MSArtboardGroup\">\n",
       "<path d=\"M11.5113801,4.85631128 C11.4250798,4.9027115 11.3513532,4.96637692 11.2902,5.04784708 C11.2284754,5.1287777 11.1793243,5.22751305 11.1427467,5.3435136 C11.1055976,5.45951415 11.0873088,5.58738453 11,5.72658519 L11,7.57234282 L14.4444444,7.57234282 L14.4444444,10.1847832 L11,10.1847832 L11,18 L8,18 L8,10.1847832 L5,10.1847832 L5,7.57234282 L8,7.57234282 L8,6.00552606 C8,5.34351349 7.97592873,4.96044201 8.1725332,4.47270015 C8.36913767,3.98549783 8.64004034,3.55602602 8.98409817,3.18428471 C9.32872752,2.81308294 9.73451,2.52281179 10.2014456,2.31347126 C10.6689528,2.10467027 11.185611,2 11.7514204,2 L14.4444444,2 L14.4444444,4.78617141 L11.7514204,4.78617141 C11.6771222,4.78617141 11.5976803,4.80991106 11.5113801,4.85631128 Z\" sketch:type=\"MSShapeGroup\"></path>\n",
       "</g>\n",
       "</g>\n",
       "</svg>\n",
       "</div>\n",
       "</div>\n",
       "<span>Share on Facebook</span>\n",
       "</li>\n",
       "<li class=\"share__option js-popup-email-badge\">\n",
       "<div class=\"share-option__symbol\">\n",
       "<div class=\"svg\"><svg class=\"svg-email\" height=\"20px\" version=\"1.1\" viewbox=\"0 0 20 20\" width=\"20px\" xmlns=\"http://www.w3.org/2000/svg\" xmlns:sketch=\"http://www.bohemiancoding.com/sketch/ns\" xmlns:xlink=\"http://www.w3.org/1999/xlink\">\n",
       "<title>Email (Filled)</title>\n",
       "<g fill=\"none\" fill-rule=\"evenodd\" sketch:type=\"MSPage\" stroke=\"none\" stroke-width=\"1\">\n",
       "<g fill=\"#333333\" sketch:type=\"MSArtboardGroup\">\n",
       "<path d=\"M2,6.14937457 L2.00000002,16 L18,16 L18,6.14937457 L10.3156668,12.4050897 L10,12.6620699 L9.68433318,12.4050897 L2,6.14937457 L2,6.14937457 Z M17.8279088,5 L2.17209124,5 L2.31566682,5.116883 L10,11 L17.6843332,5.116883 L17.8279088,5 L17.8279088,5 Z\" sketch:type=\"MSShapeGroup\"></path>\n",
       "</g>\n",
       "</g>\n",
       "</svg>\n",
       "</div>\n",
       "</div>\n",
       "<span>Share with Email</span>\n",
       "</li>\n",
       "</ul>\n",
       "</div></span>\n",
       "<div data-value=\"1415647432040331\" id=\"facebook-app-id\"></div>\n",
       "</div>"
      ]
     },
     "execution_count": 72,
     "metadata": {},
     "output_type": "execute_result"
    }
   ],
   "source": [
    "DG_results_soup.find('div',{\"class\":\"page-background\"})"
   ]
  },
  {
   "cell_type": "code",
   "execution_count": 73,
   "metadata": {
    "collapsed": true
   },
   "outputs": [],
   "source": [
    "DG_results_soup.find('div',{\"class\":\"gsc-resultsbox-visible\"})"
   ]
  },
  {
   "cell_type": "code",
   "execution_count": 71,
   "metadata": {},
   "outputs": [],
   "source": []
  },
  {
   "cell_type": "code",
   "execution_count": 62,
   "metadata": {},
   "outputs": [],
   "source": [
    "DG_results_div_html = DG_results_soup.findAll(\"a\",{\"class\":\"gs-title\"})"
   ]
  },
  {
   "cell_type": "code",
   "execution_count": null,
   "metadata": {
    "collapsed": true
   },
   "outputs": [],
   "source": []
  },
  {
   "cell_type": "code",
   "execution_count": 64,
   "metadata": {},
   "outputs": [
    {
     "name": "stdout",
     "output_type": "stream",
     "text": [
      "[]\n"
     ]
    }
   ],
   "source": [
    "print(DG_results_div_html)"
   ]
  },
  {
   "cell_type": "code",
   "execution_count": null,
   "metadata": {
    "collapsed": true
   },
   "outputs": [],
   "source": [
    "# data = {}\n",
    "# for a in samples:\n",
    "#     title = a.string.strip()\n",
    "#     data[title] = a.attrs['href']"
   ]
  },
  {
   "cell_type": "code",
   "execution_count": 61,
   "metadata": {},
   "outputs": [
    {
     "data": {
      "text/plain": [
       "0"
      ]
     },
     "execution_count": 61,
     "metadata": {},
     "output_type": "execute_result"
    }
   ],
   "source": [
    "len(DG_results_div_html)"
   ]
  },
  {
   "cell_type": "markdown",
   "metadata": {},
   "source": [
    "pull article #4 from Desiring God"
   ]
  },
  {
   "cell_type": "code",
   "execution_count": 36,
   "metadata": {
    "collapsed": true
   },
   "outputs": [],
   "source": [
    "prayer4_soup = get_soup('http://www.desiringgod.org/articles/let-go-and-get-going')"
   ]
  },
  {
   "cell_type": "code",
   "execution_count": 38,
   "metadata": {
    "collapsed": true
   },
   "outputs": [],
   "source": [
    "prayer4_html = prayer4_soup.findAll(\"p\")"
   ]
  },
  {
   "cell_type": "code",
   "execution_count": 39,
   "metadata": {},
   "outputs": [],
   "source": [
    "make_tsv(prayer4_html,'prayer4.tsv')"
   ]
  },
  {
   "cell_type": "markdown",
   "metadata": {},
   "source": [
    "get prayer requests from wall and put in tsv w/ each sentence as it's own line\n",
    "\n",
    "could (click) \"load more\""
   ]
  },
  {
   "cell_type": "code",
   "execution_count": 2,
   "metadata": {
    "collapsed": true
   },
   "outputs": [],
   "source": [
    "my_url = 'http://prayer-center.upperroom.org/prayer-wall'\n",
    "hdr = {'User-Agent': 'Mozilla/5.0'}\n",
    "req = Request(my_url,headers=hdr)\n",
    "page = uReq(req)\n",
    "prayer_wall_soup = soup(page,\"html.parser\")\n",
    "prayer_wall_div_html = prayer_wall_soup.findAll(\"div\",{\"class\":\"prayer-request-body\"})\n",
    "# len(prayer_wall_div_html)"
   ]
  },
  {
   "cell_type": "code",
   "execution_count": 44,
   "metadata": {},
   "outputs": [],
   "source": [
    "# type(prayer_wall_soup)"
   ]
  },
  {
   "cell_type": "code",
   "execution_count": 3,
   "metadata": {
    "collapsed": true
   },
   "outputs": [],
   "source": [
    "with open(\"separatedprayerrequests.tsv\", \"w\") as f:\n",
    "    header = \"Sentence\\n\"\n",
    "    f.write(header)\n",
    "    for ptag in prayer_wall_div_html:\n",
    "        prayer_wall_paragraph_text = ptag.get_text()\n",
    "        tokens = tokenize.sent_tokenize(prayer_wall_paragraph_text)\n",
    "        for token in tokens:\n",
    "            f.write(token + '\\n')"
   ]
  },
  {
   "cell_type": "markdown",
   "metadata": {},
   "source": [
    "pull from The Skimm"
   ]
  },
  {
   "cell_type": "code",
   "execution_count": 40,
   "metadata": {},
   "outputs": [],
   "source": [
    "skimm_soup = get_soup('http://www.theskimm.com/recent')"
   ]
  },
  {
   "cell_type": "code",
   "execution_count": 42,
   "metadata": {},
   "outputs": [],
   "source": [
    "skimm_div_html = skimm_soup.findAll(\"p\",{\"class\":\"skimm-p\"})"
   ]
  },
  {
   "cell_type": "code",
   "execution_count": 43,
   "metadata": {
    "collapsed": true
   },
   "outputs": [],
   "source": [
    "make_tsv(skimm_div_html,'skimmm.tsv')"
   ]
  },
  {
   "cell_type": "markdown",
   "metadata": {},
   "source": [
    "get links from search results on gospel coalition"
   ]
  },
  {
   "cell_type": "code",
   "execution_count": 27,
   "metadata": {
    "collapsed": true
   },
   "outputs": [],
   "source": [
    "links = []\n",
    "\n",
    "gc = get_soup('https://www.thegospelcoalition.org/search/results/?q=prayer')"
   ]
  },
  {
   "cell_type": "code",
   "execution_count": 35,
   "metadata": {},
   "outputs": [],
   "source": [
    "# print(gc)"
   ]
  },
  {
   "cell_type": "code",
   "execution_count": 31,
   "metadata": {
    "collapsed": true
   },
   "outputs": [],
   "source": [
    "gc_links = gc.findAll(\"div\",{\"class\":\"gs-per-result-labels\"})"
   ]
  },
  {
   "cell_type": "code",
   "execution_count": 45,
   "metadata": {},
   "outputs": [
    {
     "ename": "IndexError",
     "evalue": "list index out of range",
     "output_type": "error",
     "traceback": [
      "\u001b[0;31m---------------------------------------------------------------------------\u001b[0m",
      "\u001b[0;31mIndexError\u001b[0m                                Traceback (most recent call last)",
      "\u001b[0;32m<ipython-input-45-eda337b67a22>\u001b[0m in \u001b[0;36m<module>\u001b[0;34m()\u001b[0m\n\u001b[0;32m----> 1\u001b[0;31m \u001b[0mgc_links\u001b[0m\u001b[0;34m[\u001b[0m\u001b[0;36m0\u001b[0m\u001b[0;34m]\u001b[0m\u001b[0;34m\u001b[0m\u001b[0m\n\u001b[0m",
      "\u001b[0;31mIndexError\u001b[0m: list index out of range"
     ]
    }
   ],
   "source": [
    "gc_links[0]"
   ]
  },
  {
   "cell_type": "code",
   "execution_count": 29,
   "metadata": {},
   "outputs": [
    {
     "data": {
      "text/plain": [
       "bs4.element.ResultSet"
      ]
     },
     "execution_count": 29,
     "metadata": {},
     "output_type": "execute_result"
    }
   ],
   "source": [
    "type(gc_links)"
   ]
  },
  {
   "cell_type": "code",
   "execution_count": 30,
   "metadata": {},
   "outputs": [
    {
     "data": {
      "text/plain": [
       "[]"
      ]
     },
     "execution_count": 30,
     "metadata": {},
     "output_type": "execute_result"
    }
   ],
   "source": [
    "gc_links"
   ]
  },
  {
   "cell_type": "code",
   "execution_count": null,
   "metadata": {
    "collapsed": true
   },
   "outputs": [],
   "source": [
    "gc_links = gc.findAll(\"div\",{\"class\":\"gs-per-result-labels\"})"
   ]
  },
  {
   "cell_type": "code",
   "execution_count": 26,
   "metadata": {},
   "outputs": [],
   "source": []
  },
  {
   "cell_type": "code",
   "execution_count": null,
   "metadata": {
    "collapsed": true
   },
   "outputs": [],
   "source": [
    "skimm_soup = get_soup('http://www.theskimm.com/recent')"
   ]
  },
  {
   "cell_type": "code",
   "execution_count": 13,
   "metadata": {
    "collapsed": true
   },
   "outputs": [],
   "source": []
  },
  {
   "cell_type": "code",
   "execution_count": null,
   "metadata": {},
   "outputs": [],
   "source": []
  },
  {
   "cell_type": "code",
   "execution_count": 17,
   "metadata": {
    "collapsed": true
   },
   "outputs": [],
   "source": []
  },
  {
   "cell_type": "code",
   "execution_count": null,
   "metadata": {
    "collapsed": true
   },
   "outputs": [],
   "source": []
  },
  {
   "cell_type": "markdown",
   "metadata": {},
   "source": [
    "get sentences from desiring God article and put in tsv"
   ]
  },
  {
   "cell_type": "code",
   "execution_count": 128,
   "metadata": {
    "collapsed": true
   },
   "outputs": [],
   "source": [
    "site= \"http://www.desiringgod.org/articles/what-do-you-pray-for-isis\"\n",
    "hdr = {'User-Agent': 'Mozilla/5.0'}\n",
    "req = Request(site,headers=hdr)\n",
    "page = uReq(req)\n",
    "prayer_article_soup = soup(page,\"html.parser\")\n",
    "prayer_article_div_html = prayer_article_soup.findAll(\"p\")\n",
    "# len(prayer_article_div_html)"
   ]
  },
  {
   "cell_type": "code",
   "execution_count": 129,
   "metadata": {
    "collapsed": true
   },
   "outputs": [],
   "source": [
    "with open(\"separatedprayerarticle1.tsv\", \"w\") as f:\n",
    "    header = \"Sentence\\n\"\n",
    "    f.write(header)\n",
    "    for ptag in prayer_article_div_html:\n",
    "        prayer_article_paragraph_text = ptag.get_text()\n",
    "        tokens = tokenize.sent_tokenize(prayer_article_paragraph_text)\n",
    "        for token in tokens:\n",
    "            f.write(token + '\\n')"
   ]
  },
  {
   "cell_type": "markdown",
   "metadata": {
    "collapsed": true
   },
   "source": [
    "second desiring God article"
   ]
  },
  {
   "cell_type": "code",
   "execution_count": 130,
   "metadata": {
    "collapsed": true
   },
   "outputs": [],
   "source": [
    "prayer_article2_site= \"http://www.desiringgod.org/articles/the-prayers-you-need-most-are-not-your-own\"\n",
    "hdr = {'User-Agent': 'Mozilla/5.0'}\n",
    "req = Request(prayer_article2_site,headers=hdr)\n",
    "page = uReq(req)\n",
    "prayer_article2_soup = soup(page,\"html.parser\")\n",
    "prayer_article2_div_html = prayer_article2_soup.findAll(\"p\")\n",
    "\n",
    "with open(\"separatedprayerarticle2.tsv\", \"w\") as f:\n",
    "    header = \"Sentence\\n\"\n",
    "    f.write(header)\n",
    "    for ptag in prayer_article2_div_html:\n",
    "        prayer_article_paragraph_text = ptag.get_text()\n",
    "        tokens = tokenize.sent_tokenize(prayer_article_paragraph_text)\n",
    "        for token in tokens:\n",
    "            f.write(token + '\\n') "
   ]
  },
  {
   "cell_type": "markdown",
   "metadata": {
    "collapsed": true
   },
   "source": [
    "third desiring God article"
   ]
  },
  {
   "cell_type": "code",
   "execution_count": 131,
   "metadata": {
    "collapsed": true
   },
   "outputs": [],
   "source": [
    "prayer_article3_site= \"http://www.desiringgod.org/articles/the-key-to-spiritual-breakthrough\"\n",
    "hdr = {'User-Agent': 'Mozilla/5.0'}\n",
    "req = Request(prayer_article3_site,headers=hdr)\n",
    "page = uReq(req)\n",
    "prayer_article3_soup = soup(page,\"html.parser\")\n",
    "prayer_article3_div_html = prayer_article3_soup.findAll(\"p\")\n",
    "\n",
    "with open(\"separatedprayer_article3.tsv\", \"w\") as f:\n",
    "    header = \"Sentence\\n\"\n",
    "    f.write(header)\n",
    "    for ptag in prayer_article3_div_html:\n",
    "        prayer_article3_paragraph_text = ptag.get_text()\n",
    "        tokens = tokenize.sent_tokenize(prayer_article3_paragraph_text)\n",
    "        for token in tokens:\n",
    "            f.write(token + '\\n') "
   ]
  },
  {
   "cell_type": "markdown",
   "metadata": {
    "collapsed": true
   },
   "source": [
    "pulling from 24/7prayer website"
   ]
  },
  {
   "cell_type": "code",
   "execution_count": 132,
   "metadata": {
    "collapsed": true
   },
   "outputs": [],
   "source": [
    "# prayer_247_site= \"https://www.24-7prayer.com/post-a-prayer\"\n",
    "# hdr = {'User-Agent': 'Mozilla/5.0'}\n",
    "# req = Request(prayer_247_site,headers=hdr)\n",
    "# page = uReq(req)\n",
    "# prayer_247_soup = soup(page,\"html.parser\")\n",
    "# prayer_247_div_html = prayer_247_soup.findAll(\"div\",{\"class\":\"tile tile-prayer\"})\n",
    "# len(prayer_247_div_html)"
   ]
  },
  {
   "cell_type": "code",
   "execution_count": null,
   "metadata": {
    "collapsed": true
   },
   "outputs": [],
   "source": [
    "# prayer_247_div_html[0].find(\"p\").get_text()"
   ]
  },
  {
   "cell_type": "code",
   "execution_count": 133,
   "metadata": {
    "collapsed": true
   },
   "outputs": [],
   "source": [
    "# with open(\"prayer247.tsv\", \"w\") as f:\n",
    "#     header = \"Prayer_Request\\n\"\n",
    "#     f.write(header)\n",
    "#     for request in prayer_247_div_html:\n",
    "#         prayer247_request = request.find(\"p\").get_text()\n",
    "#         tokens = tokenize.sent_tokenize(prayer_article3_paragraph_text)\n",
    "#         for token in tokens:\n",
    "#             f.write(token + '\\n') "
   ]
  },
  {
   "cell_type": "markdown",
   "metadata": {
    "collapsed": true
   },
   "source": [
    "pulling from kenyan newsite"
   ]
  },
  {
   "cell_type": "code",
   "execution_count": 138,
   "metadata": {
    "collapsed": true
   },
   "outputs": [],
   "source": [
    "nonprayer_article1_site= \"http://www.bbc.com/news/world-africa-40764446\"\n",
    "hdr = {'User-Agent': 'Mozilla/5.0'}\n",
    "req = Request(nonprayer_article1_site,headers=hdr)\n",
    "page = uReq(req)\n",
    "nonprayer_article_soup = soup(page,\"html.parser\")\n",
    "nonprayer_article_p = nonprayer_article_soup.findAll(\"p\")\n",
    "\n",
    "with open(\"kenya_article.tsv\", \"w\") as f:\n",
    "    header = \"Sentence\\n\"\n",
    "    f.write(header)\n",
    "    for paragraph in nonprayer_article_p:\n",
    "        nonprayer_article_text = paragraph.get_text()\n",
    "        tokens = tokenize.sent_tokenize(nonprayer_article_text)\n",
    "        for token in tokens:\n",
    "            f.write(token + '\\n')"
   ]
  },
  {
   "cell_type": "markdown",
   "metadata": {},
   "source": [
    "pulling article from medium"
   ]
  },
  {
   "cell_type": "code",
   "execution_count": 137,
   "metadata": {
    "collapsed": true
   },
   "outputs": [],
   "source": [
    "medium_site= \"https://medium.com/unthinkable-creativity/confessions-of-a-content-creator-i-dont-care-about-data-3542c2d9a3a5\"\n",
    "hdr = {'User-Agent': 'Mozilla/5.0'}\n",
    "req = Request(medium_site,headers=hdr)\n",
    "page = uReq(req)\n",
    "medium_soup = soup(page,\"html.parser\")\n",
    "medium_div_html = medium_soup.findAll(\"p\",{\"class\":\"graf graf--p graf-after--p\"})\n",
    "\n",
    "with open(\"medium.tsv\", \"w\") as f:\n",
    "    header = \"Sentence\\n\"\n",
    "    f.write(header)\n",
    "    for ptag in medium_div_html:\n",
    "        medium_ptag_text = ptag.get_text()\n",
    "#         print(medium_ptag_text)\n",
    "\n",
    "        tokens = tokenize.sent_tokenize(medium_ptag_text)\n",
    "        for token in tokens:\n",
    "            f.write(token + '\\n')\n",
    "#         f.write(token + '\\n')"
   ]
  },
  {
   "cell_type": "code",
   "execution_count": 3,
   "metadata": {
    "collapsed": true
   },
   "outputs": [],
   "source": [
    "podcast_article_site= \"https://artplusmarketing.com/why-you-really-should-give-podcasts-a-go-f021e6588a7e\"\n",
    "hdr = {'User-Agent': 'Mozilla/5.0'}\n",
    "req = Request(podcast_article_site,headers=hdr)\n",
    "page = uReq(req)\n",
    "podcast_article_soup = soup(page,\"html.parser\")\n",
    "podcast_article_ptags = podcast_article_soup.findAll(\"p\",{\"class\":\"graf graf--p graf-after--p\"})\n",
    "\n",
    "with open(\"podcast.tsv\", \"w\") as f:\n",
    "    header = \"Sentence\\n\"\n",
    "    f.write(header)\n",
    "    for ptag in podcast_article_ptags:\n",
    "        podcast_article_text = ptag.get_text()\n",
    "#         print(medium_ptag_text)\n",
    "\n",
    "        tokens = tokenize.sent_tokenize(podcast_article_text)\n",
    "        for token in tokens:\n",
    "            f.write(token + '\\n')\n",
    "#         f.write(token + '\\n')"
   ]
  },
  {
   "cell_type": "markdown",
   "metadata": {},
   "source": [
    "pull from blog post"
   ]
  },
  {
   "cell_type": "code",
   "execution_count": 8,
   "metadata": {
    "collapsed": true
   },
   "outputs": [],
   "source": [
    "blog_site= \"http://matpalm.com/blog/farewell/\"\n",
    "hdr = {'User-Agent': 'Mozilla/5.0'}\n",
    "req = Request(blog_site,headers=hdr)\n",
    "page = uReq(req)\n",
    "blog_soup = soup(page,\"html.parser\")\n",
    "blog_ptags = blog_soup.findAll(\"div\",{\"class\":\"post_prose\"})"
   ]
  },
  {
   "cell_type": "code",
   "execution_count": null,
   "metadata": {
    "collapsed": true
   },
   "outputs": [],
   "source": []
  },
  {
   "cell_type": "code",
   "execution_count": 12,
   "metadata": {},
   "outputs": [
    {
     "name": "stdout",
     "output_type": "stream",
     "text": [
      "[<div class=\"post_prose\">\n",
      "<p>after 2,350 days in america we are moving home...</p>\n",
      "<p>as crazy as it might sound, careerwise at least, i'm leaving google brain and we're moving back to australia. #sad<strike>Panda</strike>Kangaroo. it's been a super fun 6 years in the US but our move was never going to be permanent and it feels like now is the right time for the family. believe me it's hard to leave a joint google brain / X robotics project involving deep reinforcement learning robots. hard i say!</p>\n",
      "<p>where will we be going?  back to melbourne where we lived for the 6 years prior to coming here. we're keen to try something different so we've bought a farm about an hour out of the city. my wife and i both grew up in semi rural settings so we have some idea of what to expect. our kids are excited their backyard is about to grow by a factor of x250.</p>\n",
      "<p>what will i be doing?  i actually have no idea. i'm a pretty applied person, as opposed to a hardcore researcher, and have experience in a range of areas so my resume looks ok ( even if <a href=\"https://www.linkedin.com/in/matkelcey/\">my linkedin avatar is the i-have-no-idea-what-im-doing-dog</a> ) some recent robotics experience + lots of machine learning + moving to a farm might result in some interesting ideas. remote work is also a strong possibility; i think there is value i could add to a number of US companies even from across the ocean. to be honest i haven't thought about it too much yet, want to focus on getting everyone home as smoothly as possible first.</p>\n",
      "<p>what's the tech scene like in melbourne?  seemed fun when i was there, lots of smart people and i think interest in machine learning has only been growing. the tech talk i did at our little data science group just before moving here was half a dozen people, the tech talk i did in melbourne about 1 year ago was hundreds of people. when i did neural networks at uni in the late 90s it was embarrassing for the next 10 years to talk about it but these days it seems everyone is wanting to use them in some form. </p>\n",
      "<p>we have about 7 weeks before we leave the bay area so i hope i get to catch up with everyone before we go! beers in the city sometime soon!</p>\n",
      "</div>]\n"
     ]
    }
   ],
   "source": [
    "print(blog_ptags)"
   ]
  },
  {
   "cell_type": "code",
   "execution_count": null,
   "metadata": {},
   "outputs": [],
   "source": []
  },
  {
   "cell_type": "code",
   "execution_count": null,
   "metadata": {
    "collapsed": true
   },
   "outputs": [],
   "source": [
    "with open(\"blog.tsv\", \"w\") as f:\n",
    "    header = \"Sentence\\n\"\n",
    "    f.write(header)\n",
    "    for ptag in blog_ptags:\n",
    "        blog_text = ptag.get_text()\n",
    "#         print(medium_ptag_text)\n",
    "\n",
    "        tokens = tokenize.sent_tokenize(blog_text)\n",
    "        for token in tokens:\n",
    "            f.write(token + '\\n')\n",
    "#         f.write(token + '\\n')"
   ]
  },
  {
   "cell_type": "markdown",
   "metadata": {},
   "source": [
    "really had to read documentation for csv.writer, tokeniz.sent_tokenize,csv.writerow, csv.writerows"
   ]
  },
  {
   "cell_type": "code",
   "execution_count": 136,
   "metadata": {
    "collapsed": true
   },
   "outputs": [],
   "source": [
    "# with open('prayer_article3.tsv','r') as tsvin, open('new.tsv', 'w') as csvout:\n",
    "#     tsvin = csv.reader(tsvin, delimiter='\\t')\n",
    "#     csvout = csv.writer(csvout)\n",
    "\n",
    "#     for row in tsvin:\n",
    "#         str1 = ''.join(row)\n",
    "#         sentence = tokenize.sent_tokenize(str1)\n",
    "#         csvout.writerows(sentence)"
   ]
  },
  {
   "cell_type": "code",
   "execution_count": null,
   "metadata": {
    "collapsed": true
   },
   "outputs": [],
   "source": []
  },
  {
   "cell_type": "code",
   "execution_count": 8,
   "metadata": {
    "collapsed": true
   },
   "outputs": [],
   "source": []
  },
  {
   "cell_type": "code",
   "execution_count": null,
   "metadata": {
    "collapsed": true
   },
   "outputs": [],
   "source": [
    "#     for row in tsvin:\n",
    "#         str1 = ''.join(row)\n",
    "#         sentence = tokenize.sent_tokenize(str1)\n",
    "#         csvout.writerows(sentence)"
   ]
  },
  {
   "cell_type": "code",
   "execution_count": 98,
   "metadata": {
    "collapsed": true
   },
   "outputs": [],
   "source": [
    "# with open(\"prayer_article1_stripped.tsv\", \"w\") as f:\n",
    "#     header = \"Paragraph\\n\"\n",
    "#     f.write(header)\n",
    "#     for x in prayer_article_div_html:\n",
    "#         just_article = x.find('p').text\n",
    "#         f.write(just_article + '\\n')"
   ]
  },
  {
   "cell_type": "code",
   "execution_count": null,
   "metadata": {
    "collapsed": true
   },
   "outputs": [],
   "source": [
    "#from urllib.requests import Request"
   ]
  }
 ],
 "metadata": {
  "kernelspec": {
   "display_name": "Python 3",
   "language": "python",
   "name": "python3"
  },
  "language_info": {
   "codemirror_mode": {
    "name": "ipython",
    "version": 3
   },
   "file_extension": ".py",
   "mimetype": "text/x-python",
   "name": "python",
   "nbconvert_exporter": "python",
   "pygments_lexer": "ipython3",
   "version": "3.6.1"
  }
 },
 "nbformat": 4,
 "nbformat_minor": 2
}
